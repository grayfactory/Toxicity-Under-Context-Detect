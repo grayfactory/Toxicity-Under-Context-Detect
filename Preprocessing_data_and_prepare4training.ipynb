{
  "nbformat": 4,
  "nbformat_minor": 0,
  "metadata": {
    "colab": {
      "name": "Preprocessing_data_and_prepare4training.ipynb",
      "provenance": []
    },
    "kernelspec": {
      "name": "python3",
      "display_name": "Python 3"
    },
    "language_info": {
      "name": "python"
    },
    "widgets": {
      "application/vnd.jupyter.widget-state+json": {
        "00c75b1d3be04513a020d6a573167797": {
          "model_module": "@jupyter-widgets/controls",
          "model_name": "HBoxModel",
          "state": {
            "_view_name": "HBoxView",
            "_dom_classes": [],
            "_model_name": "HBoxModel",
            "_view_module": "@jupyter-widgets/controls",
            "_model_module_version": "1.5.0",
            "_view_count": null,
            "_view_module_version": "1.5.0",
            "box_style": "",
            "layout": "IPY_MODEL_09f1650d40224aab9e1394dc22597b17",
            "_model_module": "@jupyter-widgets/controls",
            "children": [
              "IPY_MODEL_fadb3555454e4a56bad39a3c919cc368",
              "IPY_MODEL_fa0abc0e2bb2482ea69a259864604266"
            ]
          }
        },
        "09f1650d40224aab9e1394dc22597b17": {
          "model_module": "@jupyter-widgets/base",
          "model_name": "LayoutModel",
          "state": {
            "_view_name": "LayoutView",
            "grid_template_rows": null,
            "right": null,
            "justify_content": null,
            "_view_module": "@jupyter-widgets/base",
            "overflow": null,
            "_model_module_version": "1.2.0",
            "_view_count": null,
            "flex_flow": null,
            "width": null,
            "min_width": null,
            "border": null,
            "align_items": null,
            "bottom": null,
            "_model_module": "@jupyter-widgets/base",
            "top": null,
            "grid_column": null,
            "overflow_y": null,
            "overflow_x": null,
            "grid_auto_flow": null,
            "grid_area": null,
            "grid_template_columns": null,
            "flex": null,
            "_model_name": "LayoutModel",
            "justify_items": null,
            "grid_row": null,
            "max_height": null,
            "align_content": null,
            "visibility": null,
            "align_self": null,
            "height": null,
            "min_height": null,
            "padding": null,
            "grid_auto_rows": null,
            "grid_gap": null,
            "max_width": null,
            "order": null,
            "_view_module_version": "1.2.0",
            "grid_template_areas": null,
            "object_position": null,
            "object_fit": null,
            "grid_auto_columns": null,
            "margin": null,
            "display": null,
            "left": null
          }
        },
        "fadb3555454e4a56bad39a3c919cc368": {
          "model_module": "@jupyter-widgets/controls",
          "model_name": "FloatProgressModel",
          "state": {
            "_view_name": "ProgressView",
            "style": "IPY_MODEL_3fdb0cabd43f44d4bae9272f746c4788",
            "_dom_classes": [],
            "description": "Downloading: ",
            "_model_name": "FloatProgressModel",
            "bar_style": "success",
            "max": 1445,
            "_view_module": "@jupyter-widgets/controls",
            "_model_module_version": "1.5.0",
            "value": 1445,
            "_view_count": null,
            "_view_module_version": "1.5.0",
            "orientation": "horizontal",
            "min": 0,
            "description_tooltip": null,
            "_model_module": "@jupyter-widgets/controls",
            "layout": "IPY_MODEL_04d6e977bff1407d84300171d7f62cdb"
          }
        },
        "fa0abc0e2bb2482ea69a259864604266": {
          "model_module": "@jupyter-widgets/controls",
          "model_name": "HTMLModel",
          "state": {
            "_view_name": "HTMLView",
            "style": "IPY_MODEL_ddd57a5e818b4097b8bc89fd0840c287",
            "_dom_classes": [],
            "description": "",
            "_model_name": "HTMLModel",
            "placeholder": "​",
            "_view_module": "@jupyter-widgets/controls",
            "_model_module_version": "1.5.0",
            "value": " 3.14k/? [00:01&lt;00:00, 2.58kB/s]",
            "_view_count": null,
            "_view_module_version": "1.5.0",
            "description_tooltip": null,
            "_model_module": "@jupyter-widgets/controls",
            "layout": "IPY_MODEL_4b2ecfe09b9144c5952ff59c92b4a9cb"
          }
        },
        "3fdb0cabd43f44d4bae9272f746c4788": {
          "model_module": "@jupyter-widgets/controls",
          "model_name": "ProgressStyleModel",
          "state": {
            "_view_name": "StyleView",
            "_model_name": "ProgressStyleModel",
            "description_width": "initial",
            "_view_module": "@jupyter-widgets/base",
            "_model_module_version": "1.5.0",
            "_view_count": null,
            "_view_module_version": "1.2.0",
            "bar_color": null,
            "_model_module": "@jupyter-widgets/controls"
          }
        },
        "04d6e977bff1407d84300171d7f62cdb": {
          "model_module": "@jupyter-widgets/base",
          "model_name": "LayoutModel",
          "state": {
            "_view_name": "LayoutView",
            "grid_template_rows": null,
            "right": null,
            "justify_content": null,
            "_view_module": "@jupyter-widgets/base",
            "overflow": null,
            "_model_module_version": "1.2.0",
            "_view_count": null,
            "flex_flow": null,
            "width": null,
            "min_width": null,
            "border": null,
            "align_items": null,
            "bottom": null,
            "_model_module": "@jupyter-widgets/base",
            "top": null,
            "grid_column": null,
            "overflow_y": null,
            "overflow_x": null,
            "grid_auto_flow": null,
            "grid_area": null,
            "grid_template_columns": null,
            "flex": null,
            "_model_name": "LayoutModel",
            "justify_items": null,
            "grid_row": null,
            "max_height": null,
            "align_content": null,
            "visibility": null,
            "align_self": null,
            "height": null,
            "min_height": null,
            "padding": null,
            "grid_auto_rows": null,
            "grid_gap": null,
            "max_width": null,
            "order": null,
            "_view_module_version": "1.2.0",
            "grid_template_areas": null,
            "object_position": null,
            "object_fit": null,
            "grid_auto_columns": null,
            "margin": null,
            "display": null,
            "left": null
          }
        },
        "ddd57a5e818b4097b8bc89fd0840c287": {
          "model_module": "@jupyter-widgets/controls",
          "model_name": "DescriptionStyleModel",
          "state": {
            "_view_name": "StyleView",
            "_model_name": "DescriptionStyleModel",
            "description_width": "",
            "_view_module": "@jupyter-widgets/base",
            "_model_module_version": "1.5.0",
            "_view_count": null,
            "_view_module_version": "1.2.0",
            "_model_module": "@jupyter-widgets/controls"
          }
        },
        "4b2ecfe09b9144c5952ff59c92b4a9cb": {
          "model_module": "@jupyter-widgets/base",
          "model_name": "LayoutModel",
          "state": {
            "_view_name": "LayoutView",
            "grid_template_rows": null,
            "right": null,
            "justify_content": null,
            "_view_module": "@jupyter-widgets/base",
            "overflow": null,
            "_model_module_version": "1.2.0",
            "_view_count": null,
            "flex_flow": null,
            "width": null,
            "min_width": null,
            "border": null,
            "align_items": null,
            "bottom": null,
            "_model_module": "@jupyter-widgets/base",
            "top": null,
            "grid_column": null,
            "overflow_y": null,
            "overflow_x": null,
            "grid_auto_flow": null,
            "grid_area": null,
            "grid_template_columns": null,
            "flex": null,
            "_model_name": "LayoutModel",
            "justify_items": null,
            "grid_row": null,
            "max_height": null,
            "align_content": null,
            "visibility": null,
            "align_self": null,
            "height": null,
            "min_height": null,
            "padding": null,
            "grid_auto_rows": null,
            "grid_gap": null,
            "max_width": null,
            "order": null,
            "_view_module_version": "1.2.0",
            "grid_template_areas": null,
            "object_position": null,
            "object_fit": null,
            "grid_auto_columns": null,
            "margin": null,
            "display": null,
            "left": null
          }
        },
        "a882ce30dd4c41d99c15ab17fcb74ac6": {
          "model_module": "@jupyter-widgets/controls",
          "model_name": "HBoxModel",
          "state": {
            "_view_name": "HBoxView",
            "_dom_classes": [],
            "_model_name": "HBoxModel",
            "_view_module": "@jupyter-widgets/controls",
            "_model_module_version": "1.5.0",
            "_view_count": null,
            "_view_module_version": "1.5.0",
            "box_style": "",
            "layout": "IPY_MODEL_85ec3ce7ab184c9c8e3fe5cf477bf7d1",
            "_model_module": "@jupyter-widgets/controls",
            "children": [
              "IPY_MODEL_40e2762e5a1449699f2e6a96239afb62",
              "IPY_MODEL_f291e90049534c909aa9b09ec2d59581"
            ]
          }
        },
        "85ec3ce7ab184c9c8e3fe5cf477bf7d1": {
          "model_module": "@jupyter-widgets/base",
          "model_name": "LayoutModel",
          "state": {
            "_view_name": "LayoutView",
            "grid_template_rows": null,
            "right": null,
            "justify_content": null,
            "_view_module": "@jupyter-widgets/base",
            "overflow": null,
            "_model_module_version": "1.2.0",
            "_view_count": null,
            "flex_flow": null,
            "width": null,
            "min_width": null,
            "border": null,
            "align_items": null,
            "bottom": null,
            "_model_module": "@jupyter-widgets/base",
            "top": null,
            "grid_column": null,
            "overflow_y": null,
            "overflow_x": null,
            "grid_auto_flow": null,
            "grid_area": null,
            "grid_template_columns": null,
            "flex": null,
            "_model_name": "LayoutModel",
            "justify_items": null,
            "grid_row": null,
            "max_height": null,
            "align_content": null,
            "visibility": null,
            "align_self": null,
            "height": null,
            "min_height": null,
            "padding": null,
            "grid_auto_rows": null,
            "grid_gap": null,
            "max_width": null,
            "order": null,
            "_view_module_version": "1.2.0",
            "grid_template_areas": null,
            "object_position": null,
            "object_fit": null,
            "grid_auto_columns": null,
            "margin": null,
            "display": null,
            "left": null
          }
        },
        "40e2762e5a1449699f2e6a96239afb62": {
          "model_module": "@jupyter-widgets/controls",
          "model_name": "FloatProgressModel",
          "state": {
            "_view_name": "ProgressView",
            "style": "IPY_MODEL_e717db7e90ce442bb2eb4e9fcb4ef2f4",
            "_dom_classes": [],
            "description": "Downloading: ",
            "_model_name": "FloatProgressModel",
            "bar_style": "success",
            "max": 881,
            "_view_module": "@jupyter-widgets/controls",
            "_model_module_version": "1.5.0",
            "value": 881,
            "_view_count": null,
            "_view_module_version": "1.5.0",
            "orientation": "horizontal",
            "min": 0,
            "description_tooltip": null,
            "_model_module": "@jupyter-widgets/controls",
            "layout": "IPY_MODEL_77c82b049238434cb2f1c82fba4df0b2"
          }
        },
        "f291e90049534c909aa9b09ec2d59581": {
          "model_module": "@jupyter-widgets/controls",
          "model_name": "HTMLModel",
          "state": {
            "_view_name": "HTMLView",
            "style": "IPY_MODEL_faad58a136bc46c881c9239eadc1ad0f",
            "_dom_classes": [],
            "description": "",
            "_model_name": "HTMLModel",
            "placeholder": "​",
            "_view_module": "@jupyter-widgets/controls",
            "_model_module_version": "1.5.0",
            "value": " 1.84k/? [00:00&lt;00:00, 24.0kB/s]",
            "_view_count": null,
            "_view_module_version": "1.5.0",
            "description_tooltip": null,
            "_model_module": "@jupyter-widgets/controls",
            "layout": "IPY_MODEL_59caa223a642488093083cdb9db06dfe"
          }
        },
        "e717db7e90ce442bb2eb4e9fcb4ef2f4": {
          "model_module": "@jupyter-widgets/controls",
          "model_name": "ProgressStyleModel",
          "state": {
            "_view_name": "StyleView",
            "_model_name": "ProgressStyleModel",
            "description_width": "initial",
            "_view_module": "@jupyter-widgets/base",
            "_model_module_version": "1.5.0",
            "_view_count": null,
            "_view_module_version": "1.2.0",
            "bar_color": null,
            "_model_module": "@jupyter-widgets/controls"
          }
        },
        "77c82b049238434cb2f1c82fba4df0b2": {
          "model_module": "@jupyter-widgets/base",
          "model_name": "LayoutModel",
          "state": {
            "_view_name": "LayoutView",
            "grid_template_rows": null,
            "right": null,
            "justify_content": null,
            "_view_module": "@jupyter-widgets/base",
            "overflow": null,
            "_model_module_version": "1.2.0",
            "_view_count": null,
            "flex_flow": null,
            "width": null,
            "min_width": null,
            "border": null,
            "align_items": null,
            "bottom": null,
            "_model_module": "@jupyter-widgets/base",
            "top": null,
            "grid_column": null,
            "overflow_y": null,
            "overflow_x": null,
            "grid_auto_flow": null,
            "grid_area": null,
            "grid_template_columns": null,
            "flex": null,
            "_model_name": "LayoutModel",
            "justify_items": null,
            "grid_row": null,
            "max_height": null,
            "align_content": null,
            "visibility": null,
            "align_self": null,
            "height": null,
            "min_height": null,
            "padding": null,
            "grid_auto_rows": null,
            "grid_gap": null,
            "max_width": null,
            "order": null,
            "_view_module_version": "1.2.0",
            "grid_template_areas": null,
            "object_position": null,
            "object_fit": null,
            "grid_auto_columns": null,
            "margin": null,
            "display": null,
            "left": null
          }
        },
        "faad58a136bc46c881c9239eadc1ad0f": {
          "model_module": "@jupyter-widgets/controls",
          "model_name": "DescriptionStyleModel",
          "state": {
            "_view_name": "StyleView",
            "_model_name": "DescriptionStyleModel",
            "description_width": "",
            "_view_module": "@jupyter-widgets/base",
            "_model_module_version": "1.5.0",
            "_view_count": null,
            "_view_module_version": "1.2.0",
            "_model_module": "@jupyter-widgets/controls"
          }
        },
        "59caa223a642488093083cdb9db06dfe": {
          "model_module": "@jupyter-widgets/base",
          "model_name": "LayoutModel",
          "state": {
            "_view_name": "LayoutView",
            "grid_template_rows": null,
            "right": null,
            "justify_content": null,
            "_view_module": "@jupyter-widgets/base",
            "overflow": null,
            "_model_module_version": "1.2.0",
            "_view_count": null,
            "flex_flow": null,
            "width": null,
            "min_width": null,
            "border": null,
            "align_items": null,
            "bottom": null,
            "_model_module": "@jupyter-widgets/base",
            "top": null,
            "grid_column": null,
            "overflow_y": null,
            "overflow_x": null,
            "grid_auto_flow": null,
            "grid_area": null,
            "grid_template_columns": null,
            "flex": null,
            "_model_name": "LayoutModel",
            "justify_items": null,
            "grid_row": null,
            "max_height": null,
            "align_content": null,
            "visibility": null,
            "align_self": null,
            "height": null,
            "min_height": null,
            "padding": null,
            "grid_auto_rows": null,
            "grid_gap": null,
            "max_width": null,
            "order": null,
            "_view_module_version": "1.2.0",
            "grid_template_areas": null,
            "object_position": null,
            "object_fit": null,
            "grid_auto_columns": null,
            "margin": null,
            "display": null,
            "left": null
          }
        },
        "ceb4fd2119af453bb636662a4b482851": {
          "model_module": "@jupyter-widgets/controls",
          "model_name": "HBoxModel",
          "state": {
            "_view_name": "HBoxView",
            "_dom_classes": [],
            "_model_name": "HBoxModel",
            "_view_module": "@jupyter-widgets/controls",
            "_model_module_version": "1.5.0",
            "_view_count": null,
            "_view_module_version": "1.5.0",
            "box_style": "",
            "layout": "IPY_MODEL_c60ec62f1b26429cafca1988c4031f13",
            "_model_module": "@jupyter-widgets/controls",
            "children": [
              "IPY_MODEL_84d759a25ff941f281f91f7990b3be2d",
              "IPY_MODEL_70dc24207c8448bb8bdd823614ff4aa8"
            ]
          }
        },
        "c60ec62f1b26429cafca1988c4031f13": {
          "model_module": "@jupyter-widgets/base",
          "model_name": "LayoutModel",
          "state": {
            "_view_name": "LayoutView",
            "grid_template_rows": null,
            "right": null,
            "justify_content": null,
            "_view_module": "@jupyter-widgets/base",
            "overflow": null,
            "_model_module_version": "1.2.0",
            "_view_count": null,
            "flex_flow": null,
            "width": null,
            "min_width": null,
            "border": null,
            "align_items": null,
            "bottom": null,
            "_model_module": "@jupyter-widgets/base",
            "top": null,
            "grid_column": null,
            "overflow_y": null,
            "overflow_x": null,
            "grid_auto_flow": null,
            "grid_area": null,
            "grid_template_columns": null,
            "flex": null,
            "_model_name": "LayoutModel",
            "justify_items": null,
            "grid_row": null,
            "max_height": null,
            "align_content": null,
            "visibility": null,
            "align_self": null,
            "height": null,
            "min_height": null,
            "padding": null,
            "grid_auto_rows": null,
            "grid_gap": null,
            "max_width": null,
            "order": null,
            "_view_module_version": "1.2.0",
            "grid_template_areas": null,
            "object_position": null,
            "object_fit": null,
            "grid_auto_columns": null,
            "margin": null,
            "display": null,
            "left": null
          }
        },
        "84d759a25ff941f281f91f7990b3be2d": {
          "model_module": "@jupyter-widgets/controls",
          "model_name": "FloatProgressModel",
          "state": {
            "_view_name": "ProgressView",
            "style": "IPY_MODEL_478c36b0fa344ddb8b032e2f7ce11af3",
            "_dom_classes": [],
            "description": "Downloading: ",
            "_model_name": "FloatProgressModel",
            "bar_style": "success",
            "max": 1276746,
            "_view_module": "@jupyter-widgets/controls",
            "_model_module_version": "1.5.0",
            "value": 1276746,
            "_view_count": null,
            "_view_module_version": "1.5.0",
            "orientation": "horizontal",
            "min": 0,
            "description_tooltip": null,
            "_model_module": "@jupyter-widgets/controls",
            "layout": "IPY_MODEL_45e13418b8c94d28bd67205a0902268b"
          }
        },
        "70dc24207c8448bb8bdd823614ff4aa8": {
          "model_module": "@jupyter-widgets/controls",
          "model_name": "HTMLModel",
          "state": {
            "_view_name": "HTMLView",
            "style": "IPY_MODEL_db196c29d61f45a0a6c0d3625096727a",
            "_dom_classes": [],
            "description": "",
            "_model_name": "HTMLModel",
            "placeholder": "​",
            "_view_module": "@jupyter-widgets/controls",
            "_model_module_version": "1.5.0",
            "value": " 3.10M/? [00:00&lt;00:00, 12.5MB/s]",
            "_view_count": null,
            "_view_module_version": "1.5.0",
            "description_tooltip": null,
            "_model_module": "@jupyter-widgets/controls",
            "layout": "IPY_MODEL_4f97c2e25b064de7be3f6e031e5b9fdc"
          }
        },
        "478c36b0fa344ddb8b032e2f7ce11af3": {
          "model_module": "@jupyter-widgets/controls",
          "model_name": "ProgressStyleModel",
          "state": {
            "_view_name": "StyleView",
            "_model_name": "ProgressStyleModel",
            "description_width": "initial",
            "_view_module": "@jupyter-widgets/base",
            "_model_module_version": "1.5.0",
            "_view_count": null,
            "_view_module_version": "1.2.0",
            "bar_color": null,
            "_model_module": "@jupyter-widgets/controls"
          }
        },
        "45e13418b8c94d28bd67205a0902268b": {
          "model_module": "@jupyter-widgets/base",
          "model_name": "LayoutModel",
          "state": {
            "_view_name": "LayoutView",
            "grid_template_rows": null,
            "right": null,
            "justify_content": null,
            "_view_module": "@jupyter-widgets/base",
            "overflow": null,
            "_model_module_version": "1.2.0",
            "_view_count": null,
            "flex_flow": null,
            "width": null,
            "min_width": null,
            "border": null,
            "align_items": null,
            "bottom": null,
            "_model_module": "@jupyter-widgets/base",
            "top": null,
            "grid_column": null,
            "overflow_y": null,
            "overflow_x": null,
            "grid_auto_flow": null,
            "grid_area": null,
            "grid_template_columns": null,
            "flex": null,
            "_model_name": "LayoutModel",
            "justify_items": null,
            "grid_row": null,
            "max_height": null,
            "align_content": null,
            "visibility": null,
            "align_self": null,
            "height": null,
            "min_height": null,
            "padding": null,
            "grid_auto_rows": null,
            "grid_gap": null,
            "max_width": null,
            "order": null,
            "_view_module_version": "1.2.0",
            "grid_template_areas": null,
            "object_position": null,
            "object_fit": null,
            "grid_auto_columns": null,
            "margin": null,
            "display": null,
            "left": null
          }
        },
        "db196c29d61f45a0a6c0d3625096727a": {
          "model_module": "@jupyter-widgets/controls",
          "model_name": "DescriptionStyleModel",
          "state": {
            "_view_name": "StyleView",
            "_model_name": "DescriptionStyleModel",
            "description_width": "",
            "_view_module": "@jupyter-widgets/base",
            "_model_module_version": "1.5.0",
            "_view_count": null,
            "_view_module_version": "1.2.0",
            "_model_module": "@jupyter-widgets/controls"
          }
        },
        "4f97c2e25b064de7be3f6e031e5b9fdc": {
          "model_module": "@jupyter-widgets/base",
          "model_name": "LayoutModel",
          "state": {
            "_view_name": "LayoutView",
            "grid_template_rows": null,
            "right": null,
            "justify_content": null,
            "_view_module": "@jupyter-widgets/base",
            "overflow": null,
            "_model_module_version": "1.2.0",
            "_view_count": null,
            "flex_flow": null,
            "width": null,
            "min_width": null,
            "border": null,
            "align_items": null,
            "bottom": null,
            "_model_module": "@jupyter-widgets/base",
            "top": null,
            "grid_column": null,
            "overflow_y": null,
            "overflow_x": null,
            "grid_auto_flow": null,
            "grid_area": null,
            "grid_template_columns": null,
            "flex": null,
            "_model_name": "LayoutModel",
            "justify_items": null,
            "grid_row": null,
            "max_height": null,
            "align_content": null,
            "visibility": null,
            "align_self": null,
            "height": null,
            "min_height": null,
            "padding": null,
            "grid_auto_rows": null,
            "grid_gap": null,
            "max_width": null,
            "order": null,
            "_view_module_version": "1.2.0",
            "grid_template_areas": null,
            "object_position": null,
            "object_fit": null,
            "grid_auto_columns": null,
            "margin": null,
            "display": null,
            "left": null
          }
        },
        "d41f8c787e434e5aa2e585280548f0fb": {
          "model_module": "@jupyter-widgets/controls",
          "model_name": "HBoxModel",
          "state": {
            "_view_name": "HBoxView",
            "_dom_classes": [],
            "_model_name": "HBoxModel",
            "_view_module": "@jupyter-widgets/controls",
            "_model_module_version": "1.5.0",
            "_view_count": null,
            "_view_module_version": "1.5.0",
            "box_style": "",
            "layout": "IPY_MODEL_0a9fcfb7e0bf47a18bbb3cbb07982b01",
            "_model_module": "@jupyter-widgets/controls",
            "children": [
              "IPY_MODEL_c14e9a5e8b8f4cd3a9d75feabcabbeba",
              "IPY_MODEL_9976c98a0a884c1c9eeda9a40ba23578"
            ]
          }
        },
        "0a9fcfb7e0bf47a18bbb3cbb07982b01": {
          "model_module": "@jupyter-widgets/base",
          "model_name": "LayoutModel",
          "state": {
            "_view_name": "LayoutView",
            "grid_template_rows": null,
            "right": null,
            "justify_content": null,
            "_view_module": "@jupyter-widgets/base",
            "overflow": null,
            "_model_module_version": "1.2.0",
            "_view_count": null,
            "flex_flow": null,
            "width": null,
            "min_width": null,
            "border": null,
            "align_items": null,
            "bottom": null,
            "_model_module": "@jupyter-widgets/base",
            "top": null,
            "grid_column": null,
            "overflow_y": null,
            "overflow_x": null,
            "grid_auto_flow": null,
            "grid_area": null,
            "grid_template_columns": null,
            "flex": null,
            "_model_name": "LayoutModel",
            "justify_items": null,
            "grid_row": null,
            "max_height": null,
            "align_content": null,
            "visibility": null,
            "align_self": null,
            "height": null,
            "min_height": null,
            "padding": null,
            "grid_auto_rows": null,
            "grid_gap": null,
            "max_width": null,
            "order": null,
            "_view_module_version": "1.2.0",
            "grid_template_areas": null,
            "object_position": null,
            "object_fit": null,
            "grid_auto_columns": null,
            "margin": null,
            "display": null,
            "left": null
          }
        },
        "c14e9a5e8b8f4cd3a9d75feabcabbeba": {
          "model_module": "@jupyter-widgets/controls",
          "model_name": "FloatProgressModel",
          "state": {
            "_view_name": "ProgressView",
            "style": "IPY_MODEL_ff9e032dd3524b07bb69f08882a219c9",
            "_dom_classes": [],
            "description": "",
            "_model_name": "FloatProgressModel",
            "bar_style": "info",
            "max": 1,
            "_view_module": "@jupyter-widgets/controls",
            "_model_module_version": "1.5.0",
            "value": 1,
            "_view_count": null,
            "_view_module_version": "1.5.0",
            "orientation": "horizontal",
            "min": 0,
            "description_tooltip": null,
            "_model_module": "@jupyter-widgets/controls",
            "layout": "IPY_MODEL_72126b639b7c47879868181f0f16affc"
          }
        },
        "9976c98a0a884c1c9eeda9a40ba23578": {
          "model_module": "@jupyter-widgets/controls",
          "model_name": "HTMLModel",
          "state": {
            "_view_name": "HTMLView",
            "style": "IPY_MODEL_262580954e0d43fea3107b6bdcf65965",
            "_dom_classes": [],
            "description": "",
            "_model_name": "HTMLModel",
            "placeholder": "​",
            "_view_module": "@jupyter-widgets/controls",
            "_model_module_version": "1.5.0",
            "value": " 31962/0 [00:00&lt;00:00, 31011.16 examples/s]",
            "_view_count": null,
            "_view_module_version": "1.5.0",
            "description_tooltip": null,
            "_model_module": "@jupyter-widgets/controls",
            "layout": "IPY_MODEL_ba129b9777b64e34833d06dd7083ee1a"
          }
        },
        "ff9e032dd3524b07bb69f08882a219c9": {
          "model_module": "@jupyter-widgets/controls",
          "model_name": "ProgressStyleModel",
          "state": {
            "_view_name": "StyleView",
            "_model_name": "ProgressStyleModel",
            "description_width": "initial",
            "_view_module": "@jupyter-widgets/base",
            "_model_module_version": "1.5.0",
            "_view_count": null,
            "_view_module_version": "1.2.0",
            "bar_color": null,
            "_model_module": "@jupyter-widgets/controls"
          }
        },
        "72126b639b7c47879868181f0f16affc": {
          "model_module": "@jupyter-widgets/base",
          "model_name": "LayoutModel",
          "state": {
            "_view_name": "LayoutView",
            "grid_template_rows": null,
            "right": null,
            "justify_content": null,
            "_view_module": "@jupyter-widgets/base",
            "overflow": null,
            "_model_module_version": "1.2.0",
            "_view_count": null,
            "flex_flow": null,
            "width": null,
            "min_width": null,
            "border": null,
            "align_items": null,
            "bottom": null,
            "_model_module": "@jupyter-widgets/base",
            "top": null,
            "grid_column": null,
            "overflow_y": null,
            "overflow_x": null,
            "grid_auto_flow": null,
            "grid_area": null,
            "grid_template_columns": null,
            "flex": null,
            "_model_name": "LayoutModel",
            "justify_items": null,
            "grid_row": null,
            "max_height": null,
            "align_content": null,
            "visibility": null,
            "align_self": null,
            "height": null,
            "min_height": null,
            "padding": null,
            "grid_auto_rows": null,
            "grid_gap": null,
            "max_width": null,
            "order": null,
            "_view_module_version": "1.2.0",
            "grid_template_areas": null,
            "object_position": null,
            "object_fit": null,
            "grid_auto_columns": null,
            "margin": null,
            "display": null,
            "left": null
          }
        },
        "262580954e0d43fea3107b6bdcf65965": {
          "model_module": "@jupyter-widgets/controls",
          "model_name": "DescriptionStyleModel",
          "state": {
            "_view_name": "StyleView",
            "_model_name": "DescriptionStyleModel",
            "description_width": "",
            "_view_module": "@jupyter-widgets/base",
            "_model_module_version": "1.5.0",
            "_view_count": null,
            "_view_module_version": "1.2.0",
            "_model_module": "@jupyter-widgets/controls"
          }
        },
        "ba129b9777b64e34833d06dd7083ee1a": {
          "model_module": "@jupyter-widgets/base",
          "model_name": "LayoutModel",
          "state": {
            "_view_name": "LayoutView",
            "grid_template_rows": null,
            "right": null,
            "justify_content": null,
            "_view_module": "@jupyter-widgets/base",
            "overflow": null,
            "_model_module_version": "1.2.0",
            "_view_count": null,
            "flex_flow": null,
            "width": null,
            "min_width": null,
            "border": null,
            "align_items": null,
            "bottom": null,
            "_model_module": "@jupyter-widgets/base",
            "top": null,
            "grid_column": null,
            "overflow_y": null,
            "overflow_x": null,
            "grid_auto_flow": null,
            "grid_area": null,
            "grid_template_columns": null,
            "flex": null,
            "_model_name": "LayoutModel",
            "justify_items": null,
            "grid_row": null,
            "max_height": null,
            "align_content": null,
            "visibility": null,
            "align_self": null,
            "height": null,
            "min_height": null,
            "padding": null,
            "grid_auto_rows": null,
            "grid_gap": null,
            "max_width": null,
            "order": null,
            "_view_module_version": "1.2.0",
            "grid_template_areas": null,
            "object_position": null,
            "object_fit": null,
            "grid_auto_columns": null,
            "margin": null,
            "display": null,
            "left": null
          }
        }
      }
    }
  },
  "cells": [
    {
      "cell_type": "markdown",
      "metadata": {
        "id": "OOSXtbiDYF3F"
      },
      "source": [
        "# Preprocessign data sets"
      ]
    },
    {
      "cell_type": "markdown",
      "metadata": {
        "id": "tzGVzla1aRpK"
      },
      "source": [
        "## 1. Clean Up Pavlopoulos(2020)\n",
        "- 공개 데이터셋, Pavlopoulos et al,. 2020. Toxicity Detection: Does Context Really Matter?.\n",
        "- 이모지, URL, \\t,\\s와 같은 tag 만 제거하였음."
      ]
    },
    {
      "cell_type": "code",
      "metadata": {
        "colab": {
          "base_uri": "https://localhost:8080/"
        },
        "id": "yxkUUtu7UC41",
        "outputId": "642237f9-7ee8-4763-be14-b101b7ff8955"
      },
      "source": [
        "!wget https://raw.githubusercontent.com/ipavlopoulos/context_toxicity/master/data/CAT_LARGE/gc.csv gc.csv\n",
        "\n",
        "import pandas as pd\n",
        "import re"
      ],
      "execution_count": null,
      "outputs": [
        {
          "output_type": "stream",
          "text": [
            "--2021-07-13 04:53:24--  https://raw.githubusercontent.com/ipavlopoulos/context_toxicity/master/data/CAT_LARGE/gc.csv\n",
            "Resolving raw.githubusercontent.com (raw.githubusercontent.com)... 185.199.108.133, 185.199.109.133, 185.199.110.133, ...\n",
            "Connecting to raw.githubusercontent.com (raw.githubusercontent.com)|185.199.108.133|:443... connected.\n",
            "HTTP request sent, awaiting response... 200 OK\n",
            "Length: 3697430 (3.5M) [text/plain]\n",
            "Saving to: ‘gc.csv’\n",
            "\n",
            "gc.csv              100%[===================>]   3.53M  14.4MB/s    in 0.2s    \n",
            "\n",
            "2021-07-13 04:53:24 (14.4 MB/s) - ‘gc.csv’ saved [3697430/3697430]\n",
            "\n",
            "--2021-07-13 04:53:24--  http://gc.csv/\n",
            "Resolving gc.csv (gc.csv)... failed: Name or service not known.\n",
            "wget: unable to resolve host address ‘gc.csv’\n",
            "FINISHED --2021-07-13 04:53:24--\n",
            "Total wall clock time: 0.7s\n",
            "Downloaded: 1 files, 3.5M in 0.2s (14.4 MB/s)\n"
          ],
          "name": "stdout"
        }
      ]
    },
    {
      "cell_type": "code",
      "metadata": {
        "colab": {
          "base_uri": "https://localhost:8080/",
          "height": 289
        },
        "id": "tZ2JslNjzS8m",
        "outputId": "f9de7819-421d-464a-98a0-5129407ce583"
      },
      "source": [
        "df = pd.read_csv('gc.csv')\n",
        "df.head()"
      ],
      "execution_count": null,
      "outputs": [
        {
          "output_type": "execute_result",
          "data": {
            "text/html": [
              "<div>\n",
              "<style scoped>\n",
              "    .dataframe tbody tr th:only-of-type {\n",
              "        vertical-align: middle;\n",
              "    }\n",
              "\n",
              "    .dataframe tbody tr th {\n",
              "        vertical-align: top;\n",
              "    }\n",
              "\n",
              "    .dataframe thead th {\n",
              "        text-align: right;\n",
              "    }\n",
              "</style>\n",
              "<table border=\"1\" class=\"dataframe\">\n",
              "  <thead>\n",
              "    <tr style=\"text-align: right;\">\n",
              "      <th></th>\n",
              "      <th>id</th>\n",
              "      <th>text</th>\n",
              "      <th>parent</th>\n",
              "      <th>label</th>\n",
              "      <th>api</th>\n",
              "    </tr>\n",
              "  </thead>\n",
              "  <tbody>\n",
              "    <tr>\n",
              "      <th>0</th>\n",
              "      <td>100030037.40314.40314</td>\n",
              "      <td>BTW, I see no \"attack\" here.  What I see is so...</td>\n",
              "      <td>I also feel its important for StuRat to have h...</td>\n",
              "      <td>0</td>\n",
              "      <td>0.1323</td>\n",
              "    </tr>\n",
              "    <tr>\n",
              "      <th>1</th>\n",
              "      <td>100104685.102437.102437</td>\n",
              "      <td>I realise... I just want to urge caution and a...</td>\n",
              "      <td>A main reason this project was started was to ...</td>\n",
              "      <td>0</td>\n",
              "      <td>0.0314</td>\n",
              "    </tr>\n",
              "    <tr>\n",
              "      <th>2</th>\n",
              "      <td>100189373.112824.112824</td>\n",
              "      <td>I should have stressed that this should be a t...</td>\n",
              "      <td>I'd go for that. (By the way, not all deletion...</td>\n",
              "      <td>0</td>\n",
              "      <td>0.2229</td>\n",
              "    </tr>\n",
              "    <tr>\n",
              "      <th>3</th>\n",
              "      <td>100203140.40393.40393</td>\n",
              "      <td>Thanks to Lysy for shortening and copy editing...</td>\n",
              "      <td>(edit conflict with Piotrus) I agree with the...</td>\n",
              "      <td>0</td>\n",
              "      <td>0.0559</td>\n",
              "    </tr>\n",
              "    <tr>\n",
              "      <th>4</th>\n",
              "      <td>100214962.61084.61084</td>\n",
              "      <td>I like the additional info in the info box. I...</td>\n",
              "      <td>The larger box displays fine in Mozilla Firefo...</td>\n",
              "      <td>0</td>\n",
              "      <td>0.0539</td>\n",
              "    </tr>\n",
              "  </tbody>\n",
              "</table>\n",
              "</div>"
            ],
            "text/plain": [
              "                        id  ...     api\n",
              "0    100030037.40314.40314  ...  0.1323\n",
              "1  100104685.102437.102437  ...  0.0314\n",
              "2  100189373.112824.112824  ...  0.2229\n",
              "3    100203140.40393.40393  ...  0.0559\n",
              "4    100214962.61084.61084  ...  0.0539\n",
              "\n",
              "[5 rows x 5 columns]"
            ]
          },
          "metadata": {
            "tags": []
          },
          "execution_count": 2
        }
      ]
    },
    {
      "cell_type": "code",
      "metadata": {
        "id": "qZtFeEaEy08f",
        "colab": {
          "base_uri": "https://localhost:8080/"
        },
        "outputId": "9a32f2e0-50dc-490c-d318-54c7241c7a08"
      },
      "source": [
        "df.label.value_counts()"
      ],
      "execution_count": null,
      "outputs": [
        {
          "output_type": "execute_result",
          "data": {
            "text/plain": [
              "0    9849\n",
              "1     151\n",
              "Name: label, dtype: int64"
            ]
          },
          "metadata": {
            "tags": []
          },
          "execution_count": 3
        }
      ]
    },
    {
      "cell_type": "code",
      "metadata": {
        "id": "caDLqrG-zseU"
      },
      "source": [
        "def remove_emoji_gc(string):\n",
        "    emoji_pattern = re.compile(\"[\"\n",
        "                               u\"\\U0001F600-\\U0001F64F\"  # emoticons\n",
        "                               u\"\\U0001F300-\\U0001F5FF\"  # symbols & pictographs\n",
        "                               u\"\\U0001F680-\\U0001F6FF\"  # transport & map symbols\n",
        "                               u\"\\U0001F1E0-\\U0001F1FF\"  # flags (iOS)\n",
        "                               u\"\\U00002500-\\U00002BEF\"  # chinese char\n",
        "                               u\"\\U00002702-\\U000027B0\"\n",
        "                               u\"\\U00002702-\\U000027B0\"\n",
        "                               u\"\\U000024C2-\\U0001F251\"\n",
        "                               u\"\\U0001f926-\\U0001f937\"\n",
        "                               u\"\\U00010000-\\U0010ffff\"\n",
        "                               u\"\\u2640-\\u2642\"\n",
        "                               u\"\\u2600-\\u2B55\"\n",
        "                               u\"\\u200d\"\n",
        "                               u\"\\u23cf\"\n",
        "                               u\"\\u23e9\"\n",
        "                               u\"\\u231a\"\n",
        "                               u\"\\ufe0f\"  # dingbats\n",
        "                               u\"\\u3030\"\n",
        "                               \"]+\", flags=re.UNICODE)\n",
        "    string = emoji_pattern.sub(r'', string)\n",
        "\n",
        "    comment_number = re.compile(\"[0-9]+.\")\n",
        "    string = comment_number.sub(r'',string)\n",
        "    regex = r\"(?i)\\b((?:https?://|www\\d{0,3}[.]|[a-z0-9.\\-]+[.][a-z]{2,4}/)(?:[^\\s()<>]+|\\(([^\\s()<>]+|(\\([^\\s()<>]+\\)))*\\))+(?:\\(([^\\s()<>]+|(\\([^\\s()<>]+\\)))*\\)|[^\\s`!()\\[\\]{};:'\\\".,<>?«»“”‘’]))\"\n",
        "    # url = re.compile('((http|https)\\:\\/\\/)?[a-zA-Z0-9\\.\\/\\?\\:@\\-_=#]+\\.([a-zA-Z]){2,6}([a-zA-Z0-9\\.\\&\\/\\?\\:@\\-_=#])*')\n",
        "    url = re.compile(regex)\n",
        "    string = url.sub(r'',string)\n",
        "    string = re.compile(\"[']{2,3}\").sub(r\"'\",string)\n",
        "    string = re.compile(\"[\\'|]{1}\").sub(r\"'\",string)\n",
        "    string = re.compile(\"[\\']{2,}\").sub(r\"\",string)\n",
        "    string = re.compile(r\"\\s+\").sub(\" \", string).strip()\n",
        "    return string"
      ],
      "execution_count": null,
      "outputs": []
    },
    {
      "cell_type": "code",
      "metadata": {
        "id": "KnZ9Su_-yLu_"
      },
      "source": [
        "for n, (text, parent, label) in enumerate(zip(df['text'], df['parent'], df['label'])):\n",
        "  parent = remove_emoji_gc(parent)\n",
        "  text = remove_emoji_gc(text)\n",
        "  print(f'Q {n} : {repr(parent)}\\nA {n} : {repr(text)}\\n L {label}\\n')"
      ],
      "execution_count": null,
      "outputs": []
    },
    {
      "cell_type": "code",
      "metadata": {
        "id": "sppB5smOUOnk"
      },
      "source": [
        "for n, (text, parent) in enumerate(zip(df[df['label'] == 1]['text'], df[df['label']==1]['parent'])):\n",
        "  print(f'Q {n} : {parent}\\nA {n} : {text}\\n')"
      ],
      "execution_count": null,
      "outputs": []
    },
    {
      "cell_type": "code",
      "metadata": {
        "colab": {
          "base_uri": "https://localhost:8080/",
          "height": 289
        },
        "id": "DWbW-gvZUH-K",
        "outputId": "df42f7bf-c7aa-4e42-c160-60e5227bf968"
      },
      "source": [
        "df['text_clean'] = df['text'].apply(remove_emoji_gc)\n",
        "df['parent_clean'] = df['parent'].apply(remove_emoji_gc)\n",
        "\n",
        "df.head()"
      ],
      "execution_count": null,
      "outputs": [
        {
          "output_type": "execute_result",
          "data": {
            "text/html": [
              "<div>\n",
              "<style scoped>\n",
              "    .dataframe tbody tr th:only-of-type {\n",
              "        vertical-align: middle;\n",
              "    }\n",
              "\n",
              "    .dataframe tbody tr th {\n",
              "        vertical-align: top;\n",
              "    }\n",
              "\n",
              "    .dataframe thead th {\n",
              "        text-align: right;\n",
              "    }\n",
              "</style>\n",
              "<table border=\"1\" class=\"dataframe\">\n",
              "  <thead>\n",
              "    <tr style=\"text-align: right;\">\n",
              "      <th></th>\n",
              "      <th>id</th>\n",
              "      <th>text</th>\n",
              "      <th>parent</th>\n",
              "      <th>label</th>\n",
              "      <th>api</th>\n",
              "      <th>text_clean</th>\n",
              "      <th>parent_clean</th>\n",
              "    </tr>\n",
              "  </thead>\n",
              "  <tbody>\n",
              "    <tr>\n",
              "      <th>0</th>\n",
              "      <td>100030037.40314.40314</td>\n",
              "      <td>BTW, I see no \"attack\" here.  What I see is so...</td>\n",
              "      <td>I also feel its important for StuRat to have h...</td>\n",
              "      <td>0</td>\n",
              "      <td>0.1323</td>\n",
              "      <td>BTW, I see no \"attack\" here. What I see is som...</td>\n",
              "      <td>I also feel its important for StuRat to have h...</td>\n",
              "    </tr>\n",
              "    <tr>\n",
              "      <th>1</th>\n",
              "      <td>100104685.102437.102437</td>\n",
              "      <td>I realise... I just want to urge caution and a...</td>\n",
              "      <td>A main reason this project was started was to ...</td>\n",
              "      <td>0</td>\n",
              "      <td>0.0314</td>\n",
              "      <td>I realise... I just want to urge caution and a...</td>\n",
              "      <td>A main reason this project was started was to ...</td>\n",
              "    </tr>\n",
              "    <tr>\n",
              "      <th>2</th>\n",
              "      <td>100189373.112824.112824</td>\n",
              "      <td>I should have stressed that this should be a t...</td>\n",
              "      <td>I'd go for that. (By the way, not all deletion...</td>\n",
              "      <td>0</td>\n",
              "      <td>0.2229</td>\n",
              "      <td>I should have stressed that this should be a t...</td>\n",
              "      <td>I'd go for that. (By the way, not all deletion...</td>\n",
              "    </tr>\n",
              "    <tr>\n",
              "      <th>3</th>\n",
              "      <td>100203140.40393.40393</td>\n",
              "      <td>Thanks to Lysy for shortening and copy editing...</td>\n",
              "      <td>(edit conflict with Piotrus) I agree with the...</td>\n",
              "      <td>0</td>\n",
              "      <td>0.0559</td>\n",
              "      <td>Thanks to Lysy for shortening and copy editing...</td>\n",
              "      <td>(edit conflict with Piotrus) I agree with the ...</td>\n",
              "    </tr>\n",
              "    <tr>\n",
              "      <th>4</th>\n",
              "      <td>100214962.61084.61084</td>\n",
              "      <td>I like the additional info in the info box. I...</td>\n",
              "      <td>The larger box displays fine in Mozilla Firefo...</td>\n",
              "      <td>0</td>\n",
              "      <td>0.0539</td>\n",
              "      <td>I like the additional info in the info box. It...</td>\n",
              "      <td>The larger box displays fine in Mozilla Firefo...</td>\n",
              "    </tr>\n",
              "  </tbody>\n",
              "</table>\n",
              "</div>"
            ],
            "text/plain": [
              "                        id  ...                                       parent_clean\n",
              "0    100030037.40314.40314  ...  I also feel its important for StuRat to have h...\n",
              "1  100104685.102437.102437  ...  A main reason this project was started was to ...\n",
              "2  100189373.112824.112824  ...  I'd go for that. (By the way, not all deletion...\n",
              "3    100203140.40393.40393  ...  (edit conflict with Piotrus) I agree with the ...\n",
              "4    100214962.61084.61084  ...  The larger box displays fine in Mozilla Firefo...\n",
              "\n",
              "[5 rows x 7 columns]"
            ]
          },
          "metadata": {
            "tags": []
          },
          "execution_count": 11
        }
      ]
    },
    {
      "cell_type": "code",
      "metadata": {
        "id": "V4uzjBzg33XR"
      },
      "source": [
        "for n, (text, parent) in enumerate(zip(df[df['label'] == 1]['text_clean'], df[df['label']==1]['parent_clean'])):\n",
        "  print(f'Q {n} : {parent}\\nA {n} : {text}\\n')"
      ],
      "execution_count": null,
      "outputs": []
    },
    {
      "cell_type": "code",
      "metadata": {
        "colab": {
          "base_uri": "https://localhost:8080/"
        },
        "id": "aaoyabpr4CDc",
        "outputId": "47bf8419-8903-4267-a4c6-efe3510c3b57"
      },
      "source": [
        "df_clean = df[['parent_clean','text_clean','label']]\n",
        "df_clean.rename({'parent_clean':'parent','text_clean':'text'},axis=1,inplace=True)\n",
        "df_clean.to_csv('gc_clean.csv')\n"
      ],
      "execution_count": null,
      "outputs": [
        {
          "output_type": "stream",
          "text": [
            "/usr/local/lib/python3.7/dist-packages/pandas/core/frame.py:4308: SettingWithCopyWarning: \n",
            "A value is trying to be set on a copy of a slice from a DataFrame\n",
            "\n",
            "See the caveats in the documentation: https://pandas.pydata.org/pandas-docs/stable/user_guide/indexing.html#returning-a-view-versus-a-copy\n",
            "  errors=errors,\n"
          ],
          "name": "stderr"
        }
      ]
    },
    {
      "cell_type": "markdown",
      "metadata": {
        "id": "RkcB2yIIdeUW"
      },
      "source": [
        "### NER by spacy\n",
        "- fine-tuning GPT Neo 활용 문장 생성시, NER을 Keyword로 사용하려는 계획.(시간 부족으로 실제 문장 생성은 하지 못함)"
      ]
    },
    {
      "cell_type": "code",
      "metadata": {
        "id": "phgqIuLA5ab6"
      },
      "source": [
        "!pip install -U spacy\n",
        "!python -m spacy download en_core_web_trf"
      ],
      "execution_count": null,
      "outputs": []
    },
    {
      "cell_type": "code",
      "metadata": {
        "id": "znuswWrP5aZd"
      },
      "source": [
        "import spacy\n",
        "from spacy.tokenizer import Tokenizer\n"
      ],
      "execution_count": null,
      "outputs": []
    },
    {
      "cell_type": "code",
      "metadata": {
        "id": "m_6jr6BUFrd0"
      },
      "source": [
        "nlp = spacy.load(\"en_core_web_trf\", disable=[\"tagger\", \"parser\", \"attribute_ruler\", \"lemmatizer\"])\n",
        "\n",
        "def ner(text):\n",
        "  doc = nlp(text)\n",
        "  for ent in doc.ents:\n",
        "    if ent:\n",
        "      return ','.join([ent.text, ent.label_])\n",
        "    else :\n",
        "      return 'None'\n"
      ],
      "execution_count": null,
      "outputs": []
    },
    {
      "cell_type": "code",
      "metadata": {
        "colab": {
          "base_uri": "https://localhost:8080/"
        },
        "id": "eXEKJ9LAHzeX",
        "outputId": "d0b82339-20f5-4d4b-81b0-5345b8dc11cc"
      },
      "source": [
        "df_clean['parent_ner'] = df_clean['parent'].apply(ner)"
      ],
      "execution_count": null,
      "outputs": [
        {
          "output_type": "stream",
          "text": [
            "/usr/local/lib/python3.7/dist-packages/ipykernel_launcher.py:1: SettingWithCopyWarning: \n",
            "A value is trying to be set on a copy of a slice from a DataFrame.\n",
            "Try using .loc[row_indexer,col_indexer] = value instead\n",
            "\n",
            "See the caveats in the documentation: https://pandas.pydata.org/pandas-docs/stable/user_guide/indexing.html#returning-a-view-versus-a-copy\n",
            "  \"\"\"Entry point for launching an IPython kernel.\n"
          ],
          "name": "stderr"
        }
      ]
    },
    {
      "cell_type": "code",
      "metadata": {
        "colab": {
          "base_uri": "https://localhost:8080/"
        },
        "id": "CkWL7KdBJFY7",
        "outputId": "6bdf2b86-fa29-400d-c2c1-12403df1088a"
      },
      "source": [
        "df_clean['text_ner'] = df_clean['text'].apply(ner)"
      ],
      "execution_count": null,
      "outputs": [
        {
          "output_type": "stream",
          "text": [
            "/usr/local/lib/python3.7/dist-packages/ipykernel_launcher.py:1: SettingWithCopyWarning: \n",
            "A value is trying to be set on a copy of a slice from a DataFrame.\n",
            "Try using .loc[row_indexer,col_indexer] = value instead\n",
            "\n",
            "See the caveats in the documentation: https://pandas.pydata.org/pandas-docs/stable/user_guide/indexing.html#returning-a-view-versus-a-copy\n",
            "  \"\"\"Entry point for launching an IPython kernel.\n"
          ],
          "name": "stderr"
        }
      ]
    },
    {
      "cell_type": "code",
      "metadata": {
        "id": "NvwT5o1fJMHd"
      },
      "source": [
        "df_clean.to_csv('gc_clean_ner.csv')"
      ],
      "execution_count": null,
      "outputs": []
    },
    {
      "cell_type": "code",
      "metadata": {
        "colab": {
          "base_uri": "https://localhost:8080/",
          "height": 17
        },
        "id": "7gsyrpsYJay8",
        "outputId": "90705e70-0733-40f1-e13d-e6643356e06f"
      },
      "source": [
        "from google.colab import files\n",
        "files.download('gc_clean_ner.csv') "
      ],
      "execution_count": null,
      "outputs": [
        {
          "output_type": "display_data",
          "data": {
            "application/javascript": [
              "\n",
              "    async function download(id, filename, size) {\n",
              "      if (!google.colab.kernel.accessAllowed) {\n",
              "        return;\n",
              "      }\n",
              "      const div = document.createElement('div');\n",
              "      const label = document.createElement('label');\n",
              "      label.textContent = `Downloading \"${filename}\": `;\n",
              "      div.appendChild(label);\n",
              "      const progress = document.createElement('progress');\n",
              "      progress.max = size;\n",
              "      div.appendChild(progress);\n",
              "      document.body.appendChild(div);\n",
              "\n",
              "      const buffers = [];\n",
              "      let downloaded = 0;\n",
              "\n",
              "      const channel = await google.colab.kernel.comms.open(id);\n",
              "      // Send a message to notify the kernel that we're ready.\n",
              "      channel.send({})\n",
              "\n",
              "      for await (const message of channel.messages) {\n",
              "        // Send a message to notify the kernel that we're ready.\n",
              "        channel.send({})\n",
              "        if (message.buffers) {\n",
              "          for (const buffer of message.buffers) {\n",
              "            buffers.push(buffer);\n",
              "            downloaded += buffer.byteLength;\n",
              "            progress.value = downloaded;\n",
              "          }\n",
              "        }\n",
              "      }\n",
              "      const blob = new Blob(buffers, {type: 'application/binary'});\n",
              "      const a = document.createElement('a');\n",
              "      a.href = window.URL.createObjectURL(blob);\n",
              "      a.download = filename;\n",
              "      div.appendChild(a);\n",
              "      a.click();\n",
              "      div.remove();\n",
              "    }\n",
              "  "
            ],
            "text/plain": [
              "<IPython.core.display.Javascript object>"
            ]
          },
          "metadata": {
            "tags": []
          }
        },
        {
          "output_type": "display_data",
          "data": {
            "application/javascript": [
              "download(\"download_44b43dfc-ba0f-42db-ab7b-4a1f0d536149\", \"gab.csv\", 9161771)"
            ],
            "text/plain": [
              "<IPython.core.display.Javascript object>"
            ]
          },
          "metadata": {
            "tags": []
          }
        }
      ]
    },
    {
      "cell_type": "code",
      "metadata": {
        "colab": {
          "base_uri": "https://localhost:8080/",
          "height": 17
        },
        "id": "0ExEK9zqODLf",
        "outputId": "bdf0c6aa-6a1c-4a42-85f1-8c0c31318aa5"
      },
      "source": [
        "from google.colab import files\n",
        "files.download('reddit.csv') "
      ],
      "execution_count": null,
      "outputs": [
        {
          "output_type": "display_data",
          "data": {
            "application/javascript": [
              "\n",
              "    async function download(id, filename, size) {\n",
              "      if (!google.colab.kernel.accessAllowed) {\n",
              "        return;\n",
              "      }\n",
              "      const div = document.createElement('div');\n",
              "      const label = document.createElement('label');\n",
              "      label.textContent = `Downloading \"${filename}\": `;\n",
              "      div.appendChild(label);\n",
              "      const progress = document.createElement('progress');\n",
              "      progress.max = size;\n",
              "      div.appendChild(progress);\n",
              "      document.body.appendChild(div);\n",
              "\n",
              "      const buffers = [];\n",
              "      let downloaded = 0;\n",
              "\n",
              "      const channel = await google.colab.kernel.comms.open(id);\n",
              "      // Send a message to notify the kernel that we're ready.\n",
              "      channel.send({})\n",
              "\n",
              "      for await (const message of channel.messages) {\n",
              "        // Send a message to notify the kernel that we're ready.\n",
              "        channel.send({})\n",
              "        if (message.buffers) {\n",
              "          for (const buffer of message.buffers) {\n",
              "            buffers.push(buffer);\n",
              "            downloaded += buffer.byteLength;\n",
              "            progress.value = downloaded;\n",
              "          }\n",
              "        }\n",
              "      }\n",
              "      const blob = new Blob(buffers, {type: 'application/binary'});\n",
              "      const a = document.createElement('a');\n",
              "      a.href = window.URL.createObjectURL(blob);\n",
              "      a.download = filename;\n",
              "      div.appendChild(a);\n",
              "      a.click();\n",
              "      div.remove();\n",
              "    }\n",
              "  "
            ],
            "text/plain": [
              "<IPython.core.display.Javascript object>"
            ]
          },
          "metadata": {
            "tags": []
          }
        },
        {
          "output_type": "display_data",
          "data": {
            "application/javascript": [
              "download(\"download_1ea7967e-4d22-4fe0-9baf-ce5bd8914df8\", \"reddit.csv\", 7384220)"
            ],
            "text/plain": [
              "<IPython.core.display.Javascript object>"
            ]
          },
          "metadata": {
            "tags": []
          }
        }
      ]
    },
    {
      "cell_type": "markdown",
      "metadata": {
        "id": "-AXJACIeaZOB"
      },
      "source": [
        "\n",
        "## Clean up Qian(2019), Gab & Reddit data\n",
        "- Pavlopoulos(2020) 데이터와 유사하게 전처리 수행하였으며. 추가로 @tag로 user를 tag한 부분은 삭제, #tag keyword 부분은 남겨두었음.\n"
      ]
    },
    {
      "cell_type": "code",
      "metadata": {
        "id": "Lypi1r04qOAM"
      },
      "source": [
        "!wget https://raw.githubusercontent.com/jing-qian/A-Benchmark-Dataset-for-Learning-to-Intervene-in-Online-Hate-Speech/master/data/gab.csv gab.csv\n",
        "!wget https://raw.githubusercontent.com/jing-qian/A-Benchmark-Dataset-for-Learning-to-Intervene-in-Online-Hate-Speech/master/data/reddit.csv raddit.csv\n",
        "\n",
        "import numpy as np\n",
        "import pandas as pd\n",
        "import re\n",
        "\n",
        "def check_text(df,ranges):\n",
        "  for i in range(ranges[0],ranges[1]):\n",
        "    print(df.iloc[i,0])\n",
        "    print(str(df.iloc[i,1]))\n",
        "    print(df.iloc[i,2])\n",
        "    print(df.iloc[i,3])\n",
        "    print('\\n\\n')"
      ],
      "execution_count": null,
      "outputs": []
    },
    {
      "cell_type": "code",
      "metadata": {
        "id": "yLTs6ZGyTSW2"
      },
      "source": [
        "class Regex_pattern():\n",
        "  def __init__(self):\n",
        "    self.emoji_pattern = re.compile(\"[\"\n",
        "                               u\"\\U0001F600-\\U0001F64F\"  # emoticons\n",
        "                               u\"\\U0001F300-\\U0001F5FF\"  # symbols & pictographs\n",
        "                               u\"\\U0001F680-\\U0001F6FF\"  # transport & map symbols\n",
        "                               u\"\\U0001F1E0-\\U0001F1FF\"  # flags (iOS)\n",
        "                               u\"\\U00002500-\\U00002BEF\"  # chinese char\n",
        "                               u\"\\U00002702-\\U000027B0\"\n",
        "                               u\"\\U00002702-\\U000027B0\"\n",
        "                               u\"\\U000024C2-\\U0001F251\"\n",
        "                               u\"\\U0001f926-\\U0001f937\"\n",
        "                               u\"\\U00010000-\\U0010ffff\"\n",
        "                               u\"\\u2640-\\u2642\"\n",
        "                               u\"\\u2600-\\u2B55\"\n",
        "                               u\"\\u200d\"\n",
        "                               u\"\\u23cf\"\n",
        "                               u\"\\u23e9\"\n",
        "                               u\"\\u231a\"\n",
        "                               u\"\\ufe0f\"  # dingbats\n",
        "                               u\"\\u3030\"\n",
        "                               \"]+\", flags=re.UNICODE)\n",
        "    self.comment_number = re.compile(\"[0-9]+.\")\n",
        "    self.url = re.compile(\"(?i)\\b((?:https?://|www\\d{0,3}[.]|[a-z0-9.\\-]+[.][a-z]{2,4}/)(?:[^\\s()<>]+|\\(([^\\s()<>]+|(\\([^\\s()<>]+\\)))*\\))+(?:\\(([^\\s()<>]+|(\\([^\\s()<>]+\\)))*\\)|[^\\s`!()\\[\\]{};:'\\\".,<>?«»“”‘’]))\")\n",
        "    self.user = re.compile(r\"@[a-zA-Z]+\")\n",
        "    self.hash = re.compile(r\"#\")\n",
        "\n",
        "\n",
        "def remove_emoji(string, regex_pattern):\n",
        "\n",
        "    string = regex_pattern.emoji_pattern.sub(r'', string)\n",
        "    string = regex_pattern.comment_number.sub(r'',string)\n",
        "    string = regex_pattern.url.sub(r'',string)\n",
        "    # user @ tag는 전체 삭제\n",
        "    string = regex_pattern.user.sub(r'',string)\n",
        "    # #tag 해시태그는 #해시 문자만 삭제\n",
        "    string = regex_pattern.hash.sub(r'',string)\n",
        "    # string = re.compile(r\"#[a-zA-Z]+\").sub(r'',string)\n",
        "    return string\n"
      ],
      "execution_count": 4,
      "outputs": []
    },
    {
      "cell_type": "code",
      "metadata": {
        "id": "MQ-xz2dAqyEI"
      },
      "source": [
        "regex_pattern = Regex_pattern()"
      ],
      "execution_count": 5,
      "outputs": []
    },
    {
      "cell_type": "code",
      "metadata": {
        "colab": {
          "base_uri": "https://localhost:8080/",
          "height": 164
        },
        "id": "WmIBL9ohpr_L",
        "outputId": "02cfb78d-819d-4385-e9af-86182ab12fdb"
      },
      "source": [
        "print(remove_emoji(df_rg.loc[692,'text'], regex_pattern))"
      ],
      "execution_count": 6,
      "outputs": [
        {
          "output_type": "error",
          "ename": "NameError",
          "evalue": "ignored",
          "traceback": [
            "\u001b[0;31m---------------------------------------------------------------------------\u001b[0m",
            "\u001b[0;31mNameError\u001b[0m                                 Traceback (most recent call last)",
            "\u001b[0;32m<ipython-input-6-9453ccbd7c2c>\u001b[0m in \u001b[0;36m<module>\u001b[0;34m()\u001b[0m\n\u001b[0;32m----> 1\u001b[0;31m \u001b[0mprint\u001b[0m\u001b[0;34m(\u001b[0m\u001b[0mremove_emoji\u001b[0m\u001b[0;34m(\u001b[0m\u001b[0mdf_rg\u001b[0m\u001b[0;34m.\u001b[0m\u001b[0mloc\u001b[0m\u001b[0;34m[\u001b[0m\u001b[0;36m692\u001b[0m\u001b[0;34m,\u001b[0m\u001b[0;34m'text'\u001b[0m\u001b[0;34m]\u001b[0m\u001b[0;34m,\u001b[0m \u001b[0mregex_pattern\u001b[0m\u001b[0;34m)\u001b[0m\u001b[0;34m)\u001b[0m\u001b[0;34m\u001b[0m\u001b[0;34m\u001b[0m\u001b[0m\n\u001b[0m",
            "\u001b[0;31mNameError\u001b[0m: name 'df_rg' is not defined"
          ]
        }
      ]
    },
    {
      "cell_type": "code",
      "metadata": {
        "id": "gsKLUAIVGFJw"
      },
      "source": [
        "df_gab = pd.read_csv('gab.csv')\n",
        "df_reddit = pd.read_csv('reddit.csv')\n",
        "\n",
        "df_rg = pd.concat([df_gab,df_reddit], ignore_index=True)\n",
        "# df_rg.dropna(inplace=True) # nan for non-toxic label\n",
        "print(df_rg.isnull().sum(),df_rg.shape)\n",
        "df_rg.duplicated().sum()\n",
        "\n",
        "# context가 있는 comment만 남김\n",
        "df_rg = df_rg[~(df_rg.hate_speech_idx == '[1]')][['text','hate_speech_idx']]\n",
        "df_rg.head()\n",
        "df_rg.shape"
      ],
      "execution_count": null,
      "outputs": []
    },
    {
      "cell_type": "code",
      "metadata": {
        "id": "YcraOqkwymVS"
      },
      "source": [
        "for i,j in zip(df_rg['text'][700:750], df_rg['hate_speech_idx']):\n",
        "  print(f'\\n{j}\\n{i}\\n\\n')"
      ],
      "execution_count": null,
      "outputs": []
    },
    {
      "cell_type": "markdown",
      "metadata": {
        "id": "j8uNhfJ7f0jw"
      },
      "source": [
        "### Qian(2019) 데이터 문장 분리 로직\n",
        "- 2차례 이상 이어지는 User간 Conversation 중, 혐오 발언으로 간주될 수 있는 Comment 번호를 라벨링 하였음(Figure 2의 예시 참고).\n",
        "- Hate Speech로 label된 문장을 중심으로, 그 이전 Comment를 맥락 text로 추출하였음.\n",
        "- 하나의 Conversation에 여러개의 Hate Speech로 label이 있는 경우, Hate Speech label 수만큼 분리.\n",
        "- Hate Speech로 label된 문장 이전 맥락이 지나치게 짧은 경우(예를 들어 한단어), 맥락 정보가 포함되지 않는 문장이 되어버리기 때문에, 적어도 5개 단어 토큰(stop word 제외) 보다 커질 때 까지 이전 comment를 포함시킴."
      ]
    },
    {
      "cell_type": "code",
      "metadata": {
        "id": "cEaywdU4hziM"
      },
      "source": [
        "!pip install -U spacy\n",
        "!python -m spacy download en_core_web_trf\n",
        "\n",
        "import spacy\n",
        "from spacy.tokenizer import Tokenizer\n",
        "\n",
        "# 맥락 commnet의 token을 카운트 할 때, stop word, punct를 걸러내기 위해서 사용\n",
        "nlp = spacy.load(\"en_core_web_trf\")\n",
        "tokenizer = Tokenizer(nlp.vocab)"
      ],
      "execution_count": null,
      "outputs": []
    },
    {
      "cell_type": "code",
      "metadata": {
        "id": "89qklouJ5aUl"
      },
      "source": [
        "def token_count(doc):\n",
        "  cnt = 0\n",
        "  for token in tokenizer(doc): # spacy tokenizer\n",
        "    # print(t)\n",
        "    if (token.is_stop == False) & (token.is_punct == False):\n",
        "      cnt +=1\n",
        "  return cnt\n",
        "\n",
        "def concat_doc(doc_list):\n",
        "  if len(doc_list) < 2:\n",
        "    return doc_list\n",
        "  else :\n",
        "    return ['. '.join(reversed(doc_list))]\n",
        "\n",
        "# def set_text_parent(comments, idx):\n",
        "def set_text_parent(x, regex_pattern):\n",
        "  comments = x[0]\n",
        "  idx = x[1]\n",
        "\n",
        "  comments = remove_emoji(comments, regex_pattern)\n",
        "  comments = comments.replace('\\t','').split('\\n')\n",
        "\n",
        "  doc = []\n",
        "  for i in comments:\n",
        "    i = re.compile(r\"\\s+\").sub(\" \", i).strip() # too many space -> single space\n",
        "    doc.append(i)\n",
        "\n",
        "  doc = doc[:-1]\n",
        "\n",
        "  text = []\n",
        "  parent = []\n",
        "  label = []\n",
        "\n",
        "  # for non-toxic comments\n",
        "  if str(idx) == 'nan':\n",
        "    text.append(doc[-1])\n",
        "    max_doc = len(doc)\n",
        "    cnt = 0\n",
        "    for i in range(max_doc-2, -1,-1):\n",
        "      cnt += token_count(doc[i])\n",
        "      parent.append(doc[i])\n",
        "      label.append(0)\n",
        "      if cnt > 5:\n",
        "        return concat_doc(parent), text, label\n",
        "      else : continue\n",
        "    return concat_doc(parent), text, label\n",
        "\n",
        "  # set start idx 0\n",
        "  idx_list = [int(i)-1 for i in re.compile(r'\\d{1,2}').findall(idx)]\n",
        "\n",
        "  # only single comment is toxic & single context commnet\n",
        "  if idx_list[0] == 1 and len(idx_list) < 2:\n",
        "    parent.append(doc[idx_list[0]-1])\n",
        "    text.append(doc[idx_list[0]])\n",
        "    label.append(1)\n",
        "    return parent, text, label # return single string sentence list\n",
        "\n",
        "  # single toxic\n",
        "  if len(idx_list) < 2:\n",
        "    text.append(doc[idx_list[-1]])\n",
        "    label = [1]\n",
        "    cnt = 0\n",
        "    for i in range(idx_list[-1]-1, -1, -1): \n",
        "\n",
        "      cnt += token_count(doc[i])\n",
        "      parent.append(doc[i])\n",
        "      \n",
        "      if cnt > 5:\n",
        "        return concat_doc(parent), text, label\n",
        "      else : continue\n",
        "    return concat_doc(parent), text, label\n",
        "\n",
        "\n",
        "  if len(idx_list) > 1:\n",
        "\n",
        "    for j in idx_list:\n",
        "      if j == 0:\n",
        "        continue\n",
        "      \n",
        "      text.append(doc[j])\n",
        "      label = [1]\n",
        "      cnt = 0\n",
        "      tmp_parent = []\n",
        "      for i in range(j-1,-1,-1):\n",
        "        cnt += token_count(doc[i])\n",
        "        tmp_parent.append(doc[i])\n",
        "        if cnt > 5:\n",
        "          parent.append(concat_doc(tmp_parent)[0])\n",
        "          break\n",
        "        else : continue\n",
        "        parent.append(concat_doc(tmp_parent)[0])\n",
        "\n",
        "  return parent, text, label\n"
      ],
      "execution_count": null,
      "outputs": []
    },
    {
      "cell_type": "code",
      "metadata": {
        "id": "YVmAOvbtb6s1"
      },
      "source": [
        "df_rg.head()"
      ],
      "execution_count": null,
      "outputs": []
    },
    {
      "cell_type": "code",
      "metadata": {
        "id": "x9I6O2oMk4V-"
      },
      "source": [
        "df_rg.iloc[10612,0]"
      ],
      "execution_count": null,
      "outputs": []
    },
    {
      "cell_type": "code",
      "metadata": {
        "id": "Vmqip2cEaEfv"
      },
      "source": [
        "from tqdm.notebook import tqdm\n",
        "\n",
        "t_p, t_t, t_l = [], [], []\n",
        "\n",
        "for n, (c,i) in enumerate(zip(df_rg['text'],df_rg['hate_speech_idx'])):\n",
        "  if n % 1000 == 0:\n",
        "    print(n)\n",
        "  tmp = (c,i)\n",
        "  try :\n",
        "    p, t, l = set_text_parent(tmp, regex_pattern)\n",
        "  except :\n",
        "    print(n)\n",
        "  # print(p,t,l)\n",
        "  for sp,st in zip(p, t):\n",
        "    t_p.append(sp)\n",
        "    t_t.append(st)\n",
        "    # print(l)\n",
        "    t_l.append(l[0])\n",
        "    # print(t_p,t_t,l)\n",
        "\n",
        "# for n,(p, t) in enumerate(zip(t_p, t_t)):\n",
        "  # print(f'{n}\\nparent - {p}\\ntext - {t}\\n')\n",
        "\n",
        "df_split = pd.DataFrame(list(zip(t_p,t_t,t_l)), columns=['parent','text','label'])"
      ],
      "execution_count": null,
      "outputs": []
    },
    {
      "cell_type": "code",
      "metadata": {
        "id": "LCqYsZykraiR"
      },
      "source": [
        "df_split"
      ],
      "execution_count": null,
      "outputs": []
    },
    {
      "cell_type": "code",
      "metadata": {
        "id": "Pvecyvt295B_"
      },
      "source": [
        "df_split.label.value_counts()"
      ],
      "execution_count": null,
      "outputs": []
    },
    {
      "cell_type": "code",
      "metadata": {
        "id": "slvXD2L-l_c7"
      },
      "source": [
        "df_split.to_csv('gab_reddit.csv')\n",
        "from google.colab import files\n",
        "files.download('gab_reddit.csv') "
      ],
      "execution_count": null,
      "outputs": []
    },
    {
      "cell_type": "code",
      "metadata": {
        "id": "_lgHppDfiMIX"
      },
      "source": [
        "df_split[df_split.label == 0]"
      ],
      "execution_count": null,
      "outputs": []
    },
    {
      "cell_type": "markdown",
      "metadata": {
        "id": "ikOh4kMXiGCa"
      },
      "source": [
        "### NER by spacy"
      ]
    },
    {
      "cell_type": "code",
      "metadata": {
        "id": "ILSQWrphhTw0"
      },
      "source": [
        "# nlp = spacy.load('en_core_web_trf')\n",
        "nlp = spacy.load(\"en_core_web_trf\", disable=[\"tagger\", \"parser\", \"attribute_ruler\", \"lemmatizer\"])\n",
        "\n",
        "def ner(text):\n",
        "  doc = nlp(text)\n",
        "  for ent in doc.ents:\n",
        "    if ent:\n",
        "      return ','.join([ent.text, ent.label_])\n",
        "    else :\n",
        "      return 'None'\n",
        "\n",
        "df_split['parent_ner'] = df_split['parent'].apply(ner)\n",
        "df_split['text_ner'] = df_split['text'].apply(ner)\n",
        "\n",
        "df_split.to_csv('gab_reddit_ner.csv')\n",
        "from google.colab import files\n",
        "files.download('gab_reddit_ner.csv') "
      ],
      "execution_count": null,
      "outputs": []
    },
    {
      "cell_type": "code",
      "metadata": {
        "id": "88CfCXExCZDI"
      },
      "source": [
        "df_split.label.value_counts()"
      ],
      "execution_count": null,
      "outputs": []
    },
    {
      "cell_type": "code",
      "metadata": {
        "id": "7FGEBPILeoTC"
      },
      "source": [
        "for n, (c, i) in enumerate(zip(df_rg['text'][450:500],df_rg['hate_speech_idx'][450:500])):\n",
        "  print(n,'\\n',c, i,'\\n')"
      ],
      "execution_count": null,
      "outputs": []
    },
    {
      "cell_type": "markdown",
      "metadata": {
        "id": "xKHxRr_TjYI7"
      },
      "source": [
        "# Prepare Training Data with Generated Data by GPT-neo\n",
        "- Pavlopoulos, Qian 데이터를 기반으로 GPT neo를 fine-tuning 하였고. 문장을 생성하였음.\n",
        "- 시간 절약을 위해 parent, text 각각 동시에 튜닝 & 문장생성 하였음.\n",
        "- 개별 csv data file을 통합 하였음. \n",
        "```\n",
        "맥락 문장 = parent\n",
        "혐오 문장 = text\n",
        "```"
      ]
    },
    {
      "cell_type": "code",
      "metadata": {
        "colab": {
          "base_uri": "https://localhost:8080/"
        },
        "id": "LASjy0Zio-xv",
        "outputId": "a821e062-6ea9-4752-efe5-c52f82494e14"
      },
      "source": [
        "from google.colab import drive\n",
        "drive.mount('/content/gdrive',force_remount=True)"
      ],
      "execution_count": null,
      "outputs": [
        {
          "output_type": "stream",
          "text": [
            "Mounted at /content/gdrive\n"
          ],
          "name": "stdout"
        }
      ]
    },
    {
      "cell_type": "code",
      "metadata": {
        "id": "vgIUtnXEpbrq"
      },
      "source": [
        "import numpy as np\n",
        "import pandas as pd\n",
        "from pathlib import Path"
      ],
      "execution_count": null,
      "outputs": []
    },
    {
      "cell_type": "code",
      "metadata": {
        "id": "Sbo7msCojXMV"
      },
      "source": [
        "class MyConfig(dict):\n",
        "  def __getattr__(self, name): return self[name]\n",
        "  def __setattr__(self, name, value): self[name] = value\n",
        "\n",
        "configs = MyConfig({'path':{\n",
        "    'path_drive' : Path('/content/gdrive/MyDrive/toxic_nlp/dataset'),\n",
        "    'path_colab_data' : Path('./dataset')\n",
        "    }\n",
        "})"
      ],
      "execution_count": null,
      "outputs": []
    },
    {
      "cell_type": "code",
      "metadata": {
        "colab": {
          "base_uri": "https://localhost:8080/"
        },
        "id": "IPRPANyJpn9W",
        "outputId": "4b9c1e59-7589-4b42-bacd-c183052eff65"
      },
      "source": [
        "configs.path['list_csv'] = [f for f in configs.path['path_drive'].glob('*.csv')]\n",
        "configs"
      ],
      "execution_count": null,
      "outputs": [
        {
          "output_type": "execute_result",
          "data": {
            "text/plain": [
              "{'path': {'list_csv': [PosixPath('/content/gdrive/MyDrive/toxic_nlp/dataset/gc_clean.csv'),\n",
              "   PosixPath('/content/gdrive/MyDrive/toxic_nlp/dataset/gc_clean_ner.csv'),\n",
              "   PosixPath('/content/gdrive/MyDrive/toxic_nlp/dataset/gab_reddit.csv'),\n",
              "   PosixPath('/content/gdrive/MyDrive/toxic_nlp/dataset/gab_reddit_ner.csv'),\n",
              "   PosixPath('/content/gdrive/MyDrive/toxic_nlp/dataset/parent_gen_data.csv'),\n",
              "   PosixPath('/content/gdrive/MyDrive/toxic_nlp/dataset/text_gen_data.csv'),\n",
              "   PosixPath('/content/gdrive/MyDrive/toxic_nlp/dataset/generated_dataset.csv'),\n",
              "   PosixPath('/content/gdrive/MyDrive/toxic_nlp/dataset/parent_gen_data_v2.csv'),\n",
              "   PosixPath('/content/gdrive/MyDrive/toxic_nlp/dataset/text_gen_data_v2.csv')],\n",
              "  'path_colab_data': PosixPath('dataset'),\n",
              "  'path_drive': PosixPath('/content/gdrive/MyDrive/toxic_nlp/dataset')}}"
            ]
          },
          "metadata": {
            "tags": []
          },
          "execution_count": 4
        }
      ]
    },
    {
      "cell_type": "code",
      "metadata": {
        "id": "gx3o3yMWqAZt"
      },
      "source": [
        "df_p = pd.read_csv('/content/gdrive/MyDrive/toxic_nlp/dataset/parent_gen_data_v2.csv', index_col=0)\n",
        "df_t = pd.read_csv('/content/gdrive/MyDrive/toxic_nlp/dataset/text_gen_data_v2.csv', index_col=0)"
      ],
      "execution_count": null,
      "outputs": []
    },
    {
      "cell_type": "code",
      "metadata": {
        "colab": {
          "base_uri": "https://localhost:8080/",
          "height": 289
        },
        "id": "jYMov9KVqMoc",
        "outputId": "ec3c4676-db0a-4699-cf0b-316aded139de"
      },
      "source": [
        "df_p.head()"
      ],
      "execution_count": null,
      "outputs": [
        {
          "output_type": "execute_result",
          "data": {
            "text/html": [
              "<div>\n",
              "<style scoped>\n",
              "    .dataframe tbody tr th:only-of-type {\n",
              "        vertical-align: middle;\n",
              "    }\n",
              "\n",
              "    .dataframe tbody tr th {\n",
              "        vertical-align: top;\n",
              "    }\n",
              "\n",
              "    .dataframe thead th {\n",
              "        text-align: right;\n",
              "    }\n",
              "</style>\n",
              "<table border=\"1\" class=\"dataframe\">\n",
              "  <thead>\n",
              "    <tr style=\"text-align: right;\">\n",
              "      <th></th>\n",
              "      <th>parent</th>\n",
              "      <th>text</th>\n",
              "      <th>label</th>\n",
              "      <th>parent_gen</th>\n",
              "    </tr>\n",
              "  </thead>\n",
              "  <tbody>\n",
              "    <tr>\n",
              "      <th>0</th>\n",
              "      <td>I also feel its important for StuRat to have h...</td>\n",
              "      <td>BTW, I see no \"attack\" here. What I see is som...</td>\n",
              "      <td>0</td>\n",
              "      <td>I also feel its important for StuRat to have ...</td>\n",
              "    </tr>\n",
              "    <tr>\n",
              "      <th>1</th>\n",
              "      <td>A main reason this project was started was to ...</td>\n",
              "      <td>I realise... I just want to urge caution and a...</td>\n",
              "      <td>0</td>\n",
              "      <td>A main reason this project was started was to...</td>\n",
              "    </tr>\n",
              "    <tr>\n",
              "      <th>2</th>\n",
              "      <td>I'd go for that. (By the way, not all deletion...</td>\n",
              "      <td>I should have stressed that this should be a t...</td>\n",
              "      <td>0</td>\n",
              "      <td>I'd go for that. A lot of the most common are...</td>\n",
              "    </tr>\n",
              "    <tr>\n",
              "      <th>3</th>\n",
              "      <td>(edit conflict with Piotrus) I agree with the ...</td>\n",
              "      <td>Thanks to Lysy for shortening and copy editing...</td>\n",
              "      <td>0</td>\n",
              "      <td>(edit conflict with Piotrus) I agree with the...</td>\n",
              "    </tr>\n",
              "    <tr>\n",
              "      <th>4</th>\n",
              "      <td>The larger box displays fine in Mozilla Firefo...</td>\n",
              "      <td>I like the additional info in the info box. It...</td>\n",
              "      <td>0</td>\n",
              "      <td>The larger box displays fine in Mozilla Firef...</td>\n",
              "    </tr>\n",
              "  </tbody>\n",
              "</table>\n",
              "</div>"
            ],
            "text/plain": [
              "                                              parent  ...                                         parent_gen\n",
              "0  I also feel its important for StuRat to have h...  ...   I also feel its important for StuRat to have ...\n",
              "1  A main reason this project was started was to ...  ...   A main reason this project was started was to...\n",
              "2  I'd go for that. (By the way, not all deletion...  ...   I'd go for that. A lot of the most common are...\n",
              "3  (edit conflict with Piotrus) I agree with the ...  ...   (edit conflict with Piotrus) I agree with the...\n",
              "4  The larger box displays fine in Mozilla Firefo...  ...   The larger box displays fine in Mozilla Firef...\n",
              "\n",
              "[5 rows x 4 columns]"
            ]
          },
          "metadata": {
            "tags": []
          },
          "execution_count": 6
        }
      ]
    },
    {
      "cell_type": "code",
      "metadata": {
        "colab": {
          "base_uri": "https://localhost:8080/",
          "height": 204
        },
        "id": "Jfpn_sDjqWoj",
        "outputId": "7da89b74-138c-43dd-d108-4424b204247d"
      },
      "source": [
        "df_t.head()"
      ],
      "execution_count": null,
      "outputs": [
        {
          "output_type": "execute_result",
          "data": {
            "text/html": [
              "<div>\n",
              "<style scoped>\n",
              "    .dataframe tbody tr th:only-of-type {\n",
              "        vertical-align: middle;\n",
              "    }\n",
              "\n",
              "    .dataframe tbody tr th {\n",
              "        vertical-align: top;\n",
              "    }\n",
              "\n",
              "    .dataframe thead th {\n",
              "        text-align: right;\n",
              "    }\n",
              "</style>\n",
              "<table border=\"1\" class=\"dataframe\">\n",
              "  <thead>\n",
              "    <tr style=\"text-align: right;\">\n",
              "      <th></th>\n",
              "      <th>parent</th>\n",
              "      <th>text</th>\n",
              "      <th>label</th>\n",
              "      <th>text_gen</th>\n",
              "    </tr>\n",
              "  </thead>\n",
              "  <tbody>\n",
              "    <tr>\n",
              "      <th>0</th>\n",
              "      <td>I also feel its important for StuRat to have h...</td>\n",
              "      <td>BTW, I see no \"attack\" here. What I see is som...</td>\n",
              "      <td>0</td>\n",
              "      <td>BTW, I see no \"attack\" here. What I see is so...</td>\n",
              "    </tr>\n",
              "    <tr>\n",
              "      <th>1</th>\n",
              "      <td>A main reason this project was started was to ...</td>\n",
              "      <td>I realise... I just want to urge caution and a...</td>\n",
              "      <td>0</td>\n",
              "      <td>I realise... I just wanted to make sure you h...</td>\n",
              "    </tr>\n",
              "    <tr>\n",
              "      <th>2</th>\n",
              "      <td>I'd go for that. (By the way, not all deletion...</td>\n",
              "      <td>I should have stressed that this should be a t...</td>\n",
              "      <td>0</td>\n",
              "      <td>I should have stressed that this should be a ...</td>\n",
              "    </tr>\n",
              "    <tr>\n",
              "      <th>3</th>\n",
              "      <td>(edit conflict with Piotrus) I agree with the ...</td>\n",
              "      <td>Thanks to Lysy for shortening and copy editing...</td>\n",
              "      <td>0</td>\n",
              "      <td>Thanks to Lysy for suggesting this. They're b...</td>\n",
              "    </tr>\n",
              "    <tr>\n",
              "      <th>4</th>\n",
              "      <td>The larger box displays fine in Mozilla Firefo...</td>\n",
              "      <td>I like the additional info in the info box. It...</td>\n",
              "      <td>0</td>\n",
              "      <td>I like the additional info in the info box. I...</td>\n",
              "    </tr>\n",
              "  </tbody>\n",
              "</table>\n",
              "</div>"
            ],
            "text/plain": [
              "                                              parent  ...                                           text_gen\n",
              "0  I also feel its important for StuRat to have h...  ...   BTW, I see no \"attack\" here. What I see is so...\n",
              "1  A main reason this project was started was to ...  ...   I realise... I just wanted to make sure you h...\n",
              "2  I'd go for that. (By the way, not all deletion...  ...   I should have stressed that this should be a ...\n",
              "3  (edit conflict with Piotrus) I agree with the ...  ...   Thanks to Lysy for suggesting this. They're b...\n",
              "4  The larger box displays fine in Mozilla Firefo...  ...   I like the additional info in the info box. I...\n",
              "\n",
              "[5 rows x 4 columns]"
            ]
          },
          "metadata": {
            "tags": []
          },
          "execution_count": 7
        }
      ]
    },
    {
      "cell_type": "code",
      "metadata": {
        "colab": {
          "base_uri": "https://localhost:8080/"
        },
        "id": "R0A32sUKqa0g",
        "outputId": "3774ea8a-2fce-46d7-e390-6641c1fd00d4"
      },
      "source": [
        "sum([ p!=t for p,t in zip(df_p.parent, df_t.parent)]) # identical\n",
        "sum([ p!=t for p,t in zip(df_p.label, df_t.label)]) "
      ],
      "execution_count": null,
      "outputs": [
        {
          "output_type": "execute_result",
          "data": {
            "text/plain": [
              "0"
            ]
          },
          "metadata": {
            "tags": []
          },
          "execution_count": 9
        }
      ]
    },
    {
      "cell_type": "code",
      "metadata": {
        "colab": {
          "base_uri": "https://localhost:8080/"
        },
        "id": "sV0jDnJUuZjj",
        "outputId": "47838641-c40f-4d45-a5b6-1c9cef9e8997"
      },
      "source": [
        "configs"
      ],
      "execution_count": null,
      "outputs": [
        {
          "output_type": "execute_result",
          "data": {
            "text/plain": [
              "{'path': {'list_csv': [PosixPath('/content/gdrive/MyDrive/toxic_nlp/dataset/gc_clean.csv'),\n",
              "   PosixPath('/content/gdrive/MyDrive/toxic_nlp/dataset/gc_clean_ner.csv'),\n",
              "   PosixPath('/content/gdrive/MyDrive/toxic_nlp/dataset/gab_reddit.csv'),\n",
              "   PosixPath('/content/gdrive/MyDrive/toxic_nlp/dataset/gab_reddit_ner.csv'),\n",
              "   PosixPath('/content/gdrive/MyDrive/toxic_nlp/dataset/parent_gen_data.csv'),\n",
              "   PosixPath('/content/gdrive/MyDrive/toxic_nlp/dataset/text_gen_data.csv')],\n",
              "  'path_colab_data': PosixPath('dataset'),\n",
              "  'path_drive': PosixPath('/content/gdrive/MyDrive/toxic_nlp/dataset')}}"
            ]
          },
          "metadata": {
            "tags": []
          },
          "execution_count": 8
        }
      ]
    },
    {
      "cell_type": "code",
      "metadata": {
        "id": "StZkEn5VrO4W"
      },
      "source": [
        "df_merged = df_p.merge(df_t[['parent','text_gen']], how='inner', on=['parent'])"
      ],
      "execution_count": null,
      "outputs": []
    },
    {
      "cell_type": "code",
      "metadata": {
        "id": "ACARpIxAudUm"
      },
      "source": [
        "df_merged.to_csv(configs.path['path_drive'] / 'generated_dataset.csv')"
      ],
      "execution_count": null,
      "outputs": []
    },
    {
      "cell_type": "markdown",
      "metadata": {
        "id": "KQ4bkmVCZ84W"
      },
      "source": [
        "## Combination of Generated Text Data\n",
        "- GTP-neo를 통해 생성된 parent, text를 조합.\n",
        "- 각 개별 데이터 조합으로 Electra model trining.\n",
        "- Kaggle data로 일반화 성능 평가\n",
        "  1. parent(O) - text(O)\n",
        "  2. parent(G) - text(O)\n",
        "  3. parent(O) - text(G)\n",
        "  4. parent(G) - text(G)\n",
        "  5. parent(O+G) - text(O+G)\n",
        "  - G : generated, O: original"
      ]
    },
    {
      "cell_type": "code",
      "metadata": {
        "colab": {
          "base_uri": "https://localhost:8080/"
        },
        "id": "p42tSdFEZ8Wk",
        "outputId": "97edd702-a034-4ba8-c151-9d690e166707"
      },
      "source": [
        "from google.colab import drive\n",
        "drive.mount('/content/gdrive',force_remount=True)\n",
        "\n",
        "from pathlib import Path\n",
        "import numpy as np\n",
        "import pandas as pd\n",
        "\n",
        "\n",
        "class MyConfig(dict):\n",
        "  def __getattr__(self, name): return self[name]\n",
        "  def __setattr__(self, name, value): self[name] = value\n",
        "\n",
        "\n",
        "configs = MyConfig({'path':{\n",
        "    'path_drive' : Path('/content/gdrive/MyDrive/toxic_nlp'),\n",
        "    'path_colab_data' : Path('./dataset')\n",
        "    }\n",
        "})\n",
        "\n",
        "configs.path['dataset'] = [f for f in (configs.path['path_drive'] / 'dataset').glob('*') if 'generated_dataset.csv' in str(f)][0]\n",
        "configs.path['list_csv'] = [f for f in (configs.path['path_drive'] / 'dataset').glob('*.csv')]"
      ],
      "execution_count": null,
      "outputs": [
        {
          "output_type": "stream",
          "text": [
            "Mounted at /content/gdrive\n"
          ],
          "name": "stdout"
        }
      ]
    },
    {
      "cell_type": "code",
      "metadata": {
        "colab": {
          "base_uri": "https://localhost:8080/"
        },
        "id": "O8Ldp-mb8XCa",
        "outputId": "2f53b11b-4c90-4c19-a001-9918cb0d0adc"
      },
      "source": [
        "configs"
      ],
      "execution_count": null,
      "outputs": [
        {
          "output_type": "execute_result",
          "data": {
            "text/plain": [
              "{'path': {'dataset': PosixPath('/content/gdrive/MyDrive/toxic_nlp/dataset/generated_dataset.csv'),\n",
              "  'list_csv': [PosixPath('/content/gdrive/MyDrive/toxic_nlp/dataset/gc_clean.csv'),\n",
              "   PosixPath('/content/gdrive/MyDrive/toxic_nlp/dataset/gc_clean_ner.csv'),\n",
              "   PosixPath('/content/gdrive/MyDrive/toxic_nlp/dataset/gab_reddit.csv'),\n",
              "   PosixPath('/content/gdrive/MyDrive/toxic_nlp/dataset/gab_reddit_ner.csv'),\n",
              "   PosixPath('/content/gdrive/MyDrive/toxic_nlp/dataset/parent_gen_data.csv'),\n",
              "   PosixPath('/content/gdrive/MyDrive/toxic_nlp/dataset/text_gen_data.csv'),\n",
              "   PosixPath('/content/gdrive/MyDrive/toxic_nlp/dataset/parent_gen_data_v2.csv'),\n",
              "   PosixPath('/content/gdrive/MyDrive/toxic_nlp/dataset/text_gen_data_v2.csv'),\n",
              "   PosixPath('/content/gdrive/MyDrive/toxic_nlp/dataset/generated_dataset.csv'),\n",
              "   PosixPath('/content/gdrive/MyDrive/toxic_nlp/dataset/jig_test.csv'),\n",
              "   PosixPath('/content/gdrive/MyDrive/toxic_nlp/dataset/jig_all.csv')],\n",
              "  'path_colab_data': PosixPath('dataset'),\n",
              "  'path_drive': PosixPath('/content/gdrive/MyDrive/toxic_nlp')}}"
            ]
          },
          "metadata": {
            "tags": []
          },
          "execution_count": 27
        }
      ]
    },
    {
      "cell_type": "code",
      "metadata": {
        "id": "71ErmY3Q8esu"
      },
      "source": [
        "df_g1 = pd.read_csv([f for f in configs.path['list_csv'] if 'parent_gen_data_v2.csv' in str(f)][0])"
      ],
      "execution_count": null,
      "outputs": []
    },
    {
      "cell_type": "code",
      "metadata": {
        "colab": {
          "base_uri": "https://localhost:8080/",
          "height": 572
        },
        "id": "3FdMu9ED-v-b",
        "outputId": "18674ba0-017d-4555-acf2-aa3774714e4c"
      },
      "source": [
        "df_g1[df_g1['parent'].duplicated()]"
      ],
      "execution_count": null,
      "outputs": [
        {
          "output_type": "execute_result",
          "data": {
            "text/html": [
              "<div>\n",
              "<style scoped>\n",
              "    .dataframe tbody tr th:only-of-type {\n",
              "        vertical-align: middle;\n",
              "    }\n",
              "\n",
              "    .dataframe tbody tr th {\n",
              "        vertical-align: top;\n",
              "    }\n",
              "\n",
              "    .dataframe thead th {\n",
              "        text-align: right;\n",
              "    }\n",
              "</style>\n",
              "<table border=\"1\" class=\"dataframe\">\n",
              "  <thead>\n",
              "    <tr style=\"text-align: right;\">\n",
              "      <th></th>\n",
              "      <th>Unnamed: 0</th>\n",
              "      <th>parent</th>\n",
              "      <th>text</th>\n",
              "      <th>label</th>\n",
              "      <th>parent_gen</th>\n",
              "    </tr>\n",
              "  </thead>\n",
              "  <tbody>\n",
              "    <tr>\n",
              "      <th>4183</th>\n",
              "      <td>4185</td>\n",
              "      <td>How about ?</td>\n",
              "      <td>Looks legit, but I thought we generally avoide...</td>\n",
              "      <td>0</td>\n",
              "      <td>How about?</td>\n",
              "    </tr>\n",
              "    <tr>\n",
              "      <th>4341</th>\n",
              "      <td>4343</td>\n",
              "      <td>See this video of a Wikimania address by resea...</td>\n",
              "      <td>m:Global message delivery/Spam</td>\n",
              "      <td>0</td>\n",
              "      <td>See this video of a different day where a cop...</td>\n",
              "    </tr>\n",
              "    <tr>\n",
              "      <th>4701</th>\n",
              "      <td>4703</td>\n",
              "      <td>Sounds good to me.</td>\n",
              "      <td>Im glad to hear it. My intent really isn't to ...</td>\n",
              "      <td>0</td>\n",
              "      <td>Sounds like a lot of work to me.</td>\n",
              "    </tr>\n",
              "    <tr>\n",
              "      <th>5346</th>\n",
              "      <td>5348</td>\n",
              "      <td>— Martin ( ·</td>\n",
              "      <td>Sorry about that. Thanks for fixing it up, guys.</td>\n",
              "      <td>0</td>\n",
              "      <td>—</td>\n",
              "    </tr>\n",
              "    <tr>\n",
              "      <th>6054</th>\n",
              "      <td>6057</td>\n",
              "      <td>Thank you.</td>\n",
              "      <td>And it's apparent that I made a repetitive err...</td>\n",
              "      <td>0</td>\n",
              "      <td>Thank you. I will remove it tomorrow because ...</td>\n",
              "    </tr>\n",
              "    <tr>\n",
              "      <th>...</th>\n",
              "      <td>...</td>\n",
              "      <td>...</td>\n",
              "      <td>...</td>\n",
              "      <td>...</td>\n",
              "      <td>...</td>\n",
              "    </tr>\n",
              "    <tr>\n",
              "      <th>23273</th>\n",
              "      <td>13745</td>\n",
              "      <td>[removed]</td>\n",
              "      <td>About the same time you became a retard.</td>\n",
              "      <td>1</td>\n",
              "      <td>[removed]</td>\n",
              "    </tr>\n",
              "    <tr>\n",
              "      <th>23375</th>\n",
              "      <td>13847</td>\n",
              "      <td>[deleted]</td>\n",
              "      <td>You’re retarded</td>\n",
              "      <td>1</td>\n",
              "      <td>[deleted]</td>\n",
              "    </tr>\n",
              "    <tr>\n",
              "      <th>23483</th>\n",
              "      <td>13955</td>\n",
              "      <td>[removed]</td>\n",
              "      <td>So asks the nigger kike xD</td>\n",
              "      <td>1</td>\n",
              "      <td>[removed]</td>\n",
              "    </tr>\n",
              "    <tr>\n",
              "      <th>23549</th>\n",
              "      <td>14021</td>\n",
              "      <td>[deleted]</td>\n",
              "      <td>Your mom is a cunt. You should stop talking to...</td>\n",
              "      <td>0</td>\n",
              "      <td>[deleted]</td>\n",
              "    </tr>\n",
              "    <tr>\n",
              "      <th>23641</th>\n",
              "      <td>14113</td>\n",
              "      <td>[deleted]</td>\n",
              "      <td>. is starting as far as I know, and she'll be ...</td>\n",
              "      <td>1</td>\n",
              "      <td>[deleted]</td>\n",
              "    </tr>\n",
              "  </tbody>\n",
              "</table>\n",
              "<p>1335 rows × 5 columns</p>\n",
              "</div>"
            ],
            "text/plain": [
              "       Unnamed: 0  ...                                         parent_gen\n",
              "4183         4185  ...                                         How about?\n",
              "4341         4343  ...   See this video of a different day where a cop...\n",
              "4701         4703  ...                   Sounds like a lot of work to me.\n",
              "5346         5348  ...                                                  —\n",
              "6054         6057  ...   Thank you. I will remove it tomorrow because ...\n",
              "...           ...  ...                                                ...\n",
              "23273       13745  ...                                          [removed]\n",
              "23375       13847  ...                                          [deleted]\n",
              "23483       13955  ...                                          [removed]\n",
              "23549       14021  ...                                          [deleted]\n",
              "23641       14113  ...                                          [deleted]\n",
              "\n",
              "[1335 rows x 5 columns]"
            ]
          },
          "metadata": {
            "tags": []
          },
          "execution_count": 49
        }
      ]
    },
    {
      "cell_type": "code",
      "metadata": {
        "colab": {
          "base_uri": "https://localhost:8080/",
          "height": 35
        },
        "id": "VJMm6Rdx-RVK",
        "outputId": "05f4400e-7558-4e8b-a46c-1c4c808aeebc"
      },
      "source": [
        "df_g1[df_g1['parent'].duplicated()].iloc[-2,2]"
      ],
      "execution_count": null,
      "outputs": [
        {
          "output_type": "execute_result",
          "data": {
            "application/vnd.google.colaboratory.intrinsic+json": {
              "type": "string"
            },
            "text/plain": [
              "'Your mom is a cunt. You should stop talking to her.'"
            ]
          },
          "metadata": {
            "tags": []
          },
          "execution_count": 50
        }
      ]
    },
    {
      "cell_type": "code",
      "metadata": {
        "id": "GCl7vIUH-702"
      },
      "source": [
        "df_g2 = pd.read_csv([f for f in configs.path['list_csv'] if 'text_gen_data_v2.csv' in str(f)][0])"
      ],
      "execution_count": null,
      "outputs": []
    },
    {
      "cell_type": "code",
      "metadata": {
        "colab": {
          "base_uri": "https://localhost:8080/",
          "height": 589
        },
        "id": "cja46vxl_A8-",
        "outputId": "061b164a-d842-423e-a0bf-d39a4e640ff5"
      },
      "source": [
        "df_g2[df_g2['parent'].duplicated()]"
      ],
      "execution_count": null,
      "outputs": [
        {
          "output_type": "execute_result",
          "data": {
            "text/html": [
              "<div>\n",
              "<style scoped>\n",
              "    .dataframe tbody tr th:only-of-type {\n",
              "        vertical-align: middle;\n",
              "    }\n",
              "\n",
              "    .dataframe tbody tr th {\n",
              "        vertical-align: top;\n",
              "    }\n",
              "\n",
              "    .dataframe thead th {\n",
              "        text-align: right;\n",
              "    }\n",
              "</style>\n",
              "<table border=\"1\" class=\"dataframe\">\n",
              "  <thead>\n",
              "    <tr style=\"text-align: right;\">\n",
              "      <th></th>\n",
              "      <th>Unnamed: 0</th>\n",
              "      <th>parent</th>\n",
              "      <th>text</th>\n",
              "      <th>label</th>\n",
              "      <th>text_gen</th>\n",
              "    </tr>\n",
              "  </thead>\n",
              "  <tbody>\n",
              "    <tr>\n",
              "      <th>4183</th>\n",
              "      <td>4185</td>\n",
              "      <td>How about ?</td>\n",
              "      <td>Looks legit, but I thought we generally avoide...</td>\n",
              "      <td>0</td>\n",
              "      <td>Looks legit, but I thought we generally avoid...</td>\n",
              "    </tr>\n",
              "    <tr>\n",
              "      <th>4341</th>\n",
              "      <td>4343</td>\n",
              "      <td>See this video of a Wikimania address by resea...</td>\n",
              "      <td>m:Global message delivery/Spam</td>\n",
              "      <td>0</td>\n",
              "      <td>m:Global message delivery/Spam</td>\n",
              "    </tr>\n",
              "    <tr>\n",
              "      <th>4701</th>\n",
              "      <td>4703</td>\n",
              "      <td>Sounds good to me.</td>\n",
              "      <td>Im glad to hear it. My intent really isn't to ...</td>\n",
              "      <td>0</td>\n",
              "      <td>Im glad to hear it. My intent here is to prom...</td>\n",
              "    </tr>\n",
              "    <tr>\n",
              "      <th>5346</th>\n",
              "      <td>5348</td>\n",
              "      <td>— Martin ( ·</td>\n",
              "      <td>Sorry about that. Thanks for fixing it up, guys.</td>\n",
              "      <td>0</td>\n",
              "      <td>Sorry about that! ) I also updated the descri...</td>\n",
              "    </tr>\n",
              "    <tr>\n",
              "      <th>6054</th>\n",
              "      <td>6057</td>\n",
              "      <td>Thank you.</td>\n",
              "      <td>And it's apparent that I made a repetitive err...</td>\n",
              "      <td>0</td>\n",
              "      <td>And it's apparent from his face that he's an ...</td>\n",
              "    </tr>\n",
              "    <tr>\n",
              "      <th>...</th>\n",
              "      <td>...</td>\n",
              "      <td>...</td>\n",
              "      <td>...</td>\n",
              "      <td>...</td>\n",
              "      <td>...</td>\n",
              "    </tr>\n",
              "    <tr>\n",
              "      <th>23273</th>\n",
              "      <td>13745</td>\n",
              "      <td>[removed]</td>\n",
              "      <td>About the same time you became a retard.</td>\n",
              "      <td>1</td>\n",
              "      <td>About the author, not much. -</td>\n",
              "    </tr>\n",
              "    <tr>\n",
              "      <th>23375</th>\n",
              "      <td>13847</td>\n",
              "      <td>[deleted]</td>\n",
              "      <td>You’re retarded</td>\n",
              "      <td>1</td>\n",
              "      <td>You’re retarded.</td>\n",
              "    </tr>\n",
              "    <tr>\n",
              "      <th>23483</th>\n",
              "      <td>13955</td>\n",
              "      <td>[removed]</td>\n",
              "      <td>So asks the nigger kike xD</td>\n",
              "      <td>1</td>\n",
              "      <td>So now you claim to be a liberal, retard. You...</td>\n",
              "    </tr>\n",
              "    <tr>\n",
              "      <th>23549</th>\n",
              "      <td>14021</td>\n",
              "      <td>[deleted]</td>\n",
              "      <td>Your mom is a cunt. You should stop talking to...</td>\n",
              "      <td>0</td>\n",
              "      <td>Your mom is a cunt</td>\n",
              "    </tr>\n",
              "    <tr>\n",
              "      <th>23641</th>\n",
              "      <td>14113</td>\n",
              "      <td>[deleted]</td>\n",
              "      <td>. is starting as far as I know, and she'll be ...</td>\n",
              "      <td>1</td>\n",
              "      <td>. is starting as far as I know, and she'll be ...</td>\n",
              "    </tr>\n",
              "  </tbody>\n",
              "</table>\n",
              "<p>1335 rows × 5 columns</p>\n",
              "</div>"
            ],
            "text/plain": [
              "       Unnamed: 0  ...                                           text_gen\n",
              "4183         4185  ...   Looks legit, but I thought we generally avoid...\n",
              "4341         4343  ...                     m:Global message delivery/Spam\n",
              "4701         4703  ...   Im glad to hear it. My intent here is to prom...\n",
              "5346         5348  ...   Sorry about that! ) I also updated the descri...\n",
              "6054         6057  ...   And it's apparent from his face that he's an ...\n",
              "...           ...  ...                                                ...\n",
              "23273       13745  ...                      About the author, not much. -\n",
              "23375       13847  ...                                   You’re retarded.\n",
              "23483       13955  ...   So now you claim to be a liberal, retard. You...\n",
              "23549       14021  ...                                 Your mom is a cunt\n",
              "23641       14113  ...  . is starting as far as I know, and she'll be ...\n",
              "\n",
              "[1335 rows x 5 columns]"
            ]
          },
          "metadata": {
            "tags": []
          },
          "execution_count": 53
        }
      ]
    },
    {
      "cell_type": "code",
      "metadata": {
        "id": "bskiDGNE_SLU"
      },
      "source": [
        "df_merged = pd.concat([df_g1,df_g2], axis=1)"
      ],
      "execution_count": null,
      "outputs": []
    },
    {
      "cell_type": "code",
      "metadata": {
        "colab": {
          "base_uri": "https://localhost:8080/"
        },
        "id": "VCSURZRe_dgb",
        "outputId": "f800cd8f-9608-403d-ac9e-a8f0d38535db"
      },
      "source": [
        "sum([i==j for i,j in zip(df_merged.iloc[:,1], df_merged.iloc[:,6])]) # identical"
      ],
      "execution_count": null,
      "outputs": [
        {
          "output_type": "execute_result",
          "data": {
            "text/plain": [
              "23674"
            ]
          },
          "metadata": {
            "tags": []
          },
          "execution_count": 57
        }
      ]
    },
    {
      "cell_type": "code",
      "metadata": {
        "colab": {
          "base_uri": "https://localhost:8080/",
          "height": 595
        },
        "id": "cERwR0ah_0fH",
        "outputId": "ff3020ed-4ec2-46f2-930e-84cbc90d2dea"
      },
      "source": [
        "df_merged.head()"
      ],
      "execution_count": null,
      "outputs": [
        {
          "output_type": "execute_result",
          "data": {
            "text/html": [
              "<div>\n",
              "<style scoped>\n",
              "    .dataframe tbody tr th:only-of-type {\n",
              "        vertical-align: middle;\n",
              "    }\n",
              "\n",
              "    .dataframe tbody tr th {\n",
              "        vertical-align: top;\n",
              "    }\n",
              "\n",
              "    .dataframe thead th {\n",
              "        text-align: right;\n",
              "    }\n",
              "</style>\n",
              "<table border=\"1\" class=\"dataframe\">\n",
              "  <thead>\n",
              "    <tr style=\"text-align: right;\">\n",
              "      <th></th>\n",
              "      <th>Unnamed: 0</th>\n",
              "      <th>parent</th>\n",
              "      <th>text</th>\n",
              "      <th>label</th>\n",
              "      <th>parent_gen</th>\n",
              "      <th>Unnamed: 0</th>\n",
              "      <th>parent</th>\n",
              "      <th>text</th>\n",
              "      <th>label</th>\n",
              "      <th>text_gen</th>\n",
              "    </tr>\n",
              "  </thead>\n",
              "  <tbody>\n",
              "    <tr>\n",
              "      <th>0</th>\n",
              "      <td>0</td>\n",
              "      <td>I also feel its important for StuRat to have h...</td>\n",
              "      <td>BTW, I see no \"attack\" here. What I see is som...</td>\n",
              "      <td>0</td>\n",
              "      <td>I also feel its important for StuRat to have ...</td>\n",
              "      <td>0</td>\n",
              "      <td>I also feel its important for StuRat to have h...</td>\n",
              "      <td>BTW, I see no \"attack\" here. What I see is som...</td>\n",
              "      <td>0</td>\n",
              "      <td>BTW, I see no \"attack\" here. What I see is so...</td>\n",
              "    </tr>\n",
              "    <tr>\n",
              "      <th>1</th>\n",
              "      <td>1</td>\n",
              "      <td>A main reason this project was started was to ...</td>\n",
              "      <td>I realise... I just want to urge caution and a...</td>\n",
              "      <td>0</td>\n",
              "      <td>A main reason this project was started was to...</td>\n",
              "      <td>1</td>\n",
              "      <td>A main reason this project was started was to ...</td>\n",
              "      <td>I realise... I just want to urge caution and a...</td>\n",
              "      <td>0</td>\n",
              "      <td>I realise... I just wanted to make sure you h...</td>\n",
              "    </tr>\n",
              "    <tr>\n",
              "      <th>2</th>\n",
              "      <td>2</td>\n",
              "      <td>I'd go for that. (By the way, not all deletion...</td>\n",
              "      <td>I should have stressed that this should be a t...</td>\n",
              "      <td>0</td>\n",
              "      <td>I'd go for that. A lot of the most common are...</td>\n",
              "      <td>2</td>\n",
              "      <td>I'd go for that. (By the way, not all deletion...</td>\n",
              "      <td>I should have stressed that this should be a t...</td>\n",
              "      <td>0</td>\n",
              "      <td>I should have stressed that this should be a ...</td>\n",
              "    </tr>\n",
              "    <tr>\n",
              "      <th>3</th>\n",
              "      <td>3</td>\n",
              "      <td>(edit conflict with Piotrus) I agree with the ...</td>\n",
              "      <td>Thanks to Lysy for shortening and copy editing...</td>\n",
              "      <td>0</td>\n",
              "      <td>(edit conflict with Piotrus) I agree with the...</td>\n",
              "      <td>3</td>\n",
              "      <td>(edit conflict with Piotrus) I agree with the ...</td>\n",
              "      <td>Thanks to Lysy for shortening and copy editing...</td>\n",
              "      <td>0</td>\n",
              "      <td>Thanks to Lysy for suggesting this. They're b...</td>\n",
              "    </tr>\n",
              "    <tr>\n",
              "      <th>4</th>\n",
              "      <td>4</td>\n",
              "      <td>The larger box displays fine in Mozilla Firefo...</td>\n",
              "      <td>I like the additional info in the info box. It...</td>\n",
              "      <td>0</td>\n",
              "      <td>The larger box displays fine in Mozilla Firef...</td>\n",
              "      <td>4</td>\n",
              "      <td>The larger box displays fine in Mozilla Firefo...</td>\n",
              "      <td>I like the additional info in the info box. It...</td>\n",
              "      <td>0</td>\n",
              "      <td>I like the additional info in the info box. I...</td>\n",
              "    </tr>\n",
              "  </tbody>\n",
              "</table>\n",
              "</div>"
            ],
            "text/plain": [
              "   Unnamed: 0  ...                                           text_gen\n",
              "0           0  ...   BTW, I see no \"attack\" here. What I see is so...\n",
              "1           1  ...   I realise... I just wanted to make sure you h...\n",
              "2           2  ...   I should have stressed that this should be a ...\n",
              "3           3  ...   Thanks to Lysy for suggesting this. They're b...\n",
              "4           4  ...   I like the additional info in the info box. I...\n",
              "\n",
              "[5 rows x 10 columns]"
            ]
          },
          "metadata": {
            "tags": []
          },
          "execution_count": 58
        }
      ]
    },
    {
      "cell_type": "code",
      "metadata": {
        "id": "HvoQWh15_27P"
      },
      "source": [
        "df_merged = df_merged.iloc[:,[1,2,3,4,9]]\n",
        "df_merged"
      ],
      "execution_count": null,
      "outputs": []
    },
    {
      "cell_type": "code",
      "metadata": {
        "colab": {
          "base_uri": "https://localhost:8080/",
          "height": 419
        },
        "id": "VxSZ03Tt_-oE",
        "outputId": "3a3325a5-e98b-4905-b266-e757f471287d"
      },
      "source": [
        "df_gen = df_merged[['text_gen','parent_gen','label']].rename({'parent_gen':'parent','text_gen':'text'}, axis=1)\n",
        "df_gen"
      ],
      "execution_count": null,
      "outputs": [
        {
          "output_type": "execute_result",
          "data": {
            "text/html": [
              "<div>\n",
              "<style scoped>\n",
              "    .dataframe tbody tr th:only-of-type {\n",
              "        vertical-align: middle;\n",
              "    }\n",
              "\n",
              "    .dataframe tbody tr th {\n",
              "        vertical-align: top;\n",
              "    }\n",
              "\n",
              "    .dataframe thead th {\n",
              "        text-align: right;\n",
              "    }\n",
              "</style>\n",
              "<table border=\"1\" class=\"dataframe\">\n",
              "  <thead>\n",
              "    <tr style=\"text-align: right;\">\n",
              "      <th></th>\n",
              "      <th>text</th>\n",
              "      <th>parent</th>\n",
              "      <th>label</th>\n",
              "    </tr>\n",
              "  </thead>\n",
              "  <tbody>\n",
              "    <tr>\n",
              "      <th>0</th>\n",
              "      <td>BTW, I see no \"attack\" here. What I see is so...</td>\n",
              "      <td>I also feel its important for StuRat to have ...</td>\n",
              "      <td>0</td>\n",
              "    </tr>\n",
              "    <tr>\n",
              "      <th>1</th>\n",
              "      <td>I realise... I just wanted to make sure you h...</td>\n",
              "      <td>A main reason this project was started was to...</td>\n",
              "      <td>0</td>\n",
              "    </tr>\n",
              "    <tr>\n",
              "      <th>2</th>\n",
              "      <td>I should have stressed that this should be a ...</td>\n",
              "      <td>I'd go for that. A lot of the most common are...</td>\n",
              "      <td>0</td>\n",
              "    </tr>\n",
              "    <tr>\n",
              "      <th>3</th>\n",
              "      <td>Thanks to Lysy for suggesting this. They're b...</td>\n",
              "      <td>(edit conflict with Piotrus) I agree with the...</td>\n",
              "      <td>0</td>\n",
              "    </tr>\n",
              "    <tr>\n",
              "      <th>4</th>\n",
              "      <td>I like the additional info in the info box. I...</td>\n",
              "      <td>The larger box displays fine in Mozilla Firef...</td>\n",
              "      <td>0</td>\n",
              "    </tr>\n",
              "    <tr>\n",
              "      <th>...</th>\n",
              "      <td>...</td>\n",
              "      <td>...</td>\n",
              "      <td>...</td>\n",
              "    </tr>\n",
              "    <tr>\n",
              "      <th>23669</th>\n",
              "      <td>I guess 'cause there are some checks keeping ...</td>\n",
              "      <td>That's almost too ridiculous to be true, but ...</td>\n",
              "      <td>1</td>\n",
              "    </tr>\n",
              "    <tr>\n",
              "      <th>23670</th>\n",
              "      <td>Don’t cry too hard into your waifu, faggot.</td>\n",
              "      <td>You sound triggered. Did you get the link to ...</td>\n",
              "      <td>1</td>\n",
              "    </tr>\n",
              "    <tr>\n",
              "      <th>23671</th>\n",
              "      <td>The media will cover for you. You've just edi...</td>\n",
              "      <td>Here's what's going to happen: Broward is mag...</td>\n",
              "      <td>0</td>\n",
              "    </tr>\n",
              "    <tr>\n",
              "      <th>23672</th>\n",
              "      <td>I dont know exactly how you feel, of course, ...</td>\n",
              "      <td>Yeah tone \"ghost\" from the victory inn is sti...</td>\n",
              "      <td>1</td>\n",
              "    </tr>\n",
              "    <tr>\n",
              "      <th>23673</th>\n",
              "      <td>No clue whos these e-celebs are, but at this ...</td>\n",
              "      <td>In this minute long video, Top Secretabsolute...</td>\n",
              "      <td>1</td>\n",
              "    </tr>\n",
              "  </tbody>\n",
              "</table>\n",
              "<p>23674 rows × 3 columns</p>\n",
              "</div>"
            ],
            "text/plain": [
              "                                                    text  ... label\n",
              "0       BTW, I see no \"attack\" here. What I see is so...  ...     0\n",
              "1       I realise... I just wanted to make sure you h...  ...     0\n",
              "2       I should have stressed that this should be a ...  ...     0\n",
              "3       Thanks to Lysy for suggesting this. They're b...  ...     0\n",
              "4       I like the additional info in the info box. I...  ...     0\n",
              "...                                                  ...  ...   ...\n",
              "23669   I guess 'cause there are some checks keeping ...  ...     1\n",
              "23670        Don’t cry too hard into your waifu, faggot.  ...     1\n",
              "23671   The media will cover for you. You've just edi...  ...     0\n",
              "23672   I dont know exactly how you feel, of course, ...  ...     1\n",
              "23673   No clue whos these e-celebs are, but at this ...  ...     1\n",
              "\n",
              "[23674 rows x 3 columns]"
            ]
          },
          "metadata": {
            "tags": []
          },
          "execution_count": 62
        }
      ]
    },
    {
      "cell_type": "code",
      "metadata": {
        "colab": {
          "base_uri": "https://localhost:8080/",
          "height": 419
        },
        "id": "2Jiz9Zd8Adzi",
        "outputId": "250c34c3-d703-4a1b-c5ed-7783b0656ead"
      },
      "source": [
        "df_ori = df_merged[['text','parent','label']]\n",
        "df_ori"
      ],
      "execution_count": null,
      "outputs": [
        {
          "output_type": "execute_result",
          "data": {
            "text/html": [
              "<div>\n",
              "<style scoped>\n",
              "    .dataframe tbody tr th:only-of-type {\n",
              "        vertical-align: middle;\n",
              "    }\n",
              "\n",
              "    .dataframe tbody tr th {\n",
              "        vertical-align: top;\n",
              "    }\n",
              "\n",
              "    .dataframe thead th {\n",
              "        text-align: right;\n",
              "    }\n",
              "</style>\n",
              "<table border=\"1\" class=\"dataframe\">\n",
              "  <thead>\n",
              "    <tr style=\"text-align: right;\">\n",
              "      <th></th>\n",
              "      <th>text</th>\n",
              "      <th>parent</th>\n",
              "      <th>label</th>\n",
              "    </tr>\n",
              "  </thead>\n",
              "  <tbody>\n",
              "    <tr>\n",
              "      <th>0</th>\n",
              "      <td>BTW, I see no \"attack\" here. What I see is som...</td>\n",
              "      <td>I also feel its important for StuRat to have h...</td>\n",
              "      <td>0</td>\n",
              "    </tr>\n",
              "    <tr>\n",
              "      <th>1</th>\n",
              "      <td>I realise... I just want to urge caution and a...</td>\n",
              "      <td>A main reason this project was started was to ...</td>\n",
              "      <td>0</td>\n",
              "    </tr>\n",
              "    <tr>\n",
              "      <th>2</th>\n",
              "      <td>I should have stressed that this should be a t...</td>\n",
              "      <td>I'd go for that. (By the way, not all deletion...</td>\n",
              "      <td>0</td>\n",
              "    </tr>\n",
              "    <tr>\n",
              "      <th>3</th>\n",
              "      <td>Thanks to Lysy for shortening and copy editing...</td>\n",
              "      <td>(edit conflict with Piotrus) I agree with the ...</td>\n",
              "      <td>0</td>\n",
              "    </tr>\n",
              "    <tr>\n",
              "      <th>4</th>\n",
              "      <td>I like the additional info in the info box. It...</td>\n",
              "      <td>The larger box displays fine in Mozilla Firefo...</td>\n",
              "      <td>0</td>\n",
              "    </tr>\n",
              "    <tr>\n",
              "      <th>...</th>\n",
              "      <td>...</td>\n",
              "      <td>...</td>\n",
              "      <td>...</td>\n",
              "    </tr>\n",
              "    <tr>\n",
              "      <th>23669</th>\n",
              "      <td>I guess 'cause there are some checks keeping t...</td>\n",
              "      <td>That's almost too ridiculous to be true, but I...</td>\n",
              "      <td>1</td>\n",
              "    </tr>\n",
              "    <tr>\n",
              "      <th>23670</th>\n",
              "      <td>Don’t cry too hard into your waifu, faggot!</td>\n",
              "      <td>You sound triggered. Did your sippy cup run ou...</td>\n",
              "      <td>1</td>\n",
              "    </tr>\n",
              "    <tr>\n",
              "      <th>23671</th>\n",
              "      <td>The media will cover for the Dems and call rep...</td>\n",
              "      <td>Here's what's going to happen: Broward is magi...</td>\n",
              "      <td>0</td>\n",
              "    </tr>\n",
              "    <tr>\n",
              "      <th>23672</th>\n",
              "      <td>I dont know exactly how you feel, of course, b...</td>\n",
              "      <td>Yeah tone \"ghost\" from the victory inn is stil...</td>\n",
              "      <td>1</td>\n",
              "    </tr>\n",
              "    <tr>\n",
              "      <th>23673</th>\n",
              "      <td>No clue whos these e-celebs are, but at this p...</td>\n",
              "      <td>In this minute long video, Top Hate and Champa...</td>\n",
              "      <td>1</td>\n",
              "    </tr>\n",
              "  </tbody>\n",
              "</table>\n",
              "<p>23674 rows × 3 columns</p>\n",
              "</div>"
            ],
            "text/plain": [
              "                                                    text  ... label\n",
              "0      BTW, I see no \"attack\" here. What I see is som...  ...     0\n",
              "1      I realise... I just want to urge caution and a...  ...     0\n",
              "2      I should have stressed that this should be a t...  ...     0\n",
              "3      Thanks to Lysy for shortening and copy editing...  ...     0\n",
              "4      I like the additional info in the info box. It...  ...     0\n",
              "...                                                  ...  ...   ...\n",
              "23669  I guess 'cause there are some checks keeping t...  ...     1\n",
              "23670        Don’t cry too hard into your waifu, faggot!  ...     1\n",
              "23671  The media will cover for the Dems and call rep...  ...     0\n",
              "23672  I dont know exactly how you feel, of course, b...  ...     1\n",
              "23673  No clue whos these e-celebs are, but at this p...  ...     1\n",
              "\n",
              "[23674 rows x 3 columns]"
            ]
          },
          "metadata": {
            "tags": []
          },
          "execution_count": 63
        }
      ]
    },
    {
      "cell_type": "markdown",
      "metadata": {
        "id": "6oF5ZudkA_H9"
      },
      "source": [
        "1. text(Ori) - parent(ori)"
      ]
    },
    {
      "cell_type": "code",
      "metadata": {
        "id": "2QOoTSwvBk3i"
      },
      "source": [
        "condition = 'ori-ori'\n",
        "df_ori.to_csv(configs.path['path_drive'] / 'dataset' / f'combination-{condition}.csv')"
      ],
      "execution_count": null,
      "outputs": []
    },
    {
      "cell_type": "markdown",
      "metadata": {
        "id": "au5dABxcBKOn"
      },
      "source": [
        "2. text(Ori) - parent(Gan)"
      ]
    },
    {
      "cell_type": "code",
      "metadata": {
        "id": "DXebc1LICNz8"
      },
      "source": [
        "condition = 'ori-gan'\n",
        "pd.concat([ df_ori['text'],df_gen[['parent','label']] ], axis=1).to_csv(configs.path['path_drive'] / 'dataset' / f'combination-{condition}.csv')"
      ],
      "execution_count": null,
      "outputs": []
    },
    {
      "cell_type": "markdown",
      "metadata": {
        "id": "dS3ei9OtBLp2"
      },
      "source": [
        "3. text(Gan) - parent(Ori)"
      ]
    },
    {
      "cell_type": "code",
      "metadata": {
        "id": "tbb_4W-ZDa2J"
      },
      "source": [
        "# text gen, parant ori\n",
        "condition = 'gan-ori'\n",
        "pd.concat([ df_gen['text'],df_ori[['parent','label']] ], axis=1).to_csv(configs.path['path_drive'] / 'dataset' / f'combination-{condition}.csv')"
      ],
      "execution_count": null,
      "outputs": []
    },
    {
      "cell_type": "markdown",
      "metadata": {
        "id": "28prrrd9BL6t"
      },
      "source": [
        "4. text(Gan) - parent(Gan)"
      ]
    },
    {
      "cell_type": "code",
      "metadata": {
        "id": "TFtOrx0LCJjg"
      },
      "source": [
        "condition = 'gan-gan'\n",
        "df_ori.to_csv(configs.path['path_drive'] / 'dataset' / f'combination-{condition}.csv')"
      ],
      "execution_count": null,
      "outputs": []
    },
    {
      "cell_type": "markdown",
      "metadata": {
        "id": "r-3XEfbpBMSP"
      },
      "source": [
        "5. text(Ori+Gan) - parent(Ori+Gan)"
      ]
    },
    {
      "cell_type": "code",
      "metadata": {
        "id": "lU1XXmu-Dqbk"
      },
      "source": [
        "condition = 'all-merged'\n",
        "pd.concat([ df_gen, df_ori ], axis=0, ignore_index=True).to_csv(configs.path['path_drive'] / 'dataset' / f'combination-{condition}.csv')"
      ],
      "execution_count": null,
      "outputs": []
    },
    {
      "cell_type": "markdown",
      "metadata": {
        "id": "KnrqY9iPVw5X"
      },
      "source": [
        "# Kaggle - jigsaw dataset\n",
        "### for benchmark\n",
        "- 훈련된 모델을 평가할 수 있는 맥락을 포함하는 혐오발언 데이터셋이 존재하지 않음.\n",
        "- Kaggle - jigsaw dataset을 활용, 맥락이 None으로 제공될 때 모델의 분류성능을 측정.\n",
        "- 모델의 일반화 성능!"
      ]
    },
    {
      "cell_type": "code",
      "metadata": {
        "colab": {
          "base_uri": "https://localhost:8080/"
        },
        "id": "uQd9dHTzWqAp",
        "outputId": "619b0b9f-e213-4cdd-ee6f-766be0ebbffd"
      },
      "source": [
        "from google.colab import drive\n",
        "drive.mount('/content/gdrive',force_remount=True)"
      ],
      "execution_count": 1,
      "outputs": [
        {
          "output_type": "stream",
          "text": [
            "Mounted at /content/gdrive\n"
          ],
          "name": "stdout"
        }
      ]
    },
    {
      "cell_type": "code",
      "metadata": {
        "id": "gaG7Sg08qjOD"
      },
      "source": [
        "!ln -s /content/gdrive/My\\ Drive/toxic_nlp /toxic_nlp\n",
        "!ls /toxic_nlp"
      ],
      "execution_count": null,
      "outputs": []
    },
    {
      "cell_type": "code",
      "metadata": {
        "id": "kT2HsZedWxKJ"
      },
      "source": [
        "from pathlib import Path\n",
        "import numpy as np\n",
        "import pandas as pd\n",
        "\n",
        "import shutil\n",
        "import zipfile"
      ],
      "execution_count": 3,
      "outputs": []
    },
    {
      "cell_type": "code",
      "metadata": {
        "id": "0oTg0DOTV-82"
      },
      "source": [
        "class MyConfig(dict):\n",
        "  def __getattr__(self, name): return self[name]\n",
        "  def __setattr__(self, name, value): self[name] = value\n",
        "\n",
        "\n",
        "configs = MyConfig({'path':{\n",
        "    'path_drive' : Path('/toxic_nlp'),\n",
        "    'path_colab_data' : Path('./dataset')\n",
        "    }\n",
        "})\n",
        "\n",
        "# configs.path['dataset'] = [f for f in (configs.path['path_drive'] / 'dataset').glob('*') if 'generated_dataset.csv' in str(f)][0]\n",
        "configs.path['list_csv'] = [f for f in (configs.path['path_drive'] / 'dataset').glob('*.csv')]\n",
        "\n",
        "\n",
        "# src = [ f for f in (configs.path['path_drive'] / 'dataset' ).glob('*') if '.DS_' not in str(f) ]\n",
        "# print(src)\n"
      ],
      "execution_count": 23,
      "outputs": []
    },
    {
      "cell_type": "code",
      "metadata": {
        "id": "foXyJdlP-3rP"
      },
      "source": [
        "def get_data_csv_path(configs, condition):\n",
        "  condition = condition\n",
        "  return [f for f in configs.path['list_csv'] if f'{condition}' in str(f)][0]"
      ],
      "execution_count": 25,
      "outputs": []
    },
    {
      "cell_type": "code",
      "metadata": {
        "colab": {
          "base_uri": "https://localhost:8080/"
        },
        "id": "r84o7pA3__zG",
        "outputId": "d68c58f5-537d-4e99-9853-5a29a8125fd6"
      },
      "source": [
        "configs.path['list_csv']"
      ],
      "execution_count": 24,
      "outputs": [
        {
          "output_type": "execute_result",
          "data": {
            "text/plain": [
              "[PosixPath('/toxic_nlp/dataset/gc_clean.csv'),\n",
              " PosixPath('/toxic_nlp/dataset/gc_clean_ner.csv'),\n",
              " PosixPath('/toxic_nlp/dataset/gab_reddit.csv'),\n",
              " PosixPath('/toxic_nlp/dataset/gab_reddit_ner.csv'),\n",
              " PosixPath('/toxic_nlp/dataset/parent_gen_data.csv'),\n",
              " PosixPath('/toxic_nlp/dataset/text_gen_data.csv'),\n",
              " PosixPath('/toxic_nlp/dataset/parent_gen_data_v2.csv'),\n",
              " PosixPath('/toxic_nlp/dataset/text_gen_data_v2.csv'),\n",
              " PosixPath('/toxic_nlp/dataset/generated_dataset.csv'),\n",
              " PosixPath('/toxic_nlp/dataset/combination-gan-gan.csv'),\n",
              " PosixPath('/toxic_nlp/dataset/combination-ori-ori.csv'),\n",
              " PosixPath('/toxic_nlp/dataset/combination-ori-gan.csv'),\n",
              " PosixPath('/toxic_nlp/dataset/combination-gan-ori.csv'),\n",
              " PosixPath('/toxic_nlp/dataset/combination-all-merged.csv'),\n",
              " PosixPath('/toxic_nlp/dataset/tweet.csv'),\n",
              " PosixPath('/toxic_nlp/dataset/hate_speech18.csv'),\n",
              " PosixPath('/toxic_nlp/dataset/jig_test_labels.csv'),\n",
              " PosixPath('/toxic_nlp/dataset/jig_train.csv'),\n",
              " PosixPath('/toxic_nlp/dataset/jig_test.csv')]"
            ]
          },
          "metadata": {
            "tags": []
          },
          "execution_count": 24
        }
      ]
    },
    {
      "cell_type": "code",
      "metadata": {
        "id": "tLEuZsg9_x4T"
      },
      "source": [
        "df_jig_train = pd.read_csv(get_data_csv_path(configs, 'jig_train'))\n",
        "df_jig_test = pd.read_csv(get_data_csv_path(configs, 'jig_test'))\n",
        "df_jig_test_label = pd.read_csv(get_data_csv_path(configs, 'jig_test_labels'))\n"
      ],
      "execution_count": 30,
      "outputs": []
    },
    {
      "cell_type": "code",
      "metadata": {
        "colab": {
          "base_uri": "https://localhost:8080/",
          "height": 204
        },
        "id": "Jg1rc1poBn_w",
        "outputId": "74c3f9b5-a105-4e33-ebea-7846be715b25"
      },
      "source": [
        "df_jig_train.head()"
      ],
      "execution_count": 38,
      "outputs": [
        {
          "output_type": "execute_result",
          "data": {
            "text/html": [
              "<div>\n",
              "<style scoped>\n",
              "    .dataframe tbody tr th:only-of-type {\n",
              "        vertical-align: middle;\n",
              "    }\n",
              "\n",
              "    .dataframe tbody tr th {\n",
              "        vertical-align: top;\n",
              "    }\n",
              "\n",
              "    .dataframe thead th {\n",
              "        text-align: right;\n",
              "    }\n",
              "</style>\n",
              "<table border=\"1\" class=\"dataframe\">\n",
              "  <thead>\n",
              "    <tr style=\"text-align: right;\">\n",
              "      <th></th>\n",
              "      <th>id</th>\n",
              "      <th>comment_text</th>\n",
              "      <th>toxic</th>\n",
              "      <th>severe_toxic</th>\n",
              "      <th>obscene</th>\n",
              "      <th>threat</th>\n",
              "      <th>insult</th>\n",
              "      <th>identity_hate</th>\n",
              "    </tr>\n",
              "  </thead>\n",
              "  <tbody>\n",
              "    <tr>\n",
              "      <th>0</th>\n",
              "      <td>0000997932d777bf</td>\n",
              "      <td>Explanation\\nWhy the edits made under my usern...</td>\n",
              "      <td>0</td>\n",
              "      <td>0</td>\n",
              "      <td>0</td>\n",
              "      <td>0</td>\n",
              "      <td>0</td>\n",
              "      <td>0</td>\n",
              "    </tr>\n",
              "    <tr>\n",
              "      <th>1</th>\n",
              "      <td>000103f0d9cfb60f</td>\n",
              "      <td>D'aww! He matches this background colour I'm s...</td>\n",
              "      <td>0</td>\n",
              "      <td>0</td>\n",
              "      <td>0</td>\n",
              "      <td>0</td>\n",
              "      <td>0</td>\n",
              "      <td>0</td>\n",
              "    </tr>\n",
              "    <tr>\n",
              "      <th>2</th>\n",
              "      <td>000113f07ec002fd</td>\n",
              "      <td>Hey man, I'm really not trying to edit war. It...</td>\n",
              "      <td>0</td>\n",
              "      <td>0</td>\n",
              "      <td>0</td>\n",
              "      <td>0</td>\n",
              "      <td>0</td>\n",
              "      <td>0</td>\n",
              "    </tr>\n",
              "    <tr>\n",
              "      <th>3</th>\n",
              "      <td>0001b41b1c6bb37e</td>\n",
              "      <td>\"\\nMore\\nI can't make any real suggestions on ...</td>\n",
              "      <td>0</td>\n",
              "      <td>0</td>\n",
              "      <td>0</td>\n",
              "      <td>0</td>\n",
              "      <td>0</td>\n",
              "      <td>0</td>\n",
              "    </tr>\n",
              "    <tr>\n",
              "      <th>4</th>\n",
              "      <td>0001d958c54c6e35</td>\n",
              "      <td>You, sir, are my hero. Any chance you remember...</td>\n",
              "      <td>0</td>\n",
              "      <td>0</td>\n",
              "      <td>0</td>\n",
              "      <td>0</td>\n",
              "      <td>0</td>\n",
              "      <td>0</td>\n",
              "    </tr>\n",
              "  </tbody>\n",
              "</table>\n",
              "</div>"
            ],
            "text/plain": [
              "                 id  ... identity_hate\n",
              "0  0000997932d777bf  ...             0\n",
              "1  000103f0d9cfb60f  ...             0\n",
              "2  000113f07ec002fd  ...             0\n",
              "3  0001b41b1c6bb37e  ...             0\n",
              "4  0001d958c54c6e35  ...             0\n",
              "\n",
              "[5 rows x 8 columns]"
            ]
          },
          "metadata": {
            "tags": []
          },
          "execution_count": 38
        }
      ]
    },
    {
      "cell_type": "code",
      "metadata": {
        "colab": {
          "base_uri": "https://localhost:8080/"
        },
        "id": "89I9L6zsB18s",
        "outputId": "67d15a7f-16f9-416a-bc99-a4ef4427afca"
      },
      "source": [
        "df_jig_train.toxic.value_counts()"
      ],
      "execution_count": 37,
      "outputs": [
        {
          "output_type": "execute_result",
          "data": {
            "text/plain": [
              "0    144277\n",
              "1     15294\n",
              "Name: toxic, dtype: int64"
            ]
          },
          "metadata": {
            "tags": []
          },
          "execution_count": 37
        }
      ]
    },
    {
      "cell_type": "code",
      "metadata": {
        "id": "QSbMiKDlDjhg"
      },
      "source": [
        "import re"
      ],
      "execution_count": 46,
      "outputs": []
    },
    {
      "cell_type": "code",
      "metadata": {
        "id": "Shlk-r-kDfnt"
      },
      "source": [
        "class Regex_pattern():\n",
        "  def __init__(self):\n",
        "    self.emoji_pattern = re.compile(\"[\"\n",
        "                               u\"\\U0001F600-\\U0001F64F\"u\"\\U0001F300-\\U0001F5FF\"u\"\\U0001F680-\\U0001F6FF\"u\"\\U0001F1E0-\\U0001F1FF\"  # flags (iOS)\n",
        "                               u\"\\U00002500-\\U00002BEF\"u\"\\U00002702-\\U000027B0\"u\"\\U00002702-\\U000027B0\"\n",
        "                               u\"\\U000024C2-\\U0001F251\"u\"\\U0001f926-\\U0001f937\"u\"\\U00010000-\\U0010ffff\"\n",
        "                               u\"\\u2640-\\u2642\"u\"\\u2600-\\u2B55\"u\"\\u200d\"u\"\\u23cf\"u\"\\u23e9\"u\"\\u231a\"u\"\\ufe0f\"u\"\\u3030\"\"]+\", flags=re.UNICODE)\n",
        "    self.comment_number = re.compile(\"[0-9]+.\")\n",
        "    self.user = re.compile(r\"@[a-zA-Z]+\")\n",
        "    self.hash = re.compile(r\"#\")\n",
        "    self.unlatter = re.compile(\"[âð±ïó¾¬ª¯¶¦â¡©§¸©¹¼¥¤ã»ÃÀÁÂÃÄÅ½º¢µ$|¿°«à]\")\n",
        "    self.space = re.compile(r\"\\s+\") # too many space\n",
        "    \n",
        "    self.url = re.compile(\"(?i)\\b((?:https?://|www\\d{0,3}[.]|[a-z0-9.\\-]+[.][a-z]{2,4}/)(?:[^\\s()<>]+|\\(([^\\s()<>]+|(\\([^\\s()<>]+\\)))*\\))+(?:\\(([^\\s()<>]+|(\\([^\\s()<>]+\\)))*\\)|[^\\s`!()\\[\\]{};:'\\\".,<>?«»“”‘’]))\")\n",
        "    self.url_1 = re.compile('http[s]?://(?:[a-zA-Z]|[0-9]|[$\\-@\\.&+:/?=]|[!*\\(\\),]|(?:%[0-9a-fA-F][0-9a-fA-F]))+')\n",
        "    self.url_2 = re.compile('www(?:[a-zA-Z]|[0-9]|[$\\-@\\.&+:/?=]|[!*\\(\\),]|(?:%[0-9a-fA-F][0-9a-fA-F]))+')\n",
        "    self.url_3 = re.compile('http[s]? : // (?:[a-zA-Z]|[0-9]|[$\\-@\\.&+:/?=]|[!*\\(\\),]|(?:%[0-9a-fA-F][0-9a-fA-F]))+')\n",
        "    \n",
        "    self.ip = re.compile('\\d{1,3}\\.\\d{1,3}\\.\\d{1,3}\\.\\d{1,3}')\n",
        "    self.article_id = re.compile('d:\\d\\d\\s{0,5}$')\n",
        "    self.userid = re.compile('\\[\\[User(.*)\\|')\n",
        "\n",
        "def remove_emoji(string, regex_pattern):\n",
        "\n",
        "    string = regex_pattern.emoji_pattern.sub(r'', string)\n",
        "    # string = regex_pattern.comment_number.sub(r'',string)\n",
        "    string = regex_pattern.url.sub(r'',string)\n",
        "    # user @ tag는 전체 삭제\n",
        "    string = regex_pattern.user.sub(r'',string)\n",
        "    # #tag 해시태그는 #해시 문자만 삭제\n",
        "    string = regex_pattern.hash.sub(r'',string)\n",
        "    # string = re.compile(r\"#[a-zA-Z]+\").sub(r'',string)\n",
        "    string = regex_pattern.unlatter.sub(r'',string)\n",
        "    string = regex_pattern.space.sub(' ', string).strip()\n",
        "    string = regex_pattern.url_1.sub('',string)\n",
        "    string = regex_pattern.url_2.sub('',string)\n",
        "    string = regex_pattern.url_3.sub('',string)\n",
        "    return string\n",
        "\n",
        "regex_pattern = Regex_pattern()"
      ],
      "execution_count": 61,
      "outputs": []
    },
    {
      "cell_type": "code",
      "metadata": {
        "id": "4SVxaoHmIM6b"
      },
      "source": [
        ""
      ],
      "execution_count": null,
      "outputs": []
    },
    {
      "cell_type": "code",
      "metadata": {
        "id": "TiRQfbUhGBe8"
      },
      "source": [
        "df = df_jig_train"
      ],
      "execution_count": 51,
      "outputs": []
    },
    {
      "cell_type": "code",
      "metadata": {
        "id": "ODnMbvrNF7v2"
      },
      "source": [
        "df['count_sent']=df[\"comment_text\"].apply(lambda x: len(re.findall(\"\\n\",str(x)))+1)\n",
        "#Word count in each comment:\n",
        "df['count_word']=df[\"comment_text\"].apply(lambda x: len(str(x).split()))\n",
        "#Unique word count\n",
        "df['count_unique_word']=df[\"comment_text\"].apply(lambda x: len(set(str(x).split())))\n",
        "#Letter count\n",
        "df['count_letters']=df[\"comment_text\"].apply(lambda x: len(str(x)))\n",
        "#punctuation count\n",
        "# df[\"count_punctuations\"] =df[\"comment_text\"].apply(lambda x: len([c for c in str(x) if c in string.punctuation]))\n",
        "#upper case words count\n",
        "df[\"count_words_upper\"] = df[\"comment_text\"].apply(lambda x: len([w for w in str(x).split() if w.isupper()]))\n",
        "#title case words count\n",
        "df[\"count_words_title\"] = df[\"comment_text\"].apply(lambda x: len([w for w in str(x).split() if w.istitle()]))\n",
        "#Number of stopwords\n",
        "# df[\"count_stopwords\"] = df[\"comment_text\"].apply(lambda x: len([w for w in str(x).lower().split() if w in eng_stopwords]))\n",
        "#Average length of the words\n",
        "df[\"mean_word_len\"] = df[\"comment_text\"].apply(lambda x: np.mean([len(w) for w in str(x).split()]))\n"
      ],
      "execution_count": 53,
      "outputs": []
    },
    {
      "cell_type": "code",
      "metadata": {
        "id": "tHsjbMsQGdSj"
      },
      "source": [
        "#derived features\n",
        "#Word count percent in each comment:\n",
        "df['word_unique_percent']=df['count_unique_word']*100/df['count_word']"
      ],
      "execution_count": 55,
      "outputs": []
    },
    {
      "cell_type": "code",
      "metadata": {
        "id": "dKyXIAJfG2S9"
      },
      "source": [
        "#spammers - comments with less than 40% unique words\n",
        "spammers=df[df['word_unique_percent']<30]\n"
      ],
      "execution_count": 57,
      "outputs": []
    },
    {
      "cell_type": "code",
      "metadata": {
        "id": "3toGz593GVan"
      },
      "source": [
        "# 너무 단순한 한단어, 두단어 밖에 안되고 별 의미없는 복사 & 붙여넣기 문장 삭제\n",
        "for f in spammers.comment_text:\n",
        "  print(f)"
      ],
      "execution_count": null,
      "outputs": []
    },
    {
      "cell_type": "code",
      "metadata": {
        "colab": {
          "base_uri": "https://localhost:8080/"
        },
        "id": "x2eSKBCaIrEa",
        "outputId": "17b1e9bf-f740-4acc-e3b6-e53a30a9a3cf"
      },
      "source": [
        "print(df.shape)\n",
        "df = df[df['word_unique_percent']>=30]\n",
        "df.shape"
      ],
      "execution_count": 60,
      "outputs": [
        {
          "output_type": "stream",
          "text": [
            "(159571, 16)\n"
          ],
          "name": "stdout"
        },
        {
          "output_type": "execute_result",
          "data": {
            "text/plain": [
              "(159100, 16)"
            ]
          },
          "metadata": {
            "tags": []
          },
          "execution_count": 60
        }
      ]
    },
    {
      "cell_type": "code",
      "metadata": {
        "id": "-2zIPmTFCXVS"
      },
      "source": [
        "df_sample = df_jig_train.sample(100)\n",
        "for f in df_sample.comment_text:\n",
        "  # print(repr(f))\n",
        "  print(remove_emoji(f, regex_pattern))"
      ],
      "execution_count": null,
      "outputs": []
    },
    {
      "cell_type": "code",
      "metadata": {
        "id": "oKy8b8D7KPmJ"
      },
      "source": [
        "df['text_clean'] = df['comment_text'].apply(lambda x: remove_emoji(x, regex_pattern))\n",
        "df.head()"
      ],
      "execution_count": null,
      "outputs": []
    },
    {
      "cell_type": "code",
      "metadata": {
        "colab": {
          "base_uri": "https://localhost:8080/",
          "height": 513
        },
        "id": "deWePt2VKpQC",
        "outputId": "aa3e9793-8dff-40be-f940-ba51a272ccf6"
      },
      "source": [
        "df.head()"
      ],
      "execution_count": 67,
      "outputs": [
        {
          "output_type": "execute_result",
          "data": {
            "text/html": [
              "<div>\n",
              "<style scoped>\n",
              "    .dataframe tbody tr th:only-of-type {\n",
              "        vertical-align: middle;\n",
              "    }\n",
              "\n",
              "    .dataframe tbody tr th {\n",
              "        vertical-align: top;\n",
              "    }\n",
              "\n",
              "    .dataframe thead th {\n",
              "        text-align: right;\n",
              "    }\n",
              "</style>\n",
              "<table border=\"1\" class=\"dataframe\">\n",
              "  <thead>\n",
              "    <tr style=\"text-align: right;\">\n",
              "      <th></th>\n",
              "      <th>id</th>\n",
              "      <th>comment_text</th>\n",
              "      <th>toxic</th>\n",
              "      <th>severe_toxic</th>\n",
              "      <th>obscene</th>\n",
              "      <th>threat</th>\n",
              "      <th>insult</th>\n",
              "      <th>identity_hate</th>\n",
              "      <th>count_sent</th>\n",
              "      <th>count_word</th>\n",
              "      <th>count_unique_word</th>\n",
              "      <th>count_letters</th>\n",
              "      <th>count_words_upper</th>\n",
              "      <th>count_words_title</th>\n",
              "      <th>mean_word_len</th>\n",
              "      <th>word_unique_percent</th>\n",
              "      <th>text_clean</th>\n",
              "    </tr>\n",
              "  </thead>\n",
              "  <tbody>\n",
              "    <tr>\n",
              "      <th>0</th>\n",
              "      <td>0000997932d777bf</td>\n",
              "      <td>Explanation\\nWhy the edits made under my usern...</td>\n",
              "      <td>0</td>\n",
              "      <td>0</td>\n",
              "      <td>0</td>\n",
              "      <td>0</td>\n",
              "      <td>0</td>\n",
              "      <td>0</td>\n",
              "      <td>2</td>\n",
              "      <td>43</td>\n",
              "      <td>41</td>\n",
              "      <td>264</td>\n",
              "      <td>2</td>\n",
              "      <td>11</td>\n",
              "      <td>5.162791</td>\n",
              "      <td>95.348837</td>\n",
              "      <td>Explanation Why the edits made under my userna...</td>\n",
              "    </tr>\n",
              "    <tr>\n",
              "      <th>1</th>\n",
              "      <td>000103f0d9cfb60f</td>\n",
              "      <td>D'aww! He matches this background colour I'm s...</td>\n",
              "      <td>0</td>\n",
              "      <td>0</td>\n",
              "      <td>0</td>\n",
              "      <td>0</td>\n",
              "      <td>0</td>\n",
              "      <td>0</td>\n",
              "      <td>1</td>\n",
              "      <td>17</td>\n",
              "      <td>17</td>\n",
              "      <td>112</td>\n",
              "      <td>1</td>\n",
              "      <td>3</td>\n",
              "      <td>5.588235</td>\n",
              "      <td>100.000000</td>\n",
              "      <td>D'aww! He matches this background colour I'm s...</td>\n",
              "    </tr>\n",
              "    <tr>\n",
              "      <th>2</th>\n",
              "      <td>000113f07ec002fd</td>\n",
              "      <td>Hey man, I'm really not trying to edit war. It...</td>\n",
              "      <td>0</td>\n",
              "      <td>0</td>\n",
              "      <td>0</td>\n",
              "      <td>0</td>\n",
              "      <td>0</td>\n",
              "      <td>0</td>\n",
              "      <td>1</td>\n",
              "      <td>42</td>\n",
              "      <td>39</td>\n",
              "      <td>233</td>\n",
              "      <td>0</td>\n",
              "      <td>2</td>\n",
              "      <td>4.571429</td>\n",
              "      <td>92.857143</td>\n",
              "      <td>Hey man, I'm really not trying to edit war. It...</td>\n",
              "    </tr>\n",
              "    <tr>\n",
              "      <th>3</th>\n",
              "      <td>0001b41b1c6bb37e</td>\n",
              "      <td>\"\\nMore\\nI can't make any real suggestions on ...</td>\n",
              "      <td>0</td>\n",
              "      <td>0</td>\n",
              "      <td>0</td>\n",
              "      <td>0</td>\n",
              "      <td>0</td>\n",
              "      <td>0</td>\n",
              "      <td>5</td>\n",
              "      <td>113</td>\n",
              "      <td>82</td>\n",
              "      <td>622</td>\n",
              "      <td>5</td>\n",
              "      <td>7</td>\n",
              "      <td>4.486726</td>\n",
              "      <td>72.566372</td>\n",
              "      <td>\" More I can't make any real suggestions on im...</td>\n",
              "    </tr>\n",
              "    <tr>\n",
              "      <th>4</th>\n",
              "      <td>0001d958c54c6e35</td>\n",
              "      <td>You, sir, are my hero. Any chance you remember...</td>\n",
              "      <td>0</td>\n",
              "      <td>0</td>\n",
              "      <td>0</td>\n",
              "      <td>0</td>\n",
              "      <td>0</td>\n",
              "      <td>0</td>\n",
              "      <td>1</td>\n",
              "      <td>13</td>\n",
              "      <td>13</td>\n",
              "      <td>67</td>\n",
              "      <td>0</td>\n",
              "      <td>2</td>\n",
              "      <td>4.230769</td>\n",
              "      <td>100.000000</td>\n",
              "      <td>You, sir, are my hero. Any chance you remember...</td>\n",
              "    </tr>\n",
              "  </tbody>\n",
              "</table>\n",
              "</div>"
            ],
            "text/plain": [
              "                 id  ...                                         text_clean\n",
              "0  0000997932d777bf  ...  Explanation Why the edits made under my userna...\n",
              "1  000103f0d9cfb60f  ...  D'aww! He matches this background colour I'm s...\n",
              "2  000113f07ec002fd  ...  Hey man, I'm really not trying to edit war. It...\n",
              "3  0001b41b1c6bb37e  ...  \" More I can't make any real suggestions on im...\n",
              "4  0001d958c54c6e35  ...  You, sir, are my hero. Any chance you remember...\n",
              "\n",
              "[5 rows x 17 columns]"
            ]
          },
          "metadata": {
            "tags": []
          },
          "execution_count": 67
        }
      ]
    },
    {
      "cell_type": "code",
      "metadata": {
        "id": "Dm4edTyDKlDy"
      },
      "source": [
        "df_jig_clean = df[['text_clean','toxic']].rename({'text_clean':'text','toxic':'label'})\n",
        "df_jig_clean.head()\n",
        "\n",
        "df_jig_clean.to_csv(configs.path['path_drive'] / 'dataset' / 'jig_train.csv' )"
      ],
      "execution_count": 72,
      "outputs": []
    },
    {
      "cell_type": "code",
      "metadata": {
        "id": "l1tKERwgK_7I"
      },
      "source": [
        "configs"
      ],
      "execution_count": null,
      "outputs": []
    },
    {
      "cell_type": "code",
      "metadata": {
        "id": "ouIl0wDJXMwE"
      },
      "source": [
        "# load train & test csv files\n",
        "files = [f for f in configs.path['path_colab_data'].glob('*.csv') if '.zip' not in str(f)]\n",
        "jig_train = pd.read_csv([str(f) for f in files if 'train' in str(f)][0])\n",
        "jig_test = pd.read_csv([str(f) for f in files if 'test' in str(f)][0])\n",
        "jig_test_label = pd.read_csv([str(f) for f in files if 'test_label' in str(f)][0])"
      ],
      "execution_count": null,
      "outputs": []
    },
    {
      "cell_type": "markdown",
      "metadata": {
        "id": "Wpp0hI7dARHP"
      },
      "source": [
        "# Conan set"
      ]
    },
    {
      "cell_type": "code",
      "metadata": {
        "colab": {
          "base_uri": "https://localhost:8080/"
        },
        "id": "f8PBpR_xAQ5v",
        "outputId": "c034f9f6-0794-4dab-b463-0cf89fc79563"
      },
      "source": [
        "!wget https://raw.githubusercontent.com/marcoguerini/CONAN/master/CONAN/CONAN.csv conan.csv"
      ],
      "execution_count": null,
      "outputs": [
        {
          "output_type": "stream",
          "text": [
            "--2021-07-16 06:29:24--  https://raw.githubusercontent.com/marcoguerini/CONAN/master/CONAN/CONAN.csv\n",
            "Resolving raw.githubusercontent.com (raw.githubusercontent.com)... 185.199.110.133, 185.199.108.133, 185.199.109.133, ...\n",
            "Connecting to raw.githubusercontent.com (raw.githubusercontent.com)|185.199.110.133|:443... connected.\n",
            "HTTP request sent, awaiting response... 200 OK\n",
            "Length: 4035168 (3.8M) [text/plain]\n",
            "Saving to: ‘CONAN.csv’\n",
            "\n",
            "CONAN.csv           100%[===================>]   3.85M  --.-KB/s    in 0.07s   \n",
            "\n",
            "2021-07-16 06:29:29 (56.4 MB/s) - ‘CONAN.csv’ saved [4035168/4035168]\n",
            "\n",
            "--2021-07-16 06:29:29--  http://conan.csv/\n",
            "Resolving conan.csv (conan.csv)... failed: Name or service not known.\n",
            "wget: unable to resolve host address ‘conan.csv’\n",
            "FINISHED --2021-07-16 06:29:29--\n",
            "Total wall clock time: 4.8s\n",
            "Downloaded: 1 files, 3.8M in 0.07s (56.4 MB/s)\n"
          ],
          "name": "stdout"
        }
      ]
    },
    {
      "cell_type": "code",
      "metadata": {
        "id": "eBa4hXmmAY81"
      },
      "source": [
        "df_conan = pd.read_csv('CONAN.csv')"
      ],
      "execution_count": null,
      "outputs": []
    },
    {
      "cell_type": "code",
      "metadata": {
        "colab": {
          "base_uri": "https://localhost:8080/",
          "height": 289
        },
        "id": "q55P5sX9AtYH",
        "outputId": "4d399922-4ab6-42f9-a1ce-2b0db735d1e5"
      },
      "source": [
        "df_conan.head()"
      ],
      "execution_count": null,
      "outputs": [
        {
          "output_type": "execute_result",
          "data": {
            "text/html": [
              "<div>\n",
              "<style scoped>\n",
              "    .dataframe tbody tr th:only-of-type {\n",
              "        vertical-align: middle;\n",
              "    }\n",
              "\n",
              "    .dataframe tbody tr th {\n",
              "        vertical-align: top;\n",
              "    }\n",
              "\n",
              "    .dataframe thead th {\n",
              "        text-align: right;\n",
              "    }\n",
              "</style>\n",
              "<table border=\"1\" class=\"dataframe\">\n",
              "  <thead>\n",
              "    <tr style=\"text-align: right;\">\n",
              "      <th></th>\n",
              "      <th>cn_id</th>\n",
              "      <th>hateSpeech</th>\n",
              "      <th>counterSpeech</th>\n",
              "      <th>hsType</th>\n",
              "      <th>hsSubType</th>\n",
              "      <th>cnType</th>\n",
              "      <th>age</th>\n",
              "      <th>gender</th>\n",
              "      <th>educationLevel</th>\n",
              "    </tr>\n",
              "  </thead>\n",
              "  <tbody>\n",
              "    <tr>\n",
              "      <th>0</th>\n",
              "      <td>ENT1ST0001HS0033CN000021</td>\n",
              "      <td>According to a recent OFSTED report, a school ...</td>\n",
              "      <td>To be fair, the OFSTED report is more concerne...</td>\n",
              "      <td>Islamophobia</td>\n",
              "      <td>crimes</td>\n",
              "      <td>facts</td>\n",
              "      <td>61.0</td>\n",
              "      <td>male</td>\n",
              "      <td>Bachelor</td>\n",
              "    </tr>\n",
              "    <tr>\n",
              "      <th>1</th>\n",
              "      <td>ENT1ST0001HS0033CN000021P1</td>\n",
              "      <td>In Birmingham there is a school where girls an...</td>\n",
              "      <td>To be fair, the OFSTED report is more concerne...</td>\n",
              "      <td>Islamophobia</td>\n",
              "      <td>crimes</td>\n",
              "      <td>facts</td>\n",
              "      <td>61.0</td>\n",
              "      <td>male</td>\n",
              "      <td>Bachelor</td>\n",
              "    </tr>\n",
              "    <tr>\n",
              "      <th>2</th>\n",
              "      <td>ENT1ST0001HS0033CN000021P2</td>\n",
              "      <td>A school in Birningham is still separating gir...</td>\n",
              "      <td>To be fair, the OFSTED report is more concerne...</td>\n",
              "      <td>Islamophobia</td>\n",
              "      <td>crimes</td>\n",
              "      <td>facts</td>\n",
              "      <td>61.0</td>\n",
              "      <td>male</td>\n",
              "      <td>Bachelor</td>\n",
              "    </tr>\n",
              "    <tr>\n",
              "      <th>3</th>\n",
              "      <td>ENT1ST0001HS0033CN000022</td>\n",
              "      <td>According to a recent OFSTED report, a school ...</td>\n",
              "      <td>While this story is presented as an 'Islamic i...</td>\n",
              "      <td>Islamophobia</td>\n",
              "      <td>crimes</td>\n",
              "      <td>facts</td>\n",
              "      <td>61.0</td>\n",
              "      <td>male</td>\n",
              "      <td>Bachelor</td>\n",
              "    </tr>\n",
              "    <tr>\n",
              "      <th>4</th>\n",
              "      <td>ENT1ST0001HS0033CN000022P1</td>\n",
              "      <td>In Birmingham there is a school where girls an...</td>\n",
              "      <td>While this story is presented as an 'Islamic i...</td>\n",
              "      <td>Islamophobia</td>\n",
              "      <td>crimes</td>\n",
              "      <td>facts</td>\n",
              "      <td>61.0</td>\n",
              "      <td>male</td>\n",
              "      <td>Bachelor</td>\n",
              "    </tr>\n",
              "  </tbody>\n",
              "</table>\n",
              "</div>"
            ],
            "text/plain": [
              "                        cn_id  ... educationLevel\n",
              "0    ENT1ST0001HS0033CN000021  ...       Bachelor\n",
              "1  ENT1ST0001HS0033CN000021P1  ...       Bachelor\n",
              "2  ENT1ST0001HS0033CN000021P2  ...       Bachelor\n",
              "3    ENT1ST0001HS0033CN000022  ...       Bachelor\n",
              "4  ENT1ST0001HS0033CN000022P1  ...       Bachelor\n",
              "\n",
              "[5 rows x 9 columns]"
            ]
          },
          "metadata": {
            "tags": []
          },
          "execution_count": 32
        }
      ]
    },
    {
      "cell_type": "code",
      "metadata": {
        "colab": {
          "base_uri": "https://localhost:8080/"
        },
        "id": "faSX3P8nA1W-",
        "outputId": "58a24236-a429-4516-bcba-0f0923135e8a"
      },
      "source": [
        "df_conan.hsType.value_counts()"
      ],
      "execution_count": null,
      "outputs": [
        {
          "output_type": "execute_result",
          "data": {
            "text/plain": [
              "Islamophobia    14988\n",
              "Name: hsType, dtype: int64"
            ]
          },
          "metadata": {
            "tags": []
          },
          "execution_count": 33
        }
      ]
    },
    {
      "cell_type": "markdown",
      "metadata": {
        "id": "XR2bntjEAYyz"
      },
      "source": [
        "# Tweets hate speech detection dataset\n"
      ]
    },
    {
      "cell_type": "code",
      "metadata": {
        "colab": {
          "base_uri": "https://localhost:8080/"
        },
        "id": "oGIsExV48OVF",
        "outputId": "322c266a-62f2-4b5d-a2be-b8ad84969228"
      },
      "source": [
        "# !pip install transformers\n",
        "!pip install datasets"
      ],
      "execution_count": 1,
      "outputs": [
        {
          "output_type": "stream",
          "text": [
            "Requirement already satisfied: datasets in /usr/local/lib/python3.7/dist-packages (1.10.0)\n",
            "Requirement already satisfied: pandas in /usr/local/lib/python3.7/dist-packages (from datasets) (1.1.5)\n",
            "Requirement already satisfied: fsspec>=2021.05.0 in /usr/local/lib/python3.7/dist-packages (from datasets) (2021.7.0)\n",
            "Requirement already satisfied: pyarrow!=4.0.0,>=1.0.0 in /usr/local/lib/python3.7/dist-packages (from datasets) (3.0.0)\n",
            "Requirement already satisfied: numpy>=1.17 in /usr/local/lib/python3.7/dist-packages (from datasets) (1.19.5)\n",
            "Requirement already satisfied: requests>=2.19.0 in /usr/local/lib/python3.7/dist-packages (from datasets) (2.23.0)\n",
            "Requirement already satisfied: tqdm>=4.27 in /usr/local/lib/python3.7/dist-packages (from datasets) (4.43.0)\n",
            "Requirement already satisfied: huggingface-hub<0.1.0 in /usr/local/lib/python3.7/dist-packages (from datasets) (0.0.14)\n",
            "Requirement already satisfied: importlib-metadata in /usr/local/lib/python3.7/dist-packages (from datasets) (4.6.1)\n",
            "Requirement already satisfied: dill in /usr/local/lib/python3.7/dist-packages (from datasets) (0.3.4)\n",
            "Requirement already satisfied: packaging in /usr/local/lib/python3.7/dist-packages (from datasets) (21.0)\n",
            "Requirement already satisfied: xxhash in /usr/local/lib/python3.7/dist-packages (from datasets) (2.0.2)\n",
            "Requirement already satisfied: multiprocess in /usr/local/lib/python3.7/dist-packages (from datasets) (0.70.12.2)\n",
            "Requirement already satisfied: typing-extensions in /usr/local/lib/python3.7/dist-packages (from huggingface-hub<0.1.0->datasets) (3.7.4.3)\n",
            "Requirement already satisfied: filelock in /usr/local/lib/python3.7/dist-packages (from huggingface-hub<0.1.0->datasets) (3.0.12)\n",
            "Requirement already satisfied: pyparsing>=2.0.2 in /usr/local/lib/python3.7/dist-packages (from packaging->datasets) (2.4.7)\n",
            "Requirement already satisfied: chardet<4,>=3.0.2 in /usr/local/lib/python3.7/dist-packages (from requests>=2.19.0->datasets) (3.0.4)\n",
            "Requirement already satisfied: idna<3,>=2.5 in /usr/local/lib/python3.7/dist-packages (from requests>=2.19.0->datasets) (2.10)\n",
            "Requirement already satisfied: certifi>=2017.4.17 in /usr/local/lib/python3.7/dist-packages (from requests>=2.19.0->datasets) (2021.5.30)\n",
            "Requirement already satisfied: urllib3!=1.25.0,!=1.25.1,<1.26,>=1.21.1 in /usr/local/lib/python3.7/dist-packages (from requests>=2.19.0->datasets) (1.24.3)\n",
            "Requirement already satisfied: zipp>=0.5 in /usr/local/lib/python3.7/dist-packages (from importlib-metadata->datasets) (3.5.0)\n",
            "Requirement already satisfied: python-dateutil>=2.7.3 in /usr/local/lib/python3.7/dist-packages (from pandas->datasets) (2.8.1)\n",
            "Requirement already satisfied: pytz>=2017.2 in /usr/local/lib/python3.7/dist-packages (from pandas->datasets) (2018.9)\n",
            "Requirement already satisfied: six>=1.5 in /usr/local/lib/python3.7/dist-packages (from python-dateutil>=2.7.3->pandas->datasets) (1.15.0)\n"
          ],
          "name": "stdout"
        }
      ]
    },
    {
      "cell_type": "code",
      "metadata": {
        "colab": {
          "base_uri": "https://localhost:8080/"
        },
        "id": "bz4grsy-tQQm",
        "outputId": "4891eea9-3b67-4791-9969-4fe82b60406a"
      },
      "source": [
        "!pip install tqdm==4.43.0"
      ],
      "execution_count": 2,
      "outputs": [
        {
          "output_type": "stream",
          "text": [
            "Requirement already satisfied: tqdm==4.43.0 in /usr/local/lib/python3.7/dist-packages (4.43.0)\n"
          ],
          "name": "stdout"
        }
      ]
    },
    {
      "cell_type": "code",
      "metadata": {
        "id": "C1DakxAY-IUy"
      },
      "source": [
        "from datasets import load_dataset\n",
        "import pandas as pd"
      ],
      "execution_count": 3,
      "outputs": []
    },
    {
      "cell_type": "code",
      "metadata": {
        "colab": {
          "base_uri": "https://localhost:8080/",
          "height": 235,
          "referenced_widgets": [
            "00c75b1d3be04513a020d6a573167797",
            "09f1650d40224aab9e1394dc22597b17",
            "fadb3555454e4a56bad39a3c919cc368",
            "fa0abc0e2bb2482ea69a259864604266",
            "3fdb0cabd43f44d4bae9272f746c4788",
            "04d6e977bff1407d84300171d7f62cdb",
            "ddd57a5e818b4097b8bc89fd0840c287",
            "4b2ecfe09b9144c5952ff59c92b4a9cb",
            "a882ce30dd4c41d99c15ab17fcb74ac6",
            "85ec3ce7ab184c9c8e3fe5cf477bf7d1",
            "40e2762e5a1449699f2e6a96239afb62",
            "f291e90049534c909aa9b09ec2d59581",
            "e717db7e90ce442bb2eb4e9fcb4ef2f4",
            "77c82b049238434cb2f1c82fba4df0b2",
            "faad58a136bc46c881c9239eadc1ad0f",
            "59caa223a642488093083cdb9db06dfe",
            "ceb4fd2119af453bb636662a4b482851",
            "c60ec62f1b26429cafca1988c4031f13",
            "84d759a25ff941f281f91f7990b3be2d",
            "70dc24207c8448bb8bdd823614ff4aa8",
            "478c36b0fa344ddb8b032e2f7ce11af3",
            "45e13418b8c94d28bd67205a0902268b",
            "db196c29d61f45a0a6c0d3625096727a",
            "4f97c2e25b064de7be3f6e031e5b9fdc",
            "d41f8c787e434e5aa2e585280548f0fb",
            "0a9fcfb7e0bf47a18bbb3cbb07982b01",
            "c14e9a5e8b8f4cd3a9d75feabcabbeba",
            "9976c98a0a884c1c9eeda9a40ba23578",
            "ff9e032dd3524b07bb69f08882a219c9",
            "72126b639b7c47879868181f0f16affc",
            "262580954e0d43fea3107b6bdcf65965",
            "ba129b9777b64e34833d06dd7083ee1a"
          ]
        },
        "id": "EPUr4yTu8soV",
        "outputId": "7adbfe1e-3fe0-4cdb-f8a0-f8f875900ed2"
      },
      "source": [
        "from datasets import load_dataset\n",
        "\n",
        "dataset = load_dataset('tweets_hate_speech_detection')"
      ],
      "execution_count": 4,
      "outputs": [
        {
          "output_type": "display_data",
          "data": {
            "application/vnd.jupyter.widget-view+json": {
              "model_id": "00c75b1d3be04513a020d6a573167797",
              "version_minor": 0,
              "version_major": 2
            },
            "text/plain": [
              "HBox(children=(FloatProgress(value=0.0, description='Downloading', max=1445.0, style=ProgressStyle(description…"
            ]
          },
          "metadata": {
            "tags": []
          }
        },
        {
          "output_type": "stream",
          "text": [
            "\n"
          ],
          "name": "stdout"
        },
        {
          "output_type": "display_data",
          "data": {
            "application/vnd.jupyter.widget-view+json": {
              "model_id": "a882ce30dd4c41d99c15ab17fcb74ac6",
              "version_minor": 0,
              "version_major": 2
            },
            "text/plain": [
              "HBox(children=(FloatProgress(value=0.0, description='Downloading', max=881.0, style=ProgressStyle(description_…"
            ]
          },
          "metadata": {
            "tags": []
          }
        },
        {
          "output_type": "stream",
          "text": [
            "Using custom data configuration default\n"
          ],
          "name": "stderr"
        },
        {
          "output_type": "stream",
          "text": [
            "\n",
            "Downloading and preparing dataset tweets_hate_speech_detection/default (download: 2.96 MiB, generated: 3.04 MiB, post-processed: Unknown size, total: 6.00 MiB) to /root/.cache/huggingface/datasets/tweets_hate_speech_detection/default/0.0.0/3e953745870454cf8ff15cc48097dbb5ff459596e0a089867c2a29cee63984ec...\n"
          ],
          "name": "stdout"
        },
        {
          "output_type": "display_data",
          "data": {
            "application/vnd.jupyter.widget-view+json": {
              "model_id": "ceb4fd2119af453bb636662a4b482851",
              "version_minor": 0,
              "version_major": 2
            },
            "text/plain": [
              "HBox(children=(FloatProgress(value=0.0, description='Downloading', max=1276746.0, style=ProgressStyle(descript…"
            ]
          },
          "metadata": {
            "tags": []
          }
        },
        {
          "output_type": "stream",
          "text": [
            "\n"
          ],
          "name": "stdout"
        },
        {
          "output_type": "display_data",
          "data": {
            "application/vnd.jupyter.widget-view+json": {
              "model_id": "d41f8c787e434e5aa2e585280548f0fb",
              "version_minor": 0,
              "version_major": 2
            },
            "text/plain": [
              "HBox(children=(FloatProgress(value=1.0, bar_style='info', max=1.0), HTML(value='')))"
            ]
          },
          "metadata": {
            "tags": []
          }
        },
        {
          "output_type": "stream",
          "text": [
            "\rDataset tweets_hate_speech_detection downloaded and prepared to /root/.cache/huggingface/datasets/tweets_hate_speech_detection/default/0.0.0/3e953745870454cf8ff15cc48097dbb5ff459596e0a089867c2a29cee63984ec. Subsequent calls will reuse this data.\n"
          ],
          "name": "stdout"
        }
      ]
    },
    {
      "cell_type": "code",
      "metadata": {
        "colab": {
          "base_uri": "https://localhost:8080/"
        },
        "id": "GbTctIvH-xLv",
        "outputId": "82d9e432-6948-444c-a253-346a7731dc5c"
      },
      "source": [
        "df = pd.DataFrame({'tweet': dataset['train'][:]['tweet'], 'label': dataset['train'][:]['label']})\n",
        "df.label.value_counts()"
      ],
      "execution_count": 5,
      "outputs": [
        {
          "output_type": "execute_result",
          "data": {
            "text/plain": [
              "0    29720\n",
              "1     2242\n",
              "Name: label, dtype: int64"
            ]
          },
          "metadata": {
            "tags": []
          },
          "execution_count": 5
        }
      ]
    },
    {
      "cell_type": "code",
      "metadata": {
        "id": "GMLf0Zact9Oz"
      },
      "source": [
        "import re"
      ],
      "execution_count": 8,
      "outputs": []
    },
    {
      "cell_type": "code",
      "metadata": {
        "id": "3Fsy6LoSt8Jq"
      },
      "source": [
        "class Regex_pattern():\n",
        "  def __init__(self):\n",
        "    self.emoji_pattern = re.compile(\"[\"\n",
        "                               u\"\\U0001F600-\\U0001F64F\"  # emoticons\n",
        "                               u\"\\U0001F300-\\U0001F5FF\"  # symbols & pictographs\n",
        "                               u\"\\U0001F680-\\U0001F6FF\"  # transport & map symbols\n",
        "                               u\"\\U0001F1E0-\\U0001F1FF\"  # flags (iOS)\n",
        "                               u\"\\U00002500-\\U00002BEF\"  # chinese char\n",
        "                               u\"\\U00002702-\\U000027B0\"\n",
        "                               u\"\\U00002702-\\U000027B0\"\n",
        "                               u\"\\U000024C2-\\U0001F251\"\n",
        "                               u\"\\U0001f926-\\U0001f937\"\n",
        "                               u\"\\U00010000-\\U0010ffff\"\n",
        "                               u\"\\u2640-\\u2642\"\n",
        "                               u\"\\u2600-\\u2B55\"\n",
        "                               u\"\\u200d\"\n",
        "                               u\"\\u23cf\"\n",
        "                               u\"\\u23e9\"\n",
        "                               u\"\\u231a\"\n",
        "                               u\"\\ufe0f\"  # dingbats\n",
        "                               u\"\\u3030\"\n",
        "                               \"]+\", flags=re.UNICODE)\n",
        "    self.comment_number = re.compile(\"[0-9]+.\")\n",
        "    self.url = re.compile(\"(?i)\\b((?:https?://|www\\d{0,3}[.]|[a-z0-9.\\-]+[.][a-z]{2,4}/)(?:[^\\s()<>]+|\\(([^\\s()<>]+|(\\([^\\s()<>]+\\)))*\\))+(?:\\(([^\\s()<>]+|(\\([^\\s()<>]+\\)))*\\)|[^\\s`!()\\[\\]{};:'\\\".,<>?«»“”‘’]))\")\n",
        "    self.user = re.compile(r\"@[a-zA-Z]+\")\n",
        "    self.hash = re.compile(r\"#\")\n",
        "    self.unlatter = re.compile(\"[âð±ïó¾¬ª¯¶¦â¡©§¸©¹¼¥¤ã»ÃÀÁÂÃÄÅ½º¢µ$|¿°«à]\")\n",
        "    self.space = re.compile(r\"\\s+\") # too many space\n",
        "\n",
        "\n",
        "def remove_emoji(string, regex_pattern):\n",
        "\n",
        "    string = regex_pattern.emoji_pattern.sub(r'', string)\n",
        "    string = regex_pattern.comment_number.sub(r'',string)\n",
        "    string = regex_pattern.url.sub(r'',string)\n",
        "    # user @ tag는 전체 삭제\n",
        "    string = regex_pattern.user.sub(r'',string)\n",
        "    # #tag 해시태그는 #해시 문자만 삭제\n",
        "    string = regex_pattern.hash.sub(r'',string)\n",
        "    # string = re.compile(r\"#[a-zA-Z]+\").sub(r'',string)\n",
        "    string = regex_pattern.unlatter.sub(r'',string)\n",
        "    string = regex_pattern.space.sub(' ', string).strip()\n",
        "    return string\n",
        "\n",
        "regex_pattern = Regex_pattern()"
      ],
      "execution_count": 60,
      "outputs": []
    },
    {
      "cell_type": "code",
      "metadata": {
        "id": "nxlMUlbz5ovo"
      },
      "source": [
        "df_sample = df.sample(100)"
      ],
      "execution_count": 61,
      "outputs": []
    },
    {
      "cell_type": "code",
      "metadata": {
        "id": "U4-FAC7p_C89"
      },
      "source": [
        "df_sample = df.sample(100)\n",
        "for f in df_sample.tweet:\n",
        "  # print('ori',f)\n",
        "  f = remove_emoji(f,regex_pattern)\n",
        "  print('reg',f)"
      ],
      "execution_count": null,
      "outputs": []
    },
    {
      "cell_type": "code",
      "metadata": {
        "colab": {
          "base_uri": "https://localhost:8080/"
        },
        "id": "osQ6HEk--cmu",
        "outputId": "9a681e3e-4876-4afe-ae8f-8ee899dfd643"
      },
      "source": [
        "df['tweet'].apply(lambda x: remove_emoji(x, regex_pattern))"
      ],
      "execution_count": 72,
      "outputs": [
        {
          "output_type": "execute_result",
          "data": {
            "text/plain": [
              "0        when a father is dysfunctional and is so selfi...\n",
              "1        thanks for lyft credit i can't use cause they ...\n",
              "2                                      bihday your majesty\n",
              "3        model i love u take with u all the time in ur...\n",
              "4                       factsguide: society now motivation\n",
              "                               ...                        \n",
              "31957     ate isz that youuu?\n",
              "31958    to see nina turner on the airwaves trying to w...\n",
              "31959    listening to sad songs on a monday morning otw...\n",
              "31960    sikh temple vandalised in in calgary, wso cond...\n",
              "31961                             thank you for you follow\n",
              "Name: tweet, Length: 31962, dtype: object"
            ]
          },
          "metadata": {
            "tags": []
          },
          "execution_count": 72
        }
      ]
    },
    {
      "cell_type": "code",
      "metadata": {
        "colab": {
          "base_uri": "https://localhost:8080/",
          "height": 204
        },
        "id": "rFlQ2Tps-PgY",
        "outputId": "9513bf4a-611a-4155-8c1f-331b3edf34f9"
      },
      "source": [
        "df['tweet_clean'] = df['tweet'].apply(lambda x: remove_emoji(x, regex_pattern))\n",
        "df.head()\n",
        "df_clean = df[['tweet_clean','label']]\n",
        "df_clean.head()"
      ],
      "execution_count": 74,
      "outputs": [
        {
          "output_type": "execute_result",
          "data": {
            "text/html": [
              "<div>\n",
              "<style scoped>\n",
              "    .dataframe tbody tr th:only-of-type {\n",
              "        vertical-align: middle;\n",
              "    }\n",
              "\n",
              "    .dataframe tbody tr th {\n",
              "        vertical-align: top;\n",
              "    }\n",
              "\n",
              "    .dataframe thead th {\n",
              "        text-align: right;\n",
              "    }\n",
              "</style>\n",
              "<table border=\"1\" class=\"dataframe\">\n",
              "  <thead>\n",
              "    <tr style=\"text-align: right;\">\n",
              "      <th></th>\n",
              "      <th>tweet_clean</th>\n",
              "      <th>label</th>\n",
              "    </tr>\n",
              "  </thead>\n",
              "  <tbody>\n",
              "    <tr>\n",
              "      <th>0</th>\n",
              "      <td>when a father is dysfunctional and is so selfi...</td>\n",
              "      <td>0</td>\n",
              "    </tr>\n",
              "    <tr>\n",
              "      <th>1</th>\n",
              "      <td>thanks for lyft credit i can't use cause they ...</td>\n",
              "      <td>0</td>\n",
              "    </tr>\n",
              "    <tr>\n",
              "      <th>2</th>\n",
              "      <td>bihday your majesty</td>\n",
              "      <td>0</td>\n",
              "    </tr>\n",
              "    <tr>\n",
              "      <th>3</th>\n",
              "      <td>model i love u take with u all the time in ur...</td>\n",
              "      <td>0</td>\n",
              "    </tr>\n",
              "    <tr>\n",
              "      <th>4</th>\n",
              "      <td>factsguide: society now motivation</td>\n",
              "      <td>0</td>\n",
              "    </tr>\n",
              "  </tbody>\n",
              "</table>\n",
              "</div>"
            ],
            "text/plain": [
              "                                         tweet_clean  label\n",
              "0  when a father is dysfunctional and is so selfi...      0\n",
              "1  thanks for lyft credit i can't use cause they ...      0\n",
              "2                                bihday your majesty      0\n",
              "3  model i love u take with u all the time in ur...      0\n",
              "4                 factsguide: society now motivation      0"
            ]
          },
          "metadata": {
            "tags": []
          },
          "execution_count": 74
        }
      ]
    },
    {
      "cell_type": "code",
      "metadata": {
        "colab": {
          "base_uri": "https://localhost:8080/"
        },
        "id": "1yf0RcJq9N58",
        "outputId": "1f6ee300-33cb-4e3b-dcdc-f9332d8d6131"
      },
      "source": [
        "from google.colab import drive\n",
        "drive.mount('/content/gdrive')"
      ],
      "execution_count": 114,
      "outputs": [
        {
          "output_type": "stream",
          "text": [
            "Mounted at /content/gdrive\n"
          ],
          "name": "stdout"
        }
      ]
    },
    {
      "cell_type": "code",
      "metadata": {
        "colab": {
          "base_uri": "https://localhost:8080/"
        },
        "id": "7VuBf46p9T_S",
        "outputId": "4e4a3aea-6b45-40ff-c560-72f420248a68"
      },
      "source": [
        "!ln -s /content/gdrive/My\\ Drive/toxic_nlp /toxic_nlp\n",
        "!ls /toxic_nlp"
      ],
      "execution_count": 115,
      "outputs": [
        {
          "output_type": "stream",
          "text": [
            " BentoML.ipynb\n",
            " BERT_dynamic_quantiztion_tutorial.ipynb\n",
            " dataset\n",
            " Electra-model\n",
            " Electra-model-save\n",
            " Electra_with_pair_sentence.ipynb\n",
            " Electra_with_pair_sentence_trained_generated_dataset.ipynb\n",
            " Electra_with_pair_sentence_trained_vanilla_dataset.ipynb\n",
            " Electra_with_pair_Sentence_Training_Eval.ipynb\n",
            " fine-tuneWith_transformer_API_tutorial.ipynb\n",
            " gpt-neo-checkpoints\n",
            "'GTP-neo-fine-tuning(parents-text).ipynb'\n",
            "'GTP-neo-fine-tuning(toxic-text).ipynb'\n",
            " Hope-speech-tutorial.ipynb\n",
            " Inference_Time.ipynb\n",
            " ktrain.ipynb\n",
            " Preprocessing_data_and_prepare4training.ipynb\n",
            " preprocessing_datasets.ipynb\n",
            " pytorch_tutorial.ipynb\n",
            " toxic_v1.ipynb\n",
            " toxic_v2.ipynb\n"
          ],
          "name": "stdout"
        }
      ]
    },
    {
      "cell_type": "code",
      "metadata": {
        "colab": {
          "base_uri": "https://localhost:8080/"
        },
        "id": "JmTpfd8W9iK9",
        "outputId": "7c6008a5-6122-4966-e3d7-25c06e54ff99"
      },
      "source": [
        "from pathlib import Path\n",
        "\n",
        "class MyConfig(dict):\n",
        "  def __getattr__(self, name): return self[name]\n",
        "  def __setattr__(self, name, value): self[name] = value\n",
        "\n",
        "\n",
        "configs = MyConfig({'path_drive': Path('/toxic_nlp')\n",
        "})\n",
        "configs.path_drive / 'dataset'\n",
        "\n"
      ],
      "execution_count": 116,
      "outputs": [
        {
          "output_type": "execute_result",
          "data": {
            "text/plain": [
              "PosixPath('/toxic_nlp/dataset')"
            ]
          },
          "metadata": {
            "tags": []
          },
          "execution_count": 116
        }
      ]
    },
    {
      "cell_type": "code",
      "metadata": {
        "id": "XLnG15JJ-7Aa"
      },
      "source": [
        "df_clean.to_csv(configs.path_drive / 'dataset' / 'tweet.csv')"
      ],
      "execution_count": 75,
      "outputs": []
    },
    {
      "cell_type": "code",
      "metadata": {
        "id": "0y15DRhsGt-U"
      },
      "source": [
        "df_gc = pd.read_csv(configs.path_drive / 'dataset' / 'gc_clean_ner.csv')\n"
      ],
      "execution_count": 76,
      "outputs": []
    },
    {
      "cell_type": "code",
      "metadata": {
        "id": "IGc2SCsZG5BU"
      },
      "source": [
        "df_gc"
      ],
      "execution_count": null,
      "outputs": []
    },
    {
      "cell_type": "markdown",
      "metadata": {
        "id": "9P-yVWRdmckT"
      },
      "source": [
        "# Hate speech 18 from 백인우월주의자 포럼\n"
      ]
    },
    {
      "cell_type": "code",
      "metadata": {
        "id": "XfUpIaQLmbxW"
      },
      "source": [
        "!pip install datasets\n",
        "!pip install tqdm==4.43.0"
      ],
      "execution_count": null,
      "outputs": []
    },
    {
      "cell_type": "code",
      "metadata": {
        "id": "U3ni5PVem3Ff"
      },
      "source": [
        "from datasets import load_dataset\n",
        "import pandas as pd\n",
        "import re"
      ],
      "execution_count": 2,
      "outputs": []
    },
    {
      "cell_type": "code",
      "metadata": {
        "colab": {
          "base_uri": "https://localhost:8080/"
        },
        "id": "9spjEWUynCgV",
        "outputId": "4d684f6e-c791-4505-913b-d6d6733c9cae"
      },
      "source": [
        "df = load_dataset('hate_speech18')\n",
        "df"
      ],
      "execution_count": 15,
      "outputs": [
        {
          "output_type": "stream",
          "text": [
            "Using custom data configuration default\n",
            "Reusing dataset hate_speech18 (/root/.cache/huggingface/datasets/hate_speech18/default/0.0.0/8033f254483a20d1d10b0f1b56ded1f54326b1617872c537f354a721a6951d47)\n"
          ],
          "name": "stderr"
        },
        {
          "output_type": "execute_result",
          "data": {
            "text/plain": [
              "DatasetDict({\n",
              "    train: Dataset({\n",
              "        features: ['text', 'user_id', 'subforum_id', 'num_contexts', 'label'],\n",
              "        num_rows: 10944\n",
              "    })\n",
              "})"
            ]
          },
          "metadata": {
            "tags": []
          },
          "execution_count": 15
        }
      ]
    },
    {
      "cell_type": "code",
      "metadata": {
        "colab": {
          "base_uri": "https://localhost:8080/"
        },
        "id": "vyhVYFlMnJg-",
        "outputId": "2762f582-917b-49b9-a4fb-be4dd884f05d"
      },
      "source": [
        "df = pd.DataFrame({'text': df['train']['text'], \n",
        "                   'label':df['train']['label'], \n",
        "                   'num_contexts':df['train']['num_contexts'] })\n",
        "\n",
        "df.label.value_counts()"
      ],
      "execution_count": 16,
      "outputs": [
        {
          "output_type": "execute_result",
          "data": {
            "text/plain": [
              "0    9507\n",
              "1    1196\n",
              "3     168\n",
              "2      73\n",
              "Name: label, dtype: int64"
            ]
          },
          "metadata": {
            "tags": []
          },
          "execution_count": 16
        }
      ]
    },
    {
      "cell_type": "markdown",
      "metadata": {
        "id": "H_3lIDl5qJ5D"
      },
      "source": [
        "### label\n",
        "- 0: non toxic\n",
        "- 1: toxic\n",
        "- 2: 외국어\n",
        "- 3: 해당 문장은 toxic 하지 않지만, 맥락이 있으면 toxic (맥락은 제공되지 않음)\n"
      ]
    },
    {
      "cell_type": "code",
      "metadata": {
        "id": "CxWPFvqzo0z6"
      },
      "source": [
        "df[ ((df.label == 0) | (df.label==1)) ].label.value_counts()\n",
        "# take 0,1\n",
        "df = df[ ((df.label == 0) | (df.label==1)) ]"
      ],
      "execution_count": 34,
      "outputs": []
    },
    {
      "cell_type": "code",
      "metadata": {
        "id": "S049Y5v6q4xr"
      },
      "source": [
        "class Regex_pattern():\n",
        "  def __init__(self):\n",
        "    self.emoji_pattern = re.compile(\"[\"\n",
        "                               u\"\\U0001F600-\\U0001F64F\"  # emoticons\n",
        "                               u\"\\U0001F300-\\U0001F5FF\"  # symbols & pictographs\n",
        "                               u\"\\U0001F680-\\U0001F6FF\"  # transport & map symbols\n",
        "                               u\"\\U0001F1E0-\\U0001F1FF\"  # flags (iOS)\n",
        "                               u\"\\U00002500-\\U00002BEF\"  # chinese char\n",
        "                               u\"\\U00002702-\\U000027B0\"\n",
        "                               u\"\\U00002702-\\U000027B0\"\n",
        "                               u\"\\U000024C2-\\U0001F251\"\n",
        "                               u\"\\U0001f926-\\U0001f937\"\n",
        "                               u\"\\U00010000-\\U0010ffff\"\n",
        "                               u\"\\u2640-\\u2642\"\n",
        "                               u\"\\u2600-\\u2B55\"\n",
        "                               u\"\\u200d\"\n",
        "                               u\"\\u23cf\"\n",
        "                               u\"\\u23e9\"\n",
        "                               u\"\\u231a\"\n",
        "                               u\"\\ufe0f\"  # dingbats\n",
        "                               u\"\\u3030\"\n",
        "                               \"]+\", flags=re.UNICODE)\n",
        "    self.comment_number = re.compile(\"[0-9]+.\")\n",
        "    self.url = re.compile(\"(?i)\\b((?:https?://|www\\d{0,3}[.]|[a-z0-9.\\-]+[.][a-z]{2,4}/)(?:[^\\s()<>]+|\\(([^\\s()<>]+|(\\([^\\s()<>]+\\)))*\\))+(?:\\(([^\\s()<>]+|(\\([^\\s()<>]+\\)))*\\)|[^\\s`!()\\[\\]{};:'\\\".,<>?«»“”‘’]))\")\n",
        "    self.user = re.compile(r\"@[a-zA-Z]+\")\n",
        "    self.hash = re.compile(r\"#\")\n",
        "    self.unlatter = re.compile(\"[âð±ïó¾¬ª¯¶¦â¡©§¸©¹¼¥¤ã»ÃÀÁÂÃÄÅ½º¢µ$|¿°«à]\")\n",
        "    self.space = re.compile(r\"\\s+\") # too many space\n",
        "    self.url_1 = re.compile('http[s]?://(?:[a-zA-Z]|[0-9]|[$\\-@\\.&+:/?=]|[!*\\(\\),]|(?:%[0-9a-fA-F][0-9a-fA-F]))+')\n",
        "    self.url_2 = re.compile('www(?:[a-zA-Z]|[0-9]|[$\\-@\\.&+:/?=]|[!*\\(\\),]|(?:%[0-9a-fA-F][0-9a-fA-F]))+')\n",
        "    self.url_3 = re.compile('http[s]? : // (?:[a-zA-Z]|[0-9]|[$\\-@\\.&+:/?=]|[!*\\(\\),]|(?:%[0-9a-fA-F][0-9a-fA-F]))+')\n",
        "# m = re.findall('http[s]?://(?:[a-zA-Z]|[0-9]|[$\\-@\\.&+:/?=]|[!*\\(\\),]|(?:%[0-9a-fA-F][0-9a-fA-F]))+', str1)\n",
        "\n",
        "def remove_emoji(string, regex_pattern):\n",
        "\n",
        "    string = regex_pattern.emoji_pattern.sub(r'', string)\n",
        "    # string = regex_pattern.comment_number.sub(r'',string)\n",
        "    string = regex_pattern.url.sub(r'',string)\n",
        "    # user @ tag는 전체 삭제\n",
        "    string = regex_pattern.user.sub(r'',string)\n",
        "    # #tag 해시태그는 #해시 문자만 삭제\n",
        "    string = regex_pattern.hash.sub(r'',string)\n",
        "    # string = re.compile(r\"#[a-zA-Z]+\").sub(r'',string)\n",
        "    string = regex_pattern.unlatter.sub(r'',string)\n",
        "    string = regex_pattern.space.sub(' ', string).strip()\n",
        "    string = regex_pattern.url_1.sub('',string)\n",
        "    string = regex_pattern.url_2.sub('',string)\n",
        "    string = regex_pattern.url_3.sub('',string)\n",
        "    return string\n",
        "\n",
        "regex_pattern = Regex_pattern()"
      ],
      "execution_count": 54,
      "outputs": []
    },
    {
      "cell_type": "code",
      "metadata": {
        "id": "NKo-ZnEDoYss"
      },
      "source": [
        "# df_sample = df.sample(100)\n",
        "for f in df_sample.text:\n",
        "  print('ori',f)\n",
        "  f = remove_emoji(f,regex_pattern)\n",
        "  print('reg',str(f))"
      ],
      "execution_count": null,
      "outputs": []
    },
    {
      "cell_type": "code",
      "metadata": {
        "colab": {
          "base_uri": "https://localhost:8080/"
        },
        "id": "1MhWIkbJ4kJL",
        "outputId": "d8a9974a-92f1-483f-8b9c-0ad066b94ec2"
      },
      "source": [
        "df['text_clean'] = df['text'].apply(lambda x: remove_emoji(x, regex_pattern))"
      ],
      "execution_count": 56,
      "outputs": [
        {
          "output_type": "stream",
          "text": [
            "/usr/local/lib/python3.7/dist-packages/ipykernel_launcher.py:1: SettingWithCopyWarning: \n",
            "A value is trying to be set on a copy of a slice from a DataFrame.\n",
            "Try using .loc[row_indexer,col_indexer] = value instead\n",
            "\n",
            "See the caveats in the documentation: https://pandas.pydata.org/pandas-docs/stable/user_guide/indexing.html#returning-a-view-versus-a-copy\n",
            "  \"\"\"Entry point for launching an IPython kernel.\n"
          ],
          "name": "stderr"
        }
      ]
    },
    {
      "cell_type": "code",
      "metadata": {
        "id": "nqyIKA0m5nvb"
      },
      "source": [
        "df.index.values.tolist()"
      ],
      "execution_count": null,
      "outputs": []
    },
    {
      "cell_type": "code",
      "metadata": {
        "id": "WGnNlaTY8Kd5"
      },
      "source": [
        "# token 2개 이하, 삭제되지 않은 url, 한단어, 공백 제거\n",
        "less_comment = df.index[df['text_clean'].apply(lambda x : len(x.split(' '))) < 3]\n",
        "for i in df.loc[less_comment].text_clean:\n",
        "  print(i)"
      ],
      "execution_count": null,
      "outputs": []
    },
    {
      "cell_type": "code",
      "metadata": {
        "id": "-cLDdmgE5rLl"
      },
      "source": [
        "df = df.drop(less_comment)"
      ],
      "execution_count": 112,
      "outputs": []
    },
    {
      "cell_type": "code",
      "metadata": {
        "id": "ptoPmlr99s7k"
      },
      "source": [
        "df.to_csv(configs.path_drive / 'dataset' / 'hate_speech18.csv')"
      ],
      "execution_count": 117,
      "outputs": []
    },
    {
      "cell_type": "code",
      "metadata": {
        "colab": {
          "base_uri": "https://localhost:8080/"
        },
        "id": "Wrb5dY2W-XAY",
        "outputId": "ed8e5db3-e789-4870-e81f-42c468a7aaee"
      },
      "source": [
        "df.label.value_counts()"
      ],
      "execution_count": 119,
      "outputs": [
        {
          "output_type": "execute_result",
          "data": {
            "text/plain": [
              "0    9057\n",
              "1    1196\n",
              "Name: label, dtype: int64"
            ]
          },
          "metadata": {
            "tags": []
          },
          "execution_count": 119
        }
      ]
    },
    {
      "cell_type": "code",
      "metadata": {
        "id": "gNYvY2PJ-ew0"
      },
      "source": [
        "df_clean = df[['text_clean','label']].rename({'text_clean':'text'}, axis=1)\n",
        "df_clean.to_csv(configs.path_drive / 'dataset' / 'hate_speech18.csv')"
      ],
      "execution_count": 123,
      "outputs": []
    },
    {
      "cell_type": "markdown",
      "metadata": {
        "id": "rhHJm9OoQ3eB"
      },
      "source": [
        "# Merge data sets\n",
        "### 20만건 데이터 셋 모으기"
      ]
    },
    {
      "cell_type": "code",
      "metadata": {
        "colab": {
          "base_uri": "https://localhost:8080/"
        },
        "id": "QGQVMsmz99Vi",
        "outputId": "754ed285-05fb-4314-959a-55144cd55dec"
      },
      "source": [
        "from google.colab import drive\n",
        "drive.mount('/content/gdrive',force_remount=True)"
      ],
      "execution_count": 1,
      "outputs": [
        {
          "output_type": "stream",
          "text": [
            "Mounted at /content/gdrive\n"
          ],
          "name": "stdout"
        }
      ]
    },
    {
      "cell_type": "code",
      "metadata": {
        "colab": {
          "base_uri": "https://localhost:8080/"
        },
        "id": "-6TiReOEQ-46",
        "outputId": "365ac1e9-024d-4468-d2cf-8f4964229ee4"
      },
      "source": [
        "!ln -s /content/gdrive/My\\ Drive/toxic_nlp /toxic_nlp\n",
        "!ls /toxic_nlp"
      ],
      "execution_count": 2,
      "outputs": [
        {
          "output_type": "stream",
          "text": [
            " BentoML.ipynb\n",
            " BERT_dynamic_quantiztion_tutorial.ipynb\n",
            " dataset\n",
            " Electra-model\n",
            " Electra-model-save\n",
            " Electra_with_pair_sentence.ipynb\n",
            " Electra_with_pair_sentence_trained_generated_dataset.ipynb\n",
            " Electra_with_pair_sentence_trained_vanilla_dataset.ipynb\n",
            " Electra_with_pair_Sentence_Training_Eval.ipynb\n",
            " fine-tuneWith_transformer_API_tutorial.ipynb\n",
            " gpt-neo-checkpoints\n",
            "'GTP-neo-fine-tuning(parents-text).ipynb'\n",
            "'GTP-neo-fine-tuning(toxic-text).ipynb'\n",
            " Hope-speech-tutorial.ipynb\n",
            " Inference_Time.ipynb\n",
            " ktrain.ipynb\n",
            " Preprocessing_data_and_prepare4training.ipynb\n",
            " preprocessing_datasets.ipynb\n",
            " pytorch_tutorial.ipynb\n",
            " toxic_v1.ipynb\n",
            " toxic_v2.ipynb\n"
          ],
          "name": "stdout"
        }
      ]
    },
    {
      "cell_type": "code",
      "metadata": {
        "id": "D7HZQOG6-Hqd"
      },
      "source": [
        "from pathlib import Path\n",
        "import pandas as pd\n"
      ],
      "execution_count": 3,
      "outputs": []
    },
    {
      "cell_type": "code",
      "metadata": {
        "id": "_FvomHj3-v9_"
      },
      "source": [
        "def get_data_csv_path(configs, condition):\n",
        "  condition = condition\n",
        "  return [f for f in configs.path['list_csv'] if f'{condition}' in str(f)][0]"
      ],
      "execution_count": 4,
      "outputs": []
    },
    {
      "cell_type": "code",
      "metadata": {
        "id": "DRXlI7Bw-UIg"
      },
      "source": [
        "list_csv = [f for f in Path('/toxic_nlp/dataset').glob('*') if '.csv' in str(f)]"
      ],
      "execution_count": 5,
      "outputs": []
    },
    {
      "cell_type": "code",
      "metadata": {
        "colab": {
          "base_uri": "https://localhost:8080/"
        },
        "id": "D9k-7-jT_THf",
        "outputId": "77aad06c-8e4c-470f-a611-e6d307ec1e2b"
      },
      "source": [
        "list_csv"
      ],
      "execution_count": 6,
      "outputs": [
        {
          "output_type": "execute_result",
          "data": {
            "text/plain": [
              "[PosixPath('/toxic_nlp/dataset/gc_clean.csv'),\n",
              " PosixPath('/toxic_nlp/dataset/gc_clean_ner.csv'),\n",
              " PosixPath('/toxic_nlp/dataset/gab_reddit.csv'),\n",
              " PosixPath('/toxic_nlp/dataset/gab_reddit_ner.csv'),\n",
              " PosixPath('/toxic_nlp/dataset/parent_gen_data.csv'),\n",
              " PosixPath('/toxic_nlp/dataset/text_gen_data.csv'),\n",
              " PosixPath('/toxic_nlp/dataset/parent_gen_data_v2.csv'),\n",
              " PosixPath('/toxic_nlp/dataset/text_gen_data_v2.csv'),\n",
              " PosixPath('/toxic_nlp/dataset/generated_dataset.csv'),\n",
              " PosixPath('/toxic_nlp/dataset/tweet.csv'),\n",
              " PosixPath('/toxic_nlp/dataset/hate_speech18.csv'),\n",
              " PosixPath('/toxic_nlp/dataset/jig_train.csv'),\n",
              " PosixPath('/toxic_nlp/dataset/merged.csv')]"
            ]
          },
          "metadata": {
            "tags": []
          },
          "execution_count": 6
        }
      ]
    },
    {
      "cell_type": "code",
      "metadata": {
        "id": "k-cKY2oJ-tJ4"
      },
      "source": [
        "df_cat_gabreddit = pd.read_csv([f for f in list_csv if 'generated_dataset.csv' in str(f)][0])\n",
        "df_hate_speech = pd.read_csv([f for f in list_csv if 'hate_speech18.csv' in str(f)][0])\n",
        "df_jig_train = pd.read_csv([f for f in list_csv if 'jig_train.csv' in str(f)][0])\n",
        "df_tweet = pd.read_csv([f for f in list_csv if 'tweet.csv' in str(f)][0])"
      ],
      "execution_count": 7,
      "outputs": []
    },
    {
      "cell_type": "code",
      "metadata": {
        "colab": {
          "base_uri": "https://localhost:8080/",
          "height": 306
        },
        "id": "qrjbYKcnRaXR",
        "outputId": "2114ec70-5776-457b-87f5-3e45d7bb46d7"
      },
      "source": [
        "df_cat_gabreddit['src'] = 0\n",
        "df_cat_gabreddit.head()"
      ],
      "execution_count": 8,
      "outputs": [
        {
          "output_type": "execute_result",
          "data": {
            "text/html": [
              "<div>\n",
              "<style scoped>\n",
              "    .dataframe tbody tr th:only-of-type {\n",
              "        vertical-align: middle;\n",
              "    }\n",
              "\n",
              "    .dataframe tbody tr th {\n",
              "        vertical-align: top;\n",
              "    }\n",
              "\n",
              "    .dataframe thead th {\n",
              "        text-align: right;\n",
              "    }\n",
              "</style>\n",
              "<table border=\"1\" class=\"dataframe\">\n",
              "  <thead>\n",
              "    <tr style=\"text-align: right;\">\n",
              "      <th></th>\n",
              "      <th>Unnamed: 0</th>\n",
              "      <th>parent</th>\n",
              "      <th>text</th>\n",
              "      <th>label</th>\n",
              "      <th>parent_gen</th>\n",
              "      <th>text_gen</th>\n",
              "      <th>src</th>\n",
              "    </tr>\n",
              "  </thead>\n",
              "  <tbody>\n",
              "    <tr>\n",
              "      <th>0</th>\n",
              "      <td>0</td>\n",
              "      <td>I also feel its important for StuRat to have h...</td>\n",
              "      <td>BTW, I see no \"attack\" here. What I see is som...</td>\n",
              "      <td>0</td>\n",
              "      <td>I also feel its important for StuRat to have ...</td>\n",
              "      <td>BTW, I see no \"attack\" here. What I see is so...</td>\n",
              "      <td>0</td>\n",
              "    </tr>\n",
              "    <tr>\n",
              "      <th>1</th>\n",
              "      <td>1</td>\n",
              "      <td>A main reason this project was started was to ...</td>\n",
              "      <td>I realise... I just want to urge caution and a...</td>\n",
              "      <td>0</td>\n",
              "      <td>A main reason this project was started was to...</td>\n",
              "      <td>I realise... I just wanted to make sure you h...</td>\n",
              "      <td>0</td>\n",
              "    </tr>\n",
              "    <tr>\n",
              "      <th>2</th>\n",
              "      <td>2</td>\n",
              "      <td>I'd go for that. (By the way, not all deletion...</td>\n",
              "      <td>I should have stressed that this should be a t...</td>\n",
              "      <td>0</td>\n",
              "      <td>I'd go for that. A lot of the most common are...</td>\n",
              "      <td>I should have stressed that this should be a ...</td>\n",
              "      <td>0</td>\n",
              "    </tr>\n",
              "    <tr>\n",
              "      <th>3</th>\n",
              "      <td>3</td>\n",
              "      <td>(edit conflict with Piotrus) I agree with the ...</td>\n",
              "      <td>Thanks to Lysy for shortening and copy editing...</td>\n",
              "      <td>0</td>\n",
              "      <td>(edit conflict with Piotrus) I agree with the...</td>\n",
              "      <td>Thanks to Lysy for suggesting this. They're b...</td>\n",
              "      <td>0</td>\n",
              "    </tr>\n",
              "    <tr>\n",
              "      <th>4</th>\n",
              "      <td>4</td>\n",
              "      <td>The larger box displays fine in Mozilla Firefo...</td>\n",
              "      <td>I like the additional info in the info box. It...</td>\n",
              "      <td>0</td>\n",
              "      <td>The larger box displays fine in Mozilla Firef...</td>\n",
              "      <td>I like the additional info in the info box. I...</td>\n",
              "      <td>0</td>\n",
              "    </tr>\n",
              "  </tbody>\n",
              "</table>\n",
              "</div>"
            ],
            "text/plain": [
              "   Unnamed: 0  ... src\n",
              "0           0  ...   0\n",
              "1           1  ...   0\n",
              "2           2  ...   0\n",
              "3           3  ...   0\n",
              "4           4  ...   0\n",
              "\n",
              "[5 rows x 7 columns]"
            ]
          },
          "metadata": {
            "tags": []
          },
          "execution_count": 8
        }
      ]
    },
    {
      "cell_type": "code",
      "metadata": {
        "colab": {
          "base_uri": "https://localhost:8080/"
        },
        "id": "e_EelF4OkyAl",
        "outputId": "64599b6a-eabe-4c8d-8070-a90cc2e61822"
      },
      "source": [
        "sum(df_cat_gabreddit.duplicated())"
      ],
      "execution_count": 9,
      "outputs": [
        {
          "output_type": "execute_result",
          "data": {
            "text/plain": [
              "0"
            ]
          },
          "metadata": {
            "tags": []
          },
          "execution_count": 9
        }
      ]
    },
    {
      "cell_type": "code",
      "metadata": {
        "colab": {
          "base_uri": "https://localhost:8080/",
          "height": 204
        },
        "id": "yaawq0_ajoeL",
        "outputId": "eb872599-98d4-485f-a1aa-e9ddafd346c9"
      },
      "source": [
        "df_hate_speech['src'] = 2\n",
        "df_hate_speech.head()"
      ],
      "execution_count": 10,
      "outputs": [
        {
          "output_type": "execute_result",
          "data": {
            "text/html": [
              "<div>\n",
              "<style scoped>\n",
              "    .dataframe tbody tr th:only-of-type {\n",
              "        vertical-align: middle;\n",
              "    }\n",
              "\n",
              "    .dataframe tbody tr th {\n",
              "        vertical-align: top;\n",
              "    }\n",
              "\n",
              "    .dataframe thead th {\n",
              "        text-align: right;\n",
              "    }\n",
              "</style>\n",
              "<table border=\"1\" class=\"dataframe\">\n",
              "  <thead>\n",
              "    <tr style=\"text-align: right;\">\n",
              "      <th></th>\n",
              "      <th>Unnamed: 0</th>\n",
              "      <th>text</th>\n",
              "      <th>label</th>\n",
              "      <th>src</th>\n",
              "    </tr>\n",
              "  </thead>\n",
              "  <tbody>\n",
              "    <tr>\n",
              "      <th>0</th>\n",
              "      <td>0</td>\n",
              "      <td>As of March 13th , 2014 , the booklet had been...</td>\n",
              "      <td>0</td>\n",
              "      <td>2</td>\n",
              "    </tr>\n",
              "    <tr>\n",
              "      <th>1</th>\n",
              "      <td>1</td>\n",
              "      <td>In order to help increase the booklets downloa...</td>\n",
              "      <td>0</td>\n",
              "      <td>2</td>\n",
              "    </tr>\n",
              "    <tr>\n",
              "      <th>2</th>\n",
              "      <td>2</td>\n",
              "      <td>( Simply copy and paste the following text int...</td>\n",
              "      <td>0</td>\n",
              "      <td>2</td>\n",
              "    </tr>\n",
              "    <tr>\n",
              "      <th>3</th>\n",
              "      <td>3</td>\n",
              "      <td>Click below for a FREE download of a colorfull...</td>\n",
              "      <td>1</td>\n",
              "      <td>2</td>\n",
              "    </tr>\n",
              "    <tr>\n",
              "      <th>4</th>\n",
              "      <td>4</td>\n",
              "      <td>Click on the `` DOWNLOAD ( 7.42 MB ) '' green ...</td>\n",
              "      <td>0</td>\n",
              "      <td>2</td>\n",
              "    </tr>\n",
              "  </tbody>\n",
              "</table>\n",
              "</div>"
            ],
            "text/plain": [
              "   Unnamed: 0                                               text  label  src\n",
              "0           0  As of March 13th , 2014 , the booklet had been...      0    2\n",
              "1           1  In order to help increase the booklets downloa...      0    2\n",
              "2           2  ( Simply copy and paste the following text int...      0    2\n",
              "3           3  Click below for a FREE download of a colorfull...      1    2\n",
              "4           4  Click on the `` DOWNLOAD ( 7.42 MB ) '' green ...      0    2"
            ]
          },
          "metadata": {
            "tags": []
          },
          "execution_count": 10
        }
      ]
    },
    {
      "cell_type": "code",
      "metadata": {
        "colab": {
          "base_uri": "https://localhost:8080/"
        },
        "id": "zNdCQ1HMk1_x",
        "outputId": "6912b61c-e5ac-4b3d-f3c9-62718652c790"
      },
      "source": [
        "sum(df_hate_speech.duplicated())"
      ],
      "execution_count": 11,
      "outputs": [
        {
          "output_type": "execute_result",
          "data": {
            "text/plain": [
              "0"
            ]
          },
          "metadata": {
            "tags": []
          },
          "execution_count": 11
        }
      ]
    },
    {
      "cell_type": "code",
      "metadata": {
        "colab": {
          "base_uri": "https://localhost:8080/",
          "height": 204
        },
        "id": "wn3OBIMsjhuA",
        "outputId": "5ff98a5c-0196-43df-ec96-c5b779014146"
      },
      "source": [
        "df_jig_train.rename({'text_clean':'text','toxic':'label'}, inplace=True, axis=1)\n",
        "df_jig_train['src'] = 1\n",
        "df_jig_train.head()"
      ],
      "execution_count": 12,
      "outputs": [
        {
          "output_type": "execute_result",
          "data": {
            "text/html": [
              "<div>\n",
              "<style scoped>\n",
              "    .dataframe tbody tr th:only-of-type {\n",
              "        vertical-align: middle;\n",
              "    }\n",
              "\n",
              "    .dataframe tbody tr th {\n",
              "        vertical-align: top;\n",
              "    }\n",
              "\n",
              "    .dataframe thead th {\n",
              "        text-align: right;\n",
              "    }\n",
              "</style>\n",
              "<table border=\"1\" class=\"dataframe\">\n",
              "  <thead>\n",
              "    <tr style=\"text-align: right;\">\n",
              "      <th></th>\n",
              "      <th>Unnamed: 0</th>\n",
              "      <th>text</th>\n",
              "      <th>label</th>\n",
              "      <th>src</th>\n",
              "    </tr>\n",
              "  </thead>\n",
              "  <tbody>\n",
              "    <tr>\n",
              "      <th>0</th>\n",
              "      <td>0</td>\n",
              "      <td>Explanation Why the edits made under my userna...</td>\n",
              "      <td>0</td>\n",
              "      <td>1</td>\n",
              "    </tr>\n",
              "    <tr>\n",
              "      <th>1</th>\n",
              "      <td>1</td>\n",
              "      <td>D'aww! He matches this background colour I'm s...</td>\n",
              "      <td>0</td>\n",
              "      <td>1</td>\n",
              "    </tr>\n",
              "    <tr>\n",
              "      <th>2</th>\n",
              "      <td>2</td>\n",
              "      <td>Hey man, I'm really not trying to edit war. It...</td>\n",
              "      <td>0</td>\n",
              "      <td>1</td>\n",
              "    </tr>\n",
              "    <tr>\n",
              "      <th>3</th>\n",
              "      <td>3</td>\n",
              "      <td>\" More I can't make any real suggestions on im...</td>\n",
              "      <td>0</td>\n",
              "      <td>1</td>\n",
              "    </tr>\n",
              "    <tr>\n",
              "      <th>4</th>\n",
              "      <td>4</td>\n",
              "      <td>You, sir, are my hero. Any chance you remember...</td>\n",
              "      <td>0</td>\n",
              "      <td>1</td>\n",
              "    </tr>\n",
              "  </tbody>\n",
              "</table>\n",
              "</div>"
            ],
            "text/plain": [
              "   Unnamed: 0                                               text  label  src\n",
              "0           0  Explanation Why the edits made under my userna...      0    1\n",
              "1           1  D'aww! He matches this background colour I'm s...      0    1\n",
              "2           2  Hey man, I'm really not trying to edit war. It...      0    1\n",
              "3           3  \" More I can't make any real suggestions on im...      0    1\n",
              "4           4  You, sir, are my hero. Any chance you remember...      0    1"
            ]
          },
          "metadata": {
            "tags": []
          },
          "execution_count": 12
        }
      ]
    },
    {
      "cell_type": "code",
      "metadata": {
        "colab": {
          "base_uri": "https://localhost:8080/"
        },
        "id": "ghTGfGeqk6Cn",
        "outputId": "17fc8fb4-e78d-414e-c781-5080c718cea0"
      },
      "source": [
        "sum(df_jig_train.duplicated())"
      ],
      "execution_count": 13,
      "outputs": [
        {
          "output_type": "execute_result",
          "data": {
            "text/plain": [
              "0"
            ]
          },
          "metadata": {
            "tags": []
          },
          "execution_count": 13
        }
      ]
    },
    {
      "cell_type": "code",
      "metadata": {
        "colab": {
          "base_uri": "https://localhost:8080/",
          "height": 204
        },
        "id": "I0X_236ylTs3",
        "outputId": "7da37db5-c9fe-4172-9ede-d1905aec06d7"
      },
      "source": [
        "df_tweet.rename({'tweet_clean':'text'}, axis=1, inplace=True)\n",
        "df_tweet['src'] = 3\n",
        "df_tweet.head()"
      ],
      "execution_count": 14,
      "outputs": [
        {
          "output_type": "execute_result",
          "data": {
            "text/html": [
              "<div>\n",
              "<style scoped>\n",
              "    .dataframe tbody tr th:only-of-type {\n",
              "        vertical-align: middle;\n",
              "    }\n",
              "\n",
              "    .dataframe tbody tr th {\n",
              "        vertical-align: top;\n",
              "    }\n",
              "\n",
              "    .dataframe thead th {\n",
              "        text-align: right;\n",
              "    }\n",
              "</style>\n",
              "<table border=\"1\" class=\"dataframe\">\n",
              "  <thead>\n",
              "    <tr style=\"text-align: right;\">\n",
              "      <th></th>\n",
              "      <th>Unnamed: 0</th>\n",
              "      <th>text</th>\n",
              "      <th>label</th>\n",
              "      <th>src</th>\n",
              "    </tr>\n",
              "  </thead>\n",
              "  <tbody>\n",
              "    <tr>\n",
              "      <th>0</th>\n",
              "      <td>0</td>\n",
              "      <td>when a father is dysfunctional and is so selfi...</td>\n",
              "      <td>0</td>\n",
              "      <td>3</td>\n",
              "    </tr>\n",
              "    <tr>\n",
              "      <th>1</th>\n",
              "      <td>1</td>\n",
              "      <td>thanks for lyft credit i can't use cause they ...</td>\n",
              "      <td>0</td>\n",
              "      <td>3</td>\n",
              "    </tr>\n",
              "    <tr>\n",
              "      <th>2</th>\n",
              "      <td>2</td>\n",
              "      <td>bihday your majesty</td>\n",
              "      <td>0</td>\n",
              "      <td>3</td>\n",
              "    </tr>\n",
              "    <tr>\n",
              "      <th>3</th>\n",
              "      <td>3</td>\n",
              "      <td>model i love u take with u all the time in ur...</td>\n",
              "      <td>0</td>\n",
              "      <td>3</td>\n",
              "    </tr>\n",
              "    <tr>\n",
              "      <th>4</th>\n",
              "      <td>4</td>\n",
              "      <td>factsguide: society now motivation</td>\n",
              "      <td>0</td>\n",
              "      <td>3</td>\n",
              "    </tr>\n",
              "  </tbody>\n",
              "</table>\n",
              "</div>"
            ],
            "text/plain": [
              "   Unnamed: 0                                               text  label  src\n",
              "0           0  when a father is dysfunctional and is so selfi...      0    3\n",
              "1           1  thanks for lyft credit i can't use cause they ...      0    3\n",
              "2           2                                bihday your majesty      0    3\n",
              "3           3  model i love u take with u all the time in ur...      0    3\n",
              "4           4                 factsguide: society now motivation      0    3"
            ]
          },
          "metadata": {
            "tags": []
          },
          "execution_count": 14
        }
      ]
    },
    {
      "cell_type": "code",
      "metadata": {
        "colab": {
          "base_uri": "https://localhost:8080/"
        },
        "id": "enubG_Xik97A",
        "outputId": "eb2de1ea-2f83-4fd6-e278-8a45802f7191"
      },
      "source": [
        "sum(df_tweet.duplicated())"
      ],
      "execution_count": 15,
      "outputs": [
        {
          "output_type": "execute_result",
          "data": {
            "text/plain": [
              "0"
            ]
          },
          "metadata": {
            "tags": []
          },
          "execution_count": 15
        }
      ]
    },
    {
      "cell_type": "code",
      "metadata": {
        "colab": {
          "base_uri": "https://localhost:8080/",
          "height": 306
        },
        "id": "bmEWzW5HAhum",
        "outputId": "ee5efe76-05c4-4a12-b409-79b8054b665b"
      },
      "source": [
        "df_merged = pd.concat([df_cat_gabreddit,df_tweet, df_jig_train, df_hate_speech], axis = 0, ignore_index=True)\n",
        "df_merged.head()"
      ],
      "execution_count": 29,
      "outputs": [
        {
          "output_type": "execute_result",
          "data": {
            "text/html": [
              "<div>\n",
              "<style scoped>\n",
              "    .dataframe tbody tr th:only-of-type {\n",
              "        vertical-align: middle;\n",
              "    }\n",
              "\n",
              "    .dataframe tbody tr th {\n",
              "        vertical-align: top;\n",
              "    }\n",
              "\n",
              "    .dataframe thead th {\n",
              "        text-align: right;\n",
              "    }\n",
              "</style>\n",
              "<table border=\"1\" class=\"dataframe\">\n",
              "  <thead>\n",
              "    <tr style=\"text-align: right;\">\n",
              "      <th></th>\n",
              "      <th>Unnamed: 0</th>\n",
              "      <th>parent</th>\n",
              "      <th>text</th>\n",
              "      <th>label</th>\n",
              "      <th>parent_gen</th>\n",
              "      <th>text_gen</th>\n",
              "      <th>src</th>\n",
              "    </tr>\n",
              "  </thead>\n",
              "  <tbody>\n",
              "    <tr>\n",
              "      <th>0</th>\n",
              "      <td>0</td>\n",
              "      <td>I also feel its important for StuRat to have h...</td>\n",
              "      <td>BTW, I see no \"attack\" here. What I see is som...</td>\n",
              "      <td>0</td>\n",
              "      <td>I also feel its important for StuRat to have ...</td>\n",
              "      <td>BTW, I see no \"attack\" here. What I see is so...</td>\n",
              "      <td>0</td>\n",
              "    </tr>\n",
              "    <tr>\n",
              "      <th>1</th>\n",
              "      <td>1</td>\n",
              "      <td>A main reason this project was started was to ...</td>\n",
              "      <td>I realise... I just want to urge caution and a...</td>\n",
              "      <td>0</td>\n",
              "      <td>A main reason this project was started was to...</td>\n",
              "      <td>I realise... I just wanted to make sure you h...</td>\n",
              "      <td>0</td>\n",
              "    </tr>\n",
              "    <tr>\n",
              "      <th>2</th>\n",
              "      <td>2</td>\n",
              "      <td>I'd go for that. (By the way, not all deletion...</td>\n",
              "      <td>I should have stressed that this should be a t...</td>\n",
              "      <td>0</td>\n",
              "      <td>I'd go for that. A lot of the most common are...</td>\n",
              "      <td>I should have stressed that this should be a ...</td>\n",
              "      <td>0</td>\n",
              "    </tr>\n",
              "    <tr>\n",
              "      <th>3</th>\n",
              "      <td>3</td>\n",
              "      <td>(edit conflict with Piotrus) I agree with the ...</td>\n",
              "      <td>Thanks to Lysy for shortening and copy editing...</td>\n",
              "      <td>0</td>\n",
              "      <td>(edit conflict with Piotrus) I agree with the...</td>\n",
              "      <td>Thanks to Lysy for suggesting this. They're b...</td>\n",
              "      <td>0</td>\n",
              "    </tr>\n",
              "    <tr>\n",
              "      <th>4</th>\n",
              "      <td>4</td>\n",
              "      <td>The larger box displays fine in Mozilla Firefo...</td>\n",
              "      <td>I like the additional info in the info box. It...</td>\n",
              "      <td>0</td>\n",
              "      <td>The larger box displays fine in Mozilla Firef...</td>\n",
              "      <td>I like the additional info in the info box. I...</td>\n",
              "      <td>0</td>\n",
              "    </tr>\n",
              "  </tbody>\n",
              "</table>\n",
              "</div>"
            ],
            "text/plain": [
              "   Unnamed: 0  ... src\n",
              "0           0  ...   0\n",
              "1           1  ...   0\n",
              "2           2  ...   0\n",
              "3           3  ...   0\n",
              "4           4  ...   0\n",
              "\n",
              "[5 rows x 7 columns]"
            ]
          },
          "metadata": {
            "tags": []
          },
          "execution_count": 29
        }
      ]
    },
    {
      "cell_type": "code",
      "metadata": {
        "id": "jDrLYAchBwje"
      },
      "source": [
        "df_merged.reset_index(inplace=True)\n",
        "df_merged.drop(columns=['Unnamed: 0','index'], axis=1, inplace=True)"
      ],
      "execution_count": 17,
      "outputs": []
    },
    {
      "cell_type": "code",
      "metadata": {
        "colab": {
          "base_uri": "https://localhost:8080/",
          "height": 49
        },
        "id": "EHARzCXzlSOd",
        "outputId": "5e3a9fb7-45db-4f00-a450-f7d870270d06"
      },
      "source": [
        "df_merged[df_merged.duplicated()]"
      ],
      "execution_count": 31,
      "outputs": [
        {
          "output_type": "execute_result",
          "data": {
            "text/html": [
              "<div>\n",
              "<style scoped>\n",
              "    .dataframe tbody tr th:only-of-type {\n",
              "        vertical-align: middle;\n",
              "    }\n",
              "\n",
              "    .dataframe tbody tr th {\n",
              "        vertical-align: top;\n",
              "    }\n",
              "\n",
              "    .dataframe thead th {\n",
              "        text-align: right;\n",
              "    }\n",
              "</style>\n",
              "<table border=\"1\" class=\"dataframe\">\n",
              "  <thead>\n",
              "    <tr style=\"text-align: right;\">\n",
              "      <th></th>\n",
              "      <th>Unnamed: 0</th>\n",
              "      <th>parent</th>\n",
              "      <th>text</th>\n",
              "      <th>label</th>\n",
              "      <th>parent_gen</th>\n",
              "      <th>text_gen</th>\n",
              "      <th>src</th>\n",
              "    </tr>\n",
              "  </thead>\n",
              "  <tbody>\n",
              "  </tbody>\n",
              "</table>\n",
              "</div>"
            ],
            "text/plain": [
              "Empty DataFrame\n",
              "Columns: [Unnamed: 0, parent, text, label, parent_gen, text_gen, src]\n",
              "Index: []"
            ]
          },
          "metadata": {
            "tags": []
          },
          "execution_count": 31
        }
      ]
    },
    {
      "cell_type": "code",
      "metadata": {
        "id": "IJx4T-5hB1ux"
      },
      "source": [
        "df_merged.to_csv('/toxic_nlp/dataset/merged.csv')"
      ],
      "execution_count": 32,
      "outputs": []
    },
    {
      "cell_type": "markdown",
      "metadata": {
        "id": "j-XfX2Qy2R0G"
      },
      "source": [
        "# Split test set with same ratio\n",
        "- 데이터 출처마다 sample size 차이가 크게 나기 때문에 데이터 출처와 label의 비율을 맞추면서 test set 구성\n",
        "- generated text 따로 파일로 만들어 둘 것\n"
      ]
    },
    {
      "cell_type": "code",
      "metadata": {
        "colab": {
          "base_uri": "https://localhost:8080/"
        },
        "id": "tEpyCaZCbUy2",
        "outputId": "501a5ecb-acce-4d44-f624-013e932088f3"
      },
      "source": [
        "from google.colab import drive\n",
        "drive.mount('/content/gdrive',force_remount=True)\n",
        "\n",
        "!ln -s /content/gdrive/My\\ Drive/toxic_nlp /toxic_nlp\n",
        "!ls /toxic_nlp\n",
        "\n",
        "from pathlib import Path\n",
        "import pandas as pd\n",
        "\n",
        "\n",
        "def get_data_csv_path(configs, condition):\n",
        "  condition = condition\n",
        "  return [f for f in configs.path['list_csv'] if f'{condition}' in str(f)][0]\n",
        "\n"
      ],
      "execution_count": 71,
      "outputs": [
        {
          "output_type": "stream",
          "text": [
            "Mounted at /content/gdrive\n",
            " BentoML.ipynb\n",
            " BERT_dynamic_quantiztion_tutorial.ipynb\n",
            "'Copy of Electra_with_pair_Sentence_Training_Eval.ipynb'\n",
            " dataset\n",
            " Electra-model\n",
            " Electra-model-save\n",
            " Electra_with_pair_sentence.ipynb\n",
            " Electra_with_pair_sentence_trained_generated_dataset.ipynb\n",
            " Electra_with_pair_sentence_trained_vanilla_dataset.ipynb\n",
            " Electra_with_pair_Sentence_Training_Eval.ipynb\n",
            " fine-tuneWith_transformer_API_tutorial.ipynb\n",
            " gpt-neo-checkpoints\n",
            "'GTP-neo-fine-tuning(parents-text).ipynb'\n",
            "'GTP-neo-fine-tuning(toxic-text).ipynb'\n",
            " Hope-speech-tutorial.ipynb\n",
            " Inference_Time.ipynb\n",
            " ktrain.ipynb\n",
            " Preprocessing_data_and_prepare4training.ipynb\n",
            " preprocessing_datasets.ipynb\n",
            " pytorch_tutorial.ipynb\n",
            " toxic_nlp\n",
            " toxic_v1.ipynb\n",
            " toxic_v2.ipynb\n"
          ],
          "name": "stdout"
        }
      ]
    },
    {
      "cell_type": "code",
      "metadata": {
        "colab": {
          "base_uri": "https://localhost:8080/"
        },
        "id": "tR92cNhk2REm",
        "outputId": "bdce08fc-65a3-48d2-dc8e-9e8dcd0f5484"
      },
      "source": [
        "list_csv = [f for f in Path('/toxic_nlp/dataset').glob('*') if '.csv' in str(f)]\n",
        "list_csv\n",
        "df = pd.read_csv([f for f in list_csv if 'merged.csv' in str(f)][0])"
      ],
      "execution_count": 72,
      "outputs": [
        {
          "output_type": "stream",
          "text": [
            "/usr/local/lib/python3.7/dist-packages/IPython/core/interactiveshell.py:2718: DtypeWarning: Columns (2,5,6) have mixed types.Specify dtype option on import or set low_memory=False.\n",
            "  interactivity=interactivity, compiler=compiler, result=result)\n"
          ],
          "name": "stderr"
        }
      ]
    },
    {
      "cell_type": "markdown",
      "metadata": {
        "id": "EMPc6gTYb4-9"
      },
      "source": [
        "- 0: gab-reddit\n",
        "- 1: jig\n",
        "- 2: stormfront\n",
        "- 3: tweet"
      ]
    },
    {
      "cell_type": "code",
      "metadata": {
        "colab": {
          "base_uri": "https://localhost:8080/"
        },
        "id": "0P3AJF32bvvY",
        "outputId": "82e1109c-6fdc-41ae-9e81-3496ebb4c888"
      },
      "source": [
        "df.src.value_counts()"
      ],
      "execution_count": 73,
      "outputs": [
        {
          "output_type": "execute_result",
          "data": {
            "text/plain": [
              "1    159100\n",
              "3     31962\n",
              "0     29758\n",
              "2     10253\n",
              "Name: src, dtype: int64"
            ]
          },
          "metadata": {
            "tags": []
          },
          "execution_count": 73
        }
      ]
    },
    {
      "cell_type": "code",
      "metadata": {
        "id": "63m8UgxFfJqQ"
      },
      "source": [
        "df.drop(['Unnamed: 0','Unnamed: 0.1'], axis=1, inplace=True)"
      ],
      "execution_count": 74,
      "outputs": []
    },
    {
      "cell_type": "code",
      "metadata": {
        "colab": {
          "base_uri": "https://localhost:8080/",
          "height": 289
        },
        "id": "nDQT75bofG8P",
        "outputId": "7066aef3-2a24-4642-c138-4bb44126ab5b"
      },
      "source": [
        "df.head()"
      ],
      "execution_count": 75,
      "outputs": [
        {
          "output_type": "execute_result",
          "data": {
            "text/html": [
              "<div>\n",
              "<style scoped>\n",
              "    .dataframe tbody tr th:only-of-type {\n",
              "        vertical-align: middle;\n",
              "    }\n",
              "\n",
              "    .dataframe tbody tr th {\n",
              "        vertical-align: top;\n",
              "    }\n",
              "\n",
              "    .dataframe thead th {\n",
              "        text-align: right;\n",
              "    }\n",
              "</style>\n",
              "<table border=\"1\" class=\"dataframe\">\n",
              "  <thead>\n",
              "    <tr style=\"text-align: right;\">\n",
              "      <th></th>\n",
              "      <th>parent</th>\n",
              "      <th>text</th>\n",
              "      <th>label</th>\n",
              "      <th>parent_gen</th>\n",
              "      <th>text_gen</th>\n",
              "      <th>src</th>\n",
              "    </tr>\n",
              "  </thead>\n",
              "  <tbody>\n",
              "    <tr>\n",
              "      <th>0</th>\n",
              "      <td>I also feel its important for StuRat to have h...</td>\n",
              "      <td>BTW, I see no \"attack\" here. What I see is som...</td>\n",
              "      <td>0</td>\n",
              "      <td>I also feel its important for StuRat to have ...</td>\n",
              "      <td>BTW, I see no \"attack\" here. What I see is so...</td>\n",
              "      <td>0</td>\n",
              "    </tr>\n",
              "    <tr>\n",
              "      <th>1</th>\n",
              "      <td>A main reason this project was started was to ...</td>\n",
              "      <td>I realise... I just want to urge caution and a...</td>\n",
              "      <td>0</td>\n",
              "      <td>A main reason this project was started was to...</td>\n",
              "      <td>I realise... I just wanted to make sure you h...</td>\n",
              "      <td>0</td>\n",
              "    </tr>\n",
              "    <tr>\n",
              "      <th>2</th>\n",
              "      <td>I'd go for that. (By the way, not all deletion...</td>\n",
              "      <td>I should have stressed that this should be a t...</td>\n",
              "      <td>0</td>\n",
              "      <td>I'd go for that. A lot of the most common are...</td>\n",
              "      <td>I should have stressed that this should be a ...</td>\n",
              "      <td>0</td>\n",
              "    </tr>\n",
              "    <tr>\n",
              "      <th>3</th>\n",
              "      <td>(edit conflict with Piotrus) I agree with the ...</td>\n",
              "      <td>Thanks to Lysy for shortening and copy editing...</td>\n",
              "      <td>0</td>\n",
              "      <td>(edit conflict with Piotrus) I agree with the...</td>\n",
              "      <td>Thanks to Lysy for suggesting this. They're b...</td>\n",
              "      <td>0</td>\n",
              "    </tr>\n",
              "    <tr>\n",
              "      <th>4</th>\n",
              "      <td>The larger box displays fine in Mozilla Firefo...</td>\n",
              "      <td>I like the additional info in the info box. It...</td>\n",
              "      <td>0</td>\n",
              "      <td>The larger box displays fine in Mozilla Firef...</td>\n",
              "      <td>I like the additional info in the info box. I...</td>\n",
              "      <td>0</td>\n",
              "    </tr>\n",
              "  </tbody>\n",
              "</table>\n",
              "</div>"
            ],
            "text/plain": [
              "                                              parent  ... src\n",
              "0  I also feel its important for StuRat to have h...  ...   0\n",
              "1  A main reason this project was started was to ...  ...   0\n",
              "2  I'd go for that. (By the way, not all deletion...  ...   0\n",
              "3  (edit conflict with Piotrus) I agree with the ...  ...   0\n",
              "4  The larger box displays fine in Mozilla Firefo...  ...   0\n",
              "\n",
              "[5 rows x 6 columns]"
            ]
          },
          "metadata": {
            "tags": []
          },
          "execution_count": 75
        }
      ]
    },
    {
      "cell_type": "code",
      "metadata": {
        "id": "1Xg5uqTSf9XA"
      },
      "source": [
        "from sklearn.model_selection import train_test_split, StratifiedShuffleSplit\n",
        "df_train = df.copy()"
      ],
      "execution_count": 76,
      "outputs": []
    },
    {
      "cell_type": "code",
      "metadata": {
        "colab": {
          "base_uri": "https://localhost:8080/",
          "height": 419
        },
        "id": "Ms3knroTzZz9",
        "outputId": "bc0592d1-707a-40bf-a085-11baf337d1af"
      },
      "source": [
        "df[df.src == 1].reset_index()"
      ],
      "execution_count": 45,
      "outputs": [
        {
          "output_type": "execute_result",
          "data": {
            "text/html": [
              "<div>\n",
              "<style scoped>\n",
              "    .dataframe tbody tr th:only-of-type {\n",
              "        vertical-align: middle;\n",
              "    }\n",
              "\n",
              "    .dataframe tbody tr th {\n",
              "        vertical-align: top;\n",
              "    }\n",
              "\n",
              "    .dataframe thead th {\n",
              "        text-align: right;\n",
              "    }\n",
              "</style>\n",
              "<table border=\"1\" class=\"dataframe\">\n",
              "  <thead>\n",
              "    <tr style=\"text-align: right;\">\n",
              "      <th></th>\n",
              "      <th>index</th>\n",
              "      <th>parent</th>\n",
              "      <th>text</th>\n",
              "      <th>label</th>\n",
              "      <th>parent_gen</th>\n",
              "      <th>text_gen</th>\n",
              "      <th>src</th>\n",
              "    </tr>\n",
              "  </thead>\n",
              "  <tbody>\n",
              "    <tr>\n",
              "      <th>0</th>\n",
              "      <td>61720</td>\n",
              "      <td>NaN</td>\n",
              "      <td>Explanation Why the edits made under my userna...</td>\n",
              "      <td>0</td>\n",
              "      <td>NaN</td>\n",
              "      <td>NaN</td>\n",
              "      <td>1</td>\n",
              "    </tr>\n",
              "    <tr>\n",
              "      <th>1</th>\n",
              "      <td>61721</td>\n",
              "      <td>NaN</td>\n",
              "      <td>D'aww! He matches this background colour I'm s...</td>\n",
              "      <td>0</td>\n",
              "      <td>NaN</td>\n",
              "      <td>NaN</td>\n",
              "      <td>1</td>\n",
              "    </tr>\n",
              "    <tr>\n",
              "      <th>2</th>\n",
              "      <td>61722</td>\n",
              "      <td>NaN</td>\n",
              "      <td>Hey man, I'm really not trying to edit war. It...</td>\n",
              "      <td>0</td>\n",
              "      <td>NaN</td>\n",
              "      <td>NaN</td>\n",
              "      <td>1</td>\n",
              "    </tr>\n",
              "    <tr>\n",
              "      <th>3</th>\n",
              "      <td>61723</td>\n",
              "      <td>NaN</td>\n",
              "      <td>\" More I can't make any real suggestions on im...</td>\n",
              "      <td>0</td>\n",
              "      <td>NaN</td>\n",
              "      <td>NaN</td>\n",
              "      <td>1</td>\n",
              "    </tr>\n",
              "    <tr>\n",
              "      <th>4</th>\n",
              "      <td>61724</td>\n",
              "      <td>NaN</td>\n",
              "      <td>You, sir, are my hero. Any chance you remember...</td>\n",
              "      <td>0</td>\n",
              "      <td>NaN</td>\n",
              "      <td>NaN</td>\n",
              "      <td>1</td>\n",
              "    </tr>\n",
              "    <tr>\n",
              "      <th>...</th>\n",
              "      <td>...</td>\n",
              "      <td>...</td>\n",
              "      <td>...</td>\n",
              "      <td>...</td>\n",
              "      <td>...</td>\n",
              "      <td>...</td>\n",
              "      <td>...</td>\n",
              "    </tr>\n",
              "    <tr>\n",
              "      <th>159095</th>\n",
              "      <td>220815</td>\n",
              "      <td>NaN</td>\n",
              "      <td>\":::::And for the second time of asking, when ...</td>\n",
              "      <td>0</td>\n",
              "      <td>NaN</td>\n",
              "      <td>NaN</td>\n",
              "      <td>1</td>\n",
              "    </tr>\n",
              "    <tr>\n",
              "      <th>159096</th>\n",
              "      <td>220816</td>\n",
              "      <td>NaN</td>\n",
              "      <td>You should be ashamed of yourself That is a ho...</td>\n",
              "      <td>0</td>\n",
              "      <td>NaN</td>\n",
              "      <td>NaN</td>\n",
              "      <td>1</td>\n",
              "    </tr>\n",
              "    <tr>\n",
              "      <th>159097</th>\n",
              "      <td>220817</td>\n",
              "      <td>NaN</td>\n",
              "      <td>Spitzer Umm, theres no actual article for pros...</td>\n",
              "      <td>0</td>\n",
              "      <td>NaN</td>\n",
              "      <td>NaN</td>\n",
              "      <td>1</td>\n",
              "    </tr>\n",
              "    <tr>\n",
              "      <th>159098</th>\n",
              "      <td>220818</td>\n",
              "      <td>NaN</td>\n",
              "      <td>And it looks like it was actually you who put ...</td>\n",
              "      <td>0</td>\n",
              "      <td>NaN</td>\n",
              "      <td>NaN</td>\n",
              "      <td>1</td>\n",
              "    </tr>\n",
              "    <tr>\n",
              "      <th>159099</th>\n",
              "      <td>220819</td>\n",
              "      <td>NaN</td>\n",
              "      <td>\" And ... I really don't think you understand....</td>\n",
              "      <td>0</td>\n",
              "      <td>NaN</td>\n",
              "      <td>NaN</td>\n",
              "      <td>1</td>\n",
              "    </tr>\n",
              "  </tbody>\n",
              "</table>\n",
              "<p>159100 rows × 7 columns</p>\n",
              "</div>"
            ],
            "text/plain": [
              "         index parent  ... text_gen  src\n",
              "0        61720    NaN  ...      NaN    1\n",
              "1        61721    NaN  ...      NaN    1\n",
              "2        61722    NaN  ...      NaN    1\n",
              "3        61723    NaN  ...      NaN    1\n",
              "4        61724    NaN  ...      NaN    1\n",
              "...        ...    ...  ...      ...  ...\n",
              "159095  220815    NaN  ...      NaN    1\n",
              "159096  220816    NaN  ...      NaN    1\n",
              "159097  220817    NaN  ...      NaN    1\n",
              "159098  220818    NaN  ...      NaN    1\n",
              "159099  220819    NaN  ...      NaN    1\n",
              "\n",
              "[159100 rows x 7 columns]"
            ]
          },
          "metadata": {
            "tags": []
          },
          "execution_count": 45
        }
      ]
    },
    {
      "cell_type": "code",
      "metadata": {
        "id": "YSQXALJ7gwVm"
      },
      "source": [
        "def data_loader(df, condition):\n",
        "  return df[df.src==condition].reset_index(), df[df.src == condition].reset_index()['label']\n"
      ],
      "execution_count": 77,
      "outputs": []
    },
    {
      "cell_type": "code",
      "metadata": {
        "id": "ljtA80WsgG_2"
      },
      "source": [
        "split = StratifiedShuffleSplit(n_splits=1, test_size=0.15, random_state=42)\n",
        "train_sets = []\n",
        "test_sets = []\n",
        "for i in [0,1,2,3]:\n",
        "  dataset, label = data_loader(df_train, i)\n",
        "  for train_idx, val_idx in split.split( dataset, label):\n",
        "    train_sets.append(dataset.loc[train_idx]) \n",
        "    test_sets.append(dataset.loc[val_idx])\n"
      ],
      "execution_count": 54,
      "outputs": []
    },
    {
      "cell_type": "code",
      "metadata": {
        "colab": {
          "base_uri": "https://localhost:8080/"
        },
        "id": "Z5INDnSBwz8q",
        "outputId": "dbc252d8-35cf-4793-ac8d-8f01a2459a30"
      },
      "source": [
        "for i in [0,1,2,3]:\n",
        "  print(train_sets[i].src.value_counts())\n",
        "  print(test_sets[i].label.value_counts())"
      ],
      "execution_count": 61,
      "outputs": [
        {
          "output_type": "stream",
          "text": [
            "0    25294\n",
            "Name: src, dtype: int64\n",
            "1    2590\n",
            "0    1874\n",
            "Name: label, dtype: int64\n",
            "1    135235\n",
            "Name: src, dtype: int64\n",
            "0    21621\n",
            "1     2244\n",
            "Name: label, dtype: int64\n",
            "2    8715\n",
            "Name: src, dtype: int64\n",
            "0    1359\n",
            "1     179\n",
            "Name: label, dtype: int64\n",
            "3    27167\n",
            "Name: src, dtype: int64\n",
            "0    4459\n",
            "1     336\n",
            "Name: label, dtype: int64\n"
          ],
          "name": "stdout"
        }
      ]
    },
    {
      "cell_type": "code",
      "metadata": {
        "id": "klczlpiT0FIv"
      },
      "source": [
        "df_train_merged = pd.concat([train_sets[0],train_sets[1],train_sets[2],train_sets[3]], ignore_index=True)\n",
        "df_tset_merged = pd.concat([test_sets[0],test_sets[1],test_sets[2],test_sets[3]], ignore_index=True)"
      ],
      "execution_count": 59,
      "outputs": []
    },
    {
      "cell_type": "code",
      "metadata": {
        "id": "4jpCEeX50voA"
      },
      "source": [
        "df_train_merged.to_csv('/toxic_nlp/dataset/exp_v1_train.csv')\n",
        "df_tset_merged.to_csv('/toxic_nlp/dataset/exp_v1_test.csv')"
      ],
      "execution_count": 60,
      "outputs": []
    },
    {
      "cell_type": "code",
      "metadata": {
        "colab": {
          "base_uri": "https://localhost:8080/",
          "height": 289
        },
        "id": "UHYI0bJ24e89",
        "outputId": "e9779aa9-ec1a-483d-d287-950f54413140"
      },
      "source": [
        "df_train_merged.head()"
      ],
      "execution_count": 62,
      "outputs": [
        {
          "output_type": "execute_result",
          "data": {
            "text/html": [
              "<div>\n",
              "<style scoped>\n",
              "    .dataframe tbody tr th:only-of-type {\n",
              "        vertical-align: middle;\n",
              "    }\n",
              "\n",
              "    .dataframe tbody tr th {\n",
              "        vertical-align: top;\n",
              "    }\n",
              "\n",
              "    .dataframe thead th {\n",
              "        text-align: right;\n",
              "    }\n",
              "</style>\n",
              "<table border=\"1\" class=\"dataframe\">\n",
              "  <thead>\n",
              "    <tr style=\"text-align: right;\">\n",
              "      <th></th>\n",
              "      <th>index</th>\n",
              "      <th>parent</th>\n",
              "      <th>text</th>\n",
              "      <th>label</th>\n",
              "      <th>parent_gen</th>\n",
              "      <th>text_gen</th>\n",
              "      <th>src</th>\n",
              "    </tr>\n",
              "  </thead>\n",
              "  <tbody>\n",
              "    <tr>\n",
              "      <th>0</th>\n",
              "      <td>23973</td>\n",
              "      <td>RT _Sailer: Speaking of witchcraft (as Vox doe...</td>\n",
              "      <td>call your nigger witch doctor white boy..maybe...</td>\n",
              "      <td>1</td>\n",
              "      <td>RT _Sailer: Speaking of witchcraft (as Vox do...</td>\n",
              "      <td>call your nigger lover a faggot</td>\n",
              "      <td>0</td>\n",
              "    </tr>\n",
              "    <tr>\n",
              "      <th>1</th>\n",
              "      <td>14616</td>\n",
              "      <td>Robert, how is your moral fagging going? When ...</td>\n",
              "      <td>Speaking ones mind.. like how evil the Altrigh...</td>\n",
              "      <td>1</td>\n",
              "      <td>Robert, how is your moral fagging going? If y...</td>\n",
              "      <td>suck a nigger cock and expect a nigger cock i...</td>\n",
              "      <td>0</td>\n",
              "    </tr>\n",
              "    <tr>\n",
              "      <th>2</th>\n",
              "      <td>2487</td>\n",
              "      <td>BTW do we need the co-ords at the top right an...</td>\n",
              "      <td>Ah, so that's what goes in there! The ones at ...</td>\n",
              "      <td>0</td>\n",
              "      <td>BTW do we intend to make the edit war a non-c...</td>\n",
              "      <td>Ah, so that's what goes in there...</td>\n",
              "      <td>0</td>\n",
              "    </tr>\n",
              "    <tr>\n",
              "      <th>3</th>\n",
              "      <td>7672</td>\n",
              "      <td>What time is meant? Coming together is apparen...</td>\n",
              "      <td>in the Act of Kreva has a Latin word 'aplicare...</td>\n",
              "      <td>0</td>\n",
              "      <td>What time is meant? Coming together and getti...</td>\n",
              "      <td>in the Act of Kreva has a Latin word 'aplicar...</td>\n",
              "      <td>0</td>\n",
              "    </tr>\n",
              "    <tr>\n",
              "      <th>4</th>\n",
              "      <td>8157</td>\n",
              "      <td>lol! one diff is sufficient to over-write the ...</td>\n",
              "      <td>I said why I restored and you did the same by ...</td>\n",
              "      <td>0</td>\n",
              "      <td>lol! one diff is sufficient touzzy. Faggot.</td>\n",
              "      <td>I said why I restored your edit in full. Howe...</td>\n",
              "      <td>0</td>\n",
              "    </tr>\n",
              "  </tbody>\n",
              "</table>\n",
              "</div>"
            ],
            "text/plain": [
              "   index  ... src\n",
              "0  23973  ...   0\n",
              "1  14616  ...   0\n",
              "2   2487  ...   0\n",
              "3   7672  ...   0\n",
              "4   8157  ...   0\n",
              "\n",
              "[5 rows x 7 columns]"
            ]
          },
          "metadata": {
            "tags": []
          },
          "execution_count": 62
        }
      ]
    },
    {
      "cell_type": "code",
      "metadata": {
        "id": "j3-m-kCa4lKW"
      },
      "source": [
        "df_gan = df_train_merged[['parent_gen','text_gen','label']].rename(columns={'parent_gen':'parent','text_gen':'text'}).dropna()"
      ],
      "execution_count": 67,
      "outputs": []
    },
    {
      "cell_type": "code",
      "metadata": {
        "id": "SpEj5w395G5j"
      },
      "source": [
        "pd.concat([df_train_merged,df_gan], axis=0).to_csv('/toxic_nlp/dataset/exp_v1_gan_merged.csv')"
      ],
      "execution_count": 70,
      "outputs": []
    },
    {
      "cell_type": "code",
      "metadata": {
        "id": "S9DzMTCVEv72"
      },
      "source": [
        "df_gan_merged = pd.read_csv('/toxic_nlp/dataset/exp_v1_gan_merged.csv', index_col=0)\n",
        "df_gan_merged[df_gan_merged.src==0]"
      ],
      "execution_count": null,
      "outputs": []
    },
    {
      "cell_type": "code",
      "metadata": {
        "colab": {
          "base_uri": "https://localhost:8080/"
        },
        "id": "ar3QwWanH2-r",
        "outputId": "4eef3a93-f83f-455b-dbcd-45cd4748d046"
      },
      "source": [
        "df_gan_merged.shape"
      ],
      "execution_count": 94,
      "outputs": [
        {
          "output_type": "execute_result",
          "data": {
            "text/plain": [
              "(221705, 7)"
            ]
          },
          "metadata": {
            "tags": []
          },
          "execution_count": 94
        }
      ]
    },
    {
      "cell_type": "code",
      "metadata": {
        "id": "ae1vkpHwGwZ0"
      },
      "source": [
        "df_gan_ori = df_gan_merged[df_gan_merged.src==0][['parent_gen','text','label']].rename(columns={'parent_gen':'parent'})\n",
        "# df_gan_ori\n",
        "# ori-ori + gan_gan + gan_ori condition. \n",
        "pd.concat([df_gan_merged, df_gan_ori], axis=0).to_csv('/toxic_nlp/dataset/exp_v2_gan_merged.csv')"
      ],
      "execution_count": 96,
      "outputs": []
    }
  ]
}