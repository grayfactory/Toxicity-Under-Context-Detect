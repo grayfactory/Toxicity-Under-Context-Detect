{
  "nbformat": 4,
  "nbformat_minor": 0,
  "metadata": {
    "colab": {
      "name": "Preprocessing_data.ipynb",
      "provenance": []
    },
    "kernelspec": {
      "name": "python3",
      "display_name": "Python 3"
    },
    "language_info": {
      "name": "python"
    },
    "widgets": {
      "application/vnd.jupyter.widget-state+json": {
        "9b00d4fe9f3047a5b405f9d65136c6b3": {
          "model_module": "@jupyter-widgets/controls",
          "model_name": "HBoxModel",
          "state": {
            "_view_name": "HBoxView",
            "_dom_classes": [],
            "_model_name": "HBoxModel",
            "_view_module": "@jupyter-widgets/controls",
            "_model_module_version": "1.5.0",
            "_view_count": null,
            "_view_module_version": "1.5.0",
            "box_style": "",
            "layout": "IPY_MODEL_b3fbf24a952249a3904fa7939afb2f88",
            "_model_module": "@jupyter-widgets/controls",
            "children": [
              "IPY_MODEL_db56fda28b0744b9b1c90bd4b0613e92",
              "IPY_MODEL_bc35c6c959bf462589609f4ba5a949af"
            ]
          }
        },
        "b3fbf24a952249a3904fa7939afb2f88": {
          "model_module": "@jupyter-widgets/base",
          "model_name": "LayoutModel",
          "state": {
            "_view_name": "LayoutView",
            "grid_template_rows": null,
            "right": null,
            "justify_content": null,
            "_view_module": "@jupyter-widgets/base",
            "overflow": null,
            "_model_module_version": "1.2.0",
            "_view_count": null,
            "flex_flow": null,
            "width": null,
            "min_width": null,
            "border": null,
            "align_items": null,
            "bottom": null,
            "_model_module": "@jupyter-widgets/base",
            "top": null,
            "grid_column": null,
            "overflow_y": null,
            "overflow_x": null,
            "grid_auto_flow": null,
            "grid_area": null,
            "grid_template_columns": null,
            "flex": null,
            "_model_name": "LayoutModel",
            "justify_items": null,
            "grid_row": null,
            "max_height": null,
            "align_content": null,
            "visibility": null,
            "align_self": null,
            "height": null,
            "min_height": null,
            "padding": null,
            "grid_auto_rows": null,
            "grid_gap": null,
            "max_width": null,
            "order": null,
            "_view_module_version": "1.2.0",
            "grid_template_areas": null,
            "object_position": null,
            "object_fit": null,
            "grid_auto_columns": null,
            "margin": null,
            "display": null,
            "left": null
          }
        },
        "db56fda28b0744b9b1c90bd4b0613e92": {
          "model_module": "@jupyter-widgets/controls",
          "model_name": "FloatProgressModel",
          "state": {
            "_view_name": "ProgressView",
            "style": "IPY_MODEL_d1192a79a7ff4b1884d5bef753933834",
            "_dom_classes": [],
            "description": "Downloading: ",
            "_model_name": "FloatProgressModel",
            "bar_style": "success",
            "max": 1621,
            "_view_module": "@jupyter-widgets/controls",
            "_model_module_version": "1.5.0",
            "value": 1621,
            "_view_count": null,
            "_view_module_version": "1.5.0",
            "orientation": "horizontal",
            "min": 0,
            "description_tooltip": null,
            "_model_module": "@jupyter-widgets/controls",
            "layout": "IPY_MODEL_08b9cf6debc449b286e575696f8d5976"
          }
        },
        "bc35c6c959bf462589609f4ba5a949af": {
          "model_module": "@jupyter-widgets/controls",
          "model_name": "HTMLModel",
          "state": {
            "_view_name": "HTMLView",
            "style": "IPY_MODEL_2ec0387d3cd74cd18917b63baf871848",
            "_dom_classes": [],
            "description": "",
            "_model_name": "HTMLModel",
            "placeholder": "​",
            "_view_module": "@jupyter-widgets/controls",
            "_model_module_version": "1.5.0",
            "value": " 3.72k/? [00:00&lt;00:00, 8.19kB/s]",
            "_view_count": null,
            "_view_module_version": "1.5.0",
            "description_tooltip": null,
            "_model_module": "@jupyter-widgets/controls",
            "layout": "IPY_MODEL_fa334a67329545b59cf13135160419ce"
          }
        },
        "d1192a79a7ff4b1884d5bef753933834": {
          "model_module": "@jupyter-widgets/controls",
          "model_name": "ProgressStyleModel",
          "state": {
            "_view_name": "StyleView",
            "_model_name": "ProgressStyleModel",
            "description_width": "initial",
            "_view_module": "@jupyter-widgets/base",
            "_model_module_version": "1.5.0",
            "_view_count": null,
            "_view_module_version": "1.2.0",
            "bar_color": null,
            "_model_module": "@jupyter-widgets/controls"
          }
        },
        "08b9cf6debc449b286e575696f8d5976": {
          "model_module": "@jupyter-widgets/base",
          "model_name": "LayoutModel",
          "state": {
            "_view_name": "LayoutView",
            "grid_template_rows": null,
            "right": null,
            "justify_content": null,
            "_view_module": "@jupyter-widgets/base",
            "overflow": null,
            "_model_module_version": "1.2.0",
            "_view_count": null,
            "flex_flow": null,
            "width": null,
            "min_width": null,
            "border": null,
            "align_items": null,
            "bottom": null,
            "_model_module": "@jupyter-widgets/base",
            "top": null,
            "grid_column": null,
            "overflow_y": null,
            "overflow_x": null,
            "grid_auto_flow": null,
            "grid_area": null,
            "grid_template_columns": null,
            "flex": null,
            "_model_name": "LayoutModel",
            "justify_items": null,
            "grid_row": null,
            "max_height": null,
            "align_content": null,
            "visibility": null,
            "align_self": null,
            "height": null,
            "min_height": null,
            "padding": null,
            "grid_auto_rows": null,
            "grid_gap": null,
            "max_width": null,
            "order": null,
            "_view_module_version": "1.2.0",
            "grid_template_areas": null,
            "object_position": null,
            "object_fit": null,
            "grid_auto_columns": null,
            "margin": null,
            "display": null,
            "left": null
          }
        },
        "2ec0387d3cd74cd18917b63baf871848": {
          "model_module": "@jupyter-widgets/controls",
          "model_name": "DescriptionStyleModel",
          "state": {
            "_view_name": "StyleView",
            "_model_name": "DescriptionStyleModel",
            "description_width": "",
            "_view_module": "@jupyter-widgets/base",
            "_model_module_version": "1.5.0",
            "_view_count": null,
            "_view_module_version": "1.2.0",
            "_model_module": "@jupyter-widgets/controls"
          }
        },
        "fa334a67329545b59cf13135160419ce": {
          "model_module": "@jupyter-widgets/base",
          "model_name": "LayoutModel",
          "state": {
            "_view_name": "LayoutView",
            "grid_template_rows": null,
            "right": null,
            "justify_content": null,
            "_view_module": "@jupyter-widgets/base",
            "overflow": null,
            "_model_module_version": "1.2.0",
            "_view_count": null,
            "flex_flow": null,
            "width": null,
            "min_width": null,
            "border": null,
            "align_items": null,
            "bottom": null,
            "_model_module": "@jupyter-widgets/base",
            "top": null,
            "grid_column": null,
            "overflow_y": null,
            "overflow_x": null,
            "grid_auto_flow": null,
            "grid_area": null,
            "grid_template_columns": null,
            "flex": null,
            "_model_name": "LayoutModel",
            "justify_items": null,
            "grid_row": null,
            "max_height": null,
            "align_content": null,
            "visibility": null,
            "align_self": null,
            "height": null,
            "min_height": null,
            "padding": null,
            "grid_auto_rows": null,
            "grid_gap": null,
            "max_width": null,
            "order": null,
            "_view_module_version": "1.2.0",
            "grid_template_areas": null,
            "object_position": null,
            "object_fit": null,
            "grid_auto_columns": null,
            "margin": null,
            "display": null,
            "left": null
          }
        },
        "2d22db336c2c45d38621cfa5e73c1ee3": {
          "model_module": "@jupyter-widgets/controls",
          "model_name": "HBoxModel",
          "state": {
            "_view_name": "HBoxView",
            "_dom_classes": [],
            "_model_name": "HBoxModel",
            "_view_module": "@jupyter-widgets/controls",
            "_model_module_version": "1.5.0",
            "_view_count": null,
            "_view_module_version": "1.5.0",
            "box_style": "",
            "layout": "IPY_MODEL_6953e36573d143109ebf493ff16c2555",
            "_model_module": "@jupyter-widgets/controls",
            "children": [
              "IPY_MODEL_8eb17c0a85d7451981644981744612e6",
              "IPY_MODEL_5280df59d4f14308a5870f6f8c92aee1"
            ]
          }
        },
        "6953e36573d143109ebf493ff16c2555": {
          "model_module": "@jupyter-widgets/base",
          "model_name": "LayoutModel",
          "state": {
            "_view_name": "LayoutView",
            "grid_template_rows": null,
            "right": null,
            "justify_content": null,
            "_view_module": "@jupyter-widgets/base",
            "overflow": null,
            "_model_module_version": "1.2.0",
            "_view_count": null,
            "flex_flow": null,
            "width": null,
            "min_width": null,
            "border": null,
            "align_items": null,
            "bottom": null,
            "_model_module": "@jupyter-widgets/base",
            "top": null,
            "grid_column": null,
            "overflow_y": null,
            "overflow_x": null,
            "grid_auto_flow": null,
            "grid_area": null,
            "grid_template_columns": null,
            "flex": null,
            "_model_name": "LayoutModel",
            "justify_items": null,
            "grid_row": null,
            "max_height": null,
            "align_content": null,
            "visibility": null,
            "align_self": null,
            "height": null,
            "min_height": null,
            "padding": null,
            "grid_auto_rows": null,
            "grid_gap": null,
            "max_width": null,
            "order": null,
            "_view_module_version": "1.2.0",
            "grid_template_areas": null,
            "object_position": null,
            "object_fit": null,
            "grid_auto_columns": null,
            "margin": null,
            "display": null,
            "left": null
          }
        },
        "8eb17c0a85d7451981644981744612e6": {
          "model_module": "@jupyter-widgets/controls",
          "model_name": "FloatProgressModel",
          "state": {
            "_view_name": "ProgressView",
            "style": "IPY_MODEL_9af955fb52f24b92bb08f93bfe388921",
            "_dom_classes": [],
            "description": "Downloading: ",
            "_model_name": "FloatProgressModel",
            "bar_style": "success",
            "max": 992,
            "_view_module": "@jupyter-widgets/controls",
            "_model_module_version": "1.5.0",
            "value": 992,
            "_view_count": null,
            "_view_module_version": "1.5.0",
            "orientation": "horizontal",
            "min": 0,
            "description_tooltip": null,
            "_model_module": "@jupyter-widgets/controls",
            "layout": "IPY_MODEL_860a5eb121134155a94a4ed10220a2f6"
          }
        },
        "5280df59d4f14308a5870f6f8c92aee1": {
          "model_module": "@jupyter-widgets/controls",
          "model_name": "HTMLModel",
          "state": {
            "_view_name": "HTMLView",
            "style": "IPY_MODEL_db776f0430484247abb5ca0e56e107b7",
            "_dom_classes": [],
            "description": "",
            "_model_name": "HTMLModel",
            "placeholder": "​",
            "_view_module": "@jupyter-widgets/controls",
            "_model_module_version": "1.5.0",
            "value": " 2.04k/? [00:01&lt;00:00, 1.88kB/s]",
            "_view_count": null,
            "_view_module_version": "1.5.0",
            "description_tooltip": null,
            "_model_module": "@jupyter-widgets/controls",
            "layout": "IPY_MODEL_9a31262d4a71458aa6cbf27da78937c5"
          }
        },
        "9af955fb52f24b92bb08f93bfe388921": {
          "model_module": "@jupyter-widgets/controls",
          "model_name": "ProgressStyleModel",
          "state": {
            "_view_name": "StyleView",
            "_model_name": "ProgressStyleModel",
            "description_width": "initial",
            "_view_module": "@jupyter-widgets/base",
            "_model_module_version": "1.5.0",
            "_view_count": null,
            "_view_module_version": "1.2.0",
            "bar_color": null,
            "_model_module": "@jupyter-widgets/controls"
          }
        },
        "860a5eb121134155a94a4ed10220a2f6": {
          "model_module": "@jupyter-widgets/base",
          "model_name": "LayoutModel",
          "state": {
            "_view_name": "LayoutView",
            "grid_template_rows": null,
            "right": null,
            "justify_content": null,
            "_view_module": "@jupyter-widgets/base",
            "overflow": null,
            "_model_module_version": "1.2.0",
            "_view_count": null,
            "flex_flow": null,
            "width": null,
            "min_width": null,
            "border": null,
            "align_items": null,
            "bottom": null,
            "_model_module": "@jupyter-widgets/base",
            "top": null,
            "grid_column": null,
            "overflow_y": null,
            "overflow_x": null,
            "grid_auto_flow": null,
            "grid_area": null,
            "grid_template_columns": null,
            "flex": null,
            "_model_name": "LayoutModel",
            "justify_items": null,
            "grid_row": null,
            "max_height": null,
            "align_content": null,
            "visibility": null,
            "align_self": null,
            "height": null,
            "min_height": null,
            "padding": null,
            "grid_auto_rows": null,
            "grid_gap": null,
            "max_width": null,
            "order": null,
            "_view_module_version": "1.2.0",
            "grid_template_areas": null,
            "object_position": null,
            "object_fit": null,
            "grid_auto_columns": null,
            "margin": null,
            "display": null,
            "left": null
          }
        },
        "db776f0430484247abb5ca0e56e107b7": {
          "model_module": "@jupyter-widgets/controls",
          "model_name": "DescriptionStyleModel",
          "state": {
            "_view_name": "StyleView",
            "_model_name": "DescriptionStyleModel",
            "description_width": "",
            "_view_module": "@jupyter-widgets/base",
            "_model_module_version": "1.5.0",
            "_view_count": null,
            "_view_module_version": "1.2.0",
            "_model_module": "@jupyter-widgets/controls"
          }
        },
        "9a31262d4a71458aa6cbf27da78937c5": {
          "model_module": "@jupyter-widgets/base",
          "model_name": "LayoutModel",
          "state": {
            "_view_name": "LayoutView",
            "grid_template_rows": null,
            "right": null,
            "justify_content": null,
            "_view_module": "@jupyter-widgets/base",
            "overflow": null,
            "_model_module_version": "1.2.0",
            "_view_count": null,
            "flex_flow": null,
            "width": null,
            "min_width": null,
            "border": null,
            "align_items": null,
            "bottom": null,
            "_model_module": "@jupyter-widgets/base",
            "top": null,
            "grid_column": null,
            "overflow_y": null,
            "overflow_x": null,
            "grid_auto_flow": null,
            "grid_area": null,
            "grid_template_columns": null,
            "flex": null,
            "_model_name": "LayoutModel",
            "justify_items": null,
            "grid_row": null,
            "max_height": null,
            "align_content": null,
            "visibility": null,
            "align_self": null,
            "height": null,
            "min_height": null,
            "padding": null,
            "grid_auto_rows": null,
            "grid_gap": null,
            "max_width": null,
            "order": null,
            "_view_module_version": "1.2.0",
            "grid_template_areas": null,
            "object_position": null,
            "object_fit": null,
            "grid_auto_columns": null,
            "margin": null,
            "display": null,
            "left": null
          }
        },
        "15cbda51416740929e619d2ac75f1f20": {
          "model_module": "@jupyter-widgets/controls",
          "model_name": "HBoxModel",
          "state": {
            "_view_name": "HBoxView",
            "_dom_classes": [],
            "_model_name": "HBoxModel",
            "_view_module": "@jupyter-widgets/controls",
            "_model_module_version": "1.5.0",
            "_view_count": null,
            "_view_module_version": "1.5.0",
            "box_style": "",
            "layout": "IPY_MODEL_8556f520c84647559cd0204ea6328b1c",
            "_model_module": "@jupyter-widgets/controls",
            "children": [
              "IPY_MODEL_cf0a24621d1245ef9042ab6c8dc6db7b",
              "IPY_MODEL_c00d5a934ef742078a4be729b96f10b6"
            ]
          }
        },
        "8556f520c84647559cd0204ea6328b1c": {
          "model_module": "@jupyter-widgets/base",
          "model_name": "LayoutModel",
          "state": {
            "_view_name": "LayoutView",
            "grid_template_rows": null,
            "right": null,
            "justify_content": null,
            "_view_module": "@jupyter-widgets/base",
            "overflow": null,
            "_model_module_version": "1.2.0",
            "_view_count": null,
            "flex_flow": null,
            "width": null,
            "min_width": null,
            "border": null,
            "align_items": null,
            "bottom": null,
            "_model_module": "@jupyter-widgets/base",
            "top": null,
            "grid_column": null,
            "overflow_y": null,
            "overflow_x": null,
            "grid_auto_flow": null,
            "grid_area": null,
            "grid_template_columns": null,
            "flex": null,
            "_model_name": "LayoutModel",
            "justify_items": null,
            "grid_row": null,
            "max_height": null,
            "align_content": null,
            "visibility": null,
            "align_self": null,
            "height": null,
            "min_height": null,
            "padding": null,
            "grid_auto_rows": null,
            "grid_gap": null,
            "max_width": null,
            "order": null,
            "_view_module_version": "1.2.0",
            "grid_template_areas": null,
            "object_position": null,
            "object_fit": null,
            "grid_auto_columns": null,
            "margin": null,
            "display": null,
            "left": null
          }
        },
        "cf0a24621d1245ef9042ab6c8dc6db7b": {
          "model_module": "@jupyter-widgets/controls",
          "model_name": "FloatProgressModel",
          "state": {
            "_view_name": "ProgressView",
            "style": "IPY_MODEL_2b212eda480e4c3c9d109be3e0267651",
            "_dom_classes": [],
            "description": "Downloading: ",
            "_model_name": "FloatProgressModel",
            "bar_style": "success",
            "max": 1,
            "_view_module": "@jupyter-widgets/controls",
            "_model_module_version": "1.5.0",
            "value": 1,
            "_view_count": null,
            "_view_module_version": "1.5.0",
            "orientation": "horizontal",
            "min": 0,
            "description_tooltip": null,
            "_model_module": "@jupyter-widgets/controls",
            "layout": "IPY_MODEL_f8316a9a0e6f42f48bcda35ff0968d8a"
          }
        },
        "c00d5a934ef742078a4be729b96f10b6": {
          "model_module": "@jupyter-widgets/controls",
          "model_name": "HTMLModel",
          "state": {
            "_view_name": "HTMLView",
            "style": "IPY_MODEL_9e4b790470bd4eecacb51b2c7d91c70b",
            "_dom_classes": [],
            "description": "",
            "_model_name": "HTMLModel",
            "placeholder": "​",
            "_view_module": "@jupyter-widgets/controls",
            "_model_module_version": "1.5.0",
            "value": " 3.66M/? [00:00&lt;00:00, 7.84MB/s]",
            "_view_count": null,
            "_view_module_version": "1.5.0",
            "description_tooltip": null,
            "_model_module": "@jupyter-widgets/controls",
            "layout": "IPY_MODEL_ad47fbed71264bb59d24cb06d7210746"
          }
        },
        "2b212eda480e4c3c9d109be3e0267651": {
          "model_module": "@jupyter-widgets/controls",
          "model_name": "ProgressStyleModel",
          "state": {
            "_view_name": "StyleView",
            "_model_name": "ProgressStyleModel",
            "description_width": "initial",
            "_view_module": "@jupyter-widgets/base",
            "_model_module_version": "1.5.0",
            "_view_count": null,
            "_view_module_version": "1.2.0",
            "bar_color": null,
            "_model_module": "@jupyter-widgets/controls"
          }
        },
        "f8316a9a0e6f42f48bcda35ff0968d8a": {
          "model_module": "@jupyter-widgets/base",
          "model_name": "LayoutModel",
          "state": {
            "_view_name": "LayoutView",
            "grid_template_rows": null,
            "right": null,
            "justify_content": null,
            "_view_module": "@jupyter-widgets/base",
            "overflow": null,
            "_model_module_version": "1.2.0",
            "_view_count": null,
            "flex_flow": null,
            "width": null,
            "min_width": null,
            "border": null,
            "align_items": null,
            "bottom": null,
            "_model_module": "@jupyter-widgets/base",
            "top": null,
            "grid_column": null,
            "overflow_y": null,
            "overflow_x": null,
            "grid_auto_flow": null,
            "grid_area": null,
            "grid_template_columns": null,
            "flex": null,
            "_model_name": "LayoutModel",
            "justify_items": null,
            "grid_row": null,
            "max_height": null,
            "align_content": null,
            "visibility": null,
            "align_self": null,
            "height": null,
            "min_height": null,
            "padding": null,
            "grid_auto_rows": null,
            "grid_gap": null,
            "max_width": null,
            "order": null,
            "_view_module_version": "1.2.0",
            "grid_template_areas": null,
            "object_position": null,
            "object_fit": null,
            "grid_auto_columns": null,
            "margin": null,
            "display": null,
            "left": null
          }
        },
        "9e4b790470bd4eecacb51b2c7d91c70b": {
          "model_module": "@jupyter-widgets/controls",
          "model_name": "DescriptionStyleModel",
          "state": {
            "_view_name": "StyleView",
            "_model_name": "DescriptionStyleModel",
            "description_width": "",
            "_view_module": "@jupyter-widgets/base",
            "_model_module_version": "1.5.0",
            "_view_count": null,
            "_view_module_version": "1.2.0",
            "_model_module": "@jupyter-widgets/controls"
          }
        },
        "ad47fbed71264bb59d24cb06d7210746": {
          "model_module": "@jupyter-widgets/base",
          "model_name": "LayoutModel",
          "state": {
            "_view_name": "LayoutView",
            "grid_template_rows": null,
            "right": null,
            "justify_content": null,
            "_view_module": "@jupyter-widgets/base",
            "overflow": null,
            "_model_module_version": "1.2.0",
            "_view_count": null,
            "flex_flow": null,
            "width": null,
            "min_width": null,
            "border": null,
            "align_items": null,
            "bottom": null,
            "_model_module": "@jupyter-widgets/base",
            "top": null,
            "grid_column": null,
            "overflow_y": null,
            "overflow_x": null,
            "grid_auto_flow": null,
            "grid_area": null,
            "grid_template_columns": null,
            "flex": null,
            "_model_name": "LayoutModel",
            "justify_items": null,
            "grid_row": null,
            "max_height": null,
            "align_content": null,
            "visibility": null,
            "align_self": null,
            "height": null,
            "min_height": null,
            "padding": null,
            "grid_auto_rows": null,
            "grid_gap": null,
            "max_width": null,
            "order": null,
            "_view_module_version": "1.2.0",
            "grid_template_areas": null,
            "object_position": null,
            "object_fit": null,
            "grid_auto_columns": null,
            "margin": null,
            "display": null,
            "left": null
          }
        },
        "7874a4fababb4585ae06d781125c279f": {
          "model_module": "@jupyter-widgets/controls",
          "model_name": "HBoxModel",
          "state": {
            "_view_name": "HBoxView",
            "_dom_classes": [],
            "_model_name": "HBoxModel",
            "_view_module": "@jupyter-widgets/controls",
            "_model_module_version": "1.5.0",
            "_view_count": null,
            "_view_module_version": "1.5.0",
            "box_style": "",
            "layout": "IPY_MODEL_03e22676b3d94290b737e47c41672a04",
            "_model_module": "@jupyter-widgets/controls",
            "children": [
              "IPY_MODEL_daea77b9257d4a2fb832018388fd01b7",
              "IPY_MODEL_67db7391091f42ae8928f05982a2d8af"
            ]
          }
        },
        "03e22676b3d94290b737e47c41672a04": {
          "model_module": "@jupyter-widgets/base",
          "model_name": "LayoutModel",
          "state": {
            "_view_name": "LayoutView",
            "grid_template_rows": null,
            "right": null,
            "justify_content": null,
            "_view_module": "@jupyter-widgets/base",
            "overflow": null,
            "_model_module_version": "1.2.0",
            "_view_count": null,
            "flex_flow": null,
            "width": null,
            "min_width": null,
            "border": null,
            "align_items": null,
            "bottom": null,
            "_model_module": "@jupyter-widgets/base",
            "top": null,
            "grid_column": null,
            "overflow_y": null,
            "overflow_x": null,
            "grid_auto_flow": null,
            "grid_area": null,
            "grid_template_columns": null,
            "flex": null,
            "_model_name": "LayoutModel",
            "justify_items": null,
            "grid_row": null,
            "max_height": null,
            "align_content": null,
            "visibility": null,
            "align_self": null,
            "height": null,
            "min_height": null,
            "padding": null,
            "grid_auto_rows": null,
            "grid_gap": null,
            "max_width": null,
            "order": null,
            "_view_module_version": "1.2.0",
            "grid_template_areas": null,
            "object_position": null,
            "object_fit": null,
            "grid_auto_columns": null,
            "margin": null,
            "display": null,
            "left": null
          }
        },
        "daea77b9257d4a2fb832018388fd01b7": {
          "model_module": "@jupyter-widgets/controls",
          "model_name": "FloatProgressModel",
          "state": {
            "_view_name": "ProgressView",
            "style": "IPY_MODEL_ee82d91e6149416a9e5c7d1d9bcea83a",
            "_dom_classes": [],
            "description": "",
            "_model_name": "FloatProgressModel",
            "bar_style": "info",
            "max": 1,
            "_view_module": "@jupyter-widgets/controls",
            "_model_module_version": "1.5.0",
            "value": 1,
            "_view_count": null,
            "_view_module_version": "1.5.0",
            "orientation": "horizontal",
            "min": 0,
            "description_tooltip": null,
            "_model_module": "@jupyter-widgets/controls",
            "layout": "IPY_MODEL_dd4f6f7f2acf4fa287f6da9eb88b1ec0"
          }
        },
        "67db7391091f42ae8928f05982a2d8af": {
          "model_module": "@jupyter-widgets/controls",
          "model_name": "HTMLModel",
          "state": {
            "_view_name": "HTMLView",
            "style": "IPY_MODEL_895c9dc5ac9f4a7c8051993754bb3ba0",
            "_dom_classes": [],
            "description": "",
            "_model_name": "HTMLModel",
            "placeholder": "​",
            "_view_module": "@jupyter-widgets/controls",
            "_model_module_version": "1.5.0",
            "value": " 10944/0 [00:01&lt;00:00, 8352.66 examples/s]",
            "_view_count": null,
            "_view_module_version": "1.5.0",
            "description_tooltip": null,
            "_model_module": "@jupyter-widgets/controls",
            "layout": "IPY_MODEL_5135425d382f4496bb85ef86022df549"
          }
        },
        "ee82d91e6149416a9e5c7d1d9bcea83a": {
          "model_module": "@jupyter-widgets/controls",
          "model_name": "ProgressStyleModel",
          "state": {
            "_view_name": "StyleView",
            "_model_name": "ProgressStyleModel",
            "description_width": "initial",
            "_view_module": "@jupyter-widgets/base",
            "_model_module_version": "1.5.0",
            "_view_count": null,
            "_view_module_version": "1.2.0",
            "bar_color": null,
            "_model_module": "@jupyter-widgets/controls"
          }
        },
        "dd4f6f7f2acf4fa287f6da9eb88b1ec0": {
          "model_module": "@jupyter-widgets/base",
          "model_name": "LayoutModel",
          "state": {
            "_view_name": "LayoutView",
            "grid_template_rows": null,
            "right": null,
            "justify_content": null,
            "_view_module": "@jupyter-widgets/base",
            "overflow": null,
            "_model_module_version": "1.2.0",
            "_view_count": null,
            "flex_flow": null,
            "width": null,
            "min_width": null,
            "border": null,
            "align_items": null,
            "bottom": null,
            "_model_module": "@jupyter-widgets/base",
            "top": null,
            "grid_column": null,
            "overflow_y": null,
            "overflow_x": null,
            "grid_auto_flow": null,
            "grid_area": null,
            "grid_template_columns": null,
            "flex": null,
            "_model_name": "LayoutModel",
            "justify_items": null,
            "grid_row": null,
            "max_height": null,
            "align_content": null,
            "visibility": null,
            "align_self": null,
            "height": null,
            "min_height": null,
            "padding": null,
            "grid_auto_rows": null,
            "grid_gap": null,
            "max_width": null,
            "order": null,
            "_view_module_version": "1.2.0",
            "grid_template_areas": null,
            "object_position": null,
            "object_fit": null,
            "grid_auto_columns": null,
            "margin": null,
            "display": null,
            "left": null
          }
        },
        "895c9dc5ac9f4a7c8051993754bb3ba0": {
          "model_module": "@jupyter-widgets/controls",
          "model_name": "DescriptionStyleModel",
          "state": {
            "_view_name": "StyleView",
            "_model_name": "DescriptionStyleModel",
            "description_width": "",
            "_view_module": "@jupyter-widgets/base",
            "_model_module_version": "1.5.0",
            "_view_count": null,
            "_view_module_version": "1.2.0",
            "_model_module": "@jupyter-widgets/controls"
          }
        },
        "5135425d382f4496bb85ef86022df549": {
          "model_module": "@jupyter-widgets/base",
          "model_name": "LayoutModel",
          "state": {
            "_view_name": "LayoutView",
            "grid_template_rows": null,
            "right": null,
            "justify_content": null,
            "_view_module": "@jupyter-widgets/base",
            "overflow": null,
            "_model_module_version": "1.2.0",
            "_view_count": null,
            "flex_flow": null,
            "width": null,
            "min_width": null,
            "border": null,
            "align_items": null,
            "bottom": null,
            "_model_module": "@jupyter-widgets/base",
            "top": null,
            "grid_column": null,
            "overflow_y": null,
            "overflow_x": null,
            "grid_auto_flow": null,
            "grid_area": null,
            "grid_template_columns": null,
            "flex": null,
            "_model_name": "LayoutModel",
            "justify_items": null,
            "grid_row": null,
            "max_height": null,
            "align_content": null,
            "visibility": null,
            "align_self": null,
            "height": null,
            "min_height": null,
            "padding": null,
            "grid_auto_rows": null,
            "grid_gap": null,
            "max_width": null,
            "order": null,
            "_view_module_version": "1.2.0",
            "grid_template_areas": null,
            "object_position": null,
            "object_fit": null,
            "grid_auto_columns": null,
            "margin": null,
            "display": null,
            "left": null
          }
        }
      }
    }
  },
  "cells": [
    {
      "cell_type": "code",
      "metadata": {
        "id": "mzUzDf0JknGn"
      },
      "source": [
        "import pandas as pd\n",
        "import re\n",
        "import numpy as np\n",
        "\n",
        "from pathlib import Path\n"
      ],
      "execution_count": 23,
      "outputs": []
    },
    {
      "cell_type": "code",
      "metadata": {
        "id": "6YRDUkQg-J3i"
      },
      "source": [
        "# download from google drive\n",
        "from google.colab import drive\n",
        "drive.mount('/content/gdrive',force_remount=True)\n",
        "\n",
        "!ln -s /content/gdrive/My\\ Drive/toxic_nlp /toxic_nlp\n",
        "!ls /toxic_nlp\n",
        "\n",
        "class MyConfig(dict):\n",
        "  def __getattr__(self, name): return self[name]\n",
        "  def __setattr__(self, name, value): self[name] = value\n",
        "\n",
        "\n",
        "configs = MyConfig({'path':{\n",
        "    'path_drive' : Path('/toxic_nlp'),\n",
        "    'path_colab_data' : Path('./dataset')\n",
        "    }\n",
        "})"
      ],
      "execution_count": null,
      "outputs": []
    },
    {
      "cell_type": "markdown",
      "metadata": {
        "id": "nuh-RucIgxNl"
      },
      "source": [
        "# 데이터 셋 구성\n",
        "- Wiki page, Gab, Reddit, Twitter, 백인 우월주의 포럼까지 다양한 도메인에서 수집된 데이터들로 구성하였다.\n",
        "- 혐오표현의 분류문제에서 모델이 맥락정보를 적절하게 사용하기에 데이터의 문제가 있음.\n",
        "  1. Toxic label의 비율이 낮음.\n",
        "  2. 맥락정보를 포함하는 데이터셋이 거의 없음.\n",
        "  3. 맥락정보를 포함하는 데이터셋 출처(도메인)가 한정적임.\n",
        "\n",
        "\n",
        "**- 수집한 데이터 셋 명세**\n",
        "\n",
        "<img src ='https://drive.google.com/uc?export=view&id=1MIRayeKoIIcBDtdUHrqz0uGpXB81jpXe'>\n"
      ]
    },
    {
      "cell_type": "markdown",
      "metadata": {
        "id": "LR719flqkUxI"
      },
      "source": [
        "# # **Preprocessing Data Sets**\n",
        "- 데이터셋 출처에 따라서 적절한 전처리를 수행하였음.\n",
        "  - 출처(도메인) 마다 제거해야 할 패턴이 다양함."
      ]
    },
    {
      "cell_type": "markdown",
      "metadata": {
        "id": "Gqz59ONPi7D9"
      },
      "source": [
        "## 1.Cat\n",
        "- Pavlopoulos et al,. 2020. Toxicity Detection: Does Context Really Matter? 연구에서 수집됨\n",
        "- Wiki takl page의 comment를 수집\n",
        "- 이모지, URL, html tag 등 삭제"
      ]
    },
    {
      "cell_type": "code",
      "metadata": {
        "colab": {
          "base_uri": "https://localhost:8080/",
          "height": 544
        },
        "id": "ZxLzLqdajIlx",
        "outputId": "4cb90df2-fdd5-43a0-d933-8c8bb7d916a3"
      },
      "source": [
        "!wget https://raw.githubusercontent.com/ipavlopoulos/context_toxicity/master/data/CAT_LARGE/gc.csv gc.csv\n",
        "df = pd.read_csv('gc.csv')\n",
        "print(df.label.value_counts())\n",
        "df.head()\n"
      ],
      "execution_count": 2,
      "outputs": [
        {
          "output_type": "stream",
          "text": [
            "--2021-08-09 06:22:16--  https://raw.githubusercontent.com/ipavlopoulos/context_toxicity/master/data/CAT_LARGE/gc.csv\n",
            "Resolving raw.githubusercontent.com (raw.githubusercontent.com)... 185.199.110.133, 185.199.109.133, 185.199.108.133, ...\n",
            "Connecting to raw.githubusercontent.com (raw.githubusercontent.com)|185.199.110.133|:443... connected.\n",
            "HTTP request sent, awaiting response... 200 OK\n",
            "Length: 3697430 (3.5M) [text/plain]\n",
            "Saving to: ‘gc.csv’\n",
            "\n",
            "gc.csv              100%[===================>]   3.53M  --.-KB/s    in 0.07s   \n",
            "\n",
            "2021-08-09 06:22:16 (47.7 MB/s) - ‘gc.csv’ saved [3697430/3697430]\n",
            "\n",
            "--2021-08-09 06:22:16--  http://gc.csv/\n",
            "Resolving gc.csv (gc.csv)... failed: Name or service not known.\n",
            "wget: unable to resolve host address ‘gc.csv’\n",
            "FINISHED --2021-08-09 06:22:16--\n",
            "Total wall clock time: 0.6s\n",
            "Downloaded: 1 files, 3.5M in 0.07s (47.7 MB/s)\n",
            "0    9849\n",
            "1     151\n",
            "Name: label, dtype: int64\n"
          ],
          "name": "stdout"
        },
        {
          "output_type": "execute_result",
          "data": {
            "text/html": [
              "<div>\n",
              "<style scoped>\n",
              "    .dataframe tbody tr th:only-of-type {\n",
              "        vertical-align: middle;\n",
              "    }\n",
              "\n",
              "    .dataframe tbody tr th {\n",
              "        vertical-align: top;\n",
              "    }\n",
              "\n",
              "    .dataframe thead th {\n",
              "        text-align: right;\n",
              "    }\n",
              "</style>\n",
              "<table border=\"1\" class=\"dataframe\">\n",
              "  <thead>\n",
              "    <tr style=\"text-align: right;\">\n",
              "      <th></th>\n",
              "      <th>id</th>\n",
              "      <th>text</th>\n",
              "      <th>parent</th>\n",
              "      <th>label</th>\n",
              "      <th>api</th>\n",
              "    </tr>\n",
              "  </thead>\n",
              "  <tbody>\n",
              "    <tr>\n",
              "      <th>0</th>\n",
              "      <td>100030037.40314.40314</td>\n",
              "      <td>BTW, I see no \"attack\" here.  What I see is so...</td>\n",
              "      <td>I also feel its important for StuRat to have h...</td>\n",
              "      <td>0</td>\n",
              "      <td>0.1323</td>\n",
              "    </tr>\n",
              "    <tr>\n",
              "      <th>1</th>\n",
              "      <td>100104685.102437.102437</td>\n",
              "      <td>I realise... I just want to urge caution and a...</td>\n",
              "      <td>A main reason this project was started was to ...</td>\n",
              "      <td>0</td>\n",
              "      <td>0.0314</td>\n",
              "    </tr>\n",
              "    <tr>\n",
              "      <th>2</th>\n",
              "      <td>100189373.112824.112824</td>\n",
              "      <td>I should have stressed that this should be a t...</td>\n",
              "      <td>I'd go for that. (By the way, not all deletion...</td>\n",
              "      <td>0</td>\n",
              "      <td>0.2229</td>\n",
              "    </tr>\n",
              "    <tr>\n",
              "      <th>3</th>\n",
              "      <td>100203140.40393.40393</td>\n",
              "      <td>Thanks to Lysy for shortening and copy editing...</td>\n",
              "      <td>(edit conflict with Piotrus) I agree with the...</td>\n",
              "      <td>0</td>\n",
              "      <td>0.0559</td>\n",
              "    </tr>\n",
              "    <tr>\n",
              "      <th>4</th>\n",
              "      <td>100214962.61084.61084</td>\n",
              "      <td>I like the additional info in the info box. I...</td>\n",
              "      <td>The larger box displays fine in Mozilla Firefo...</td>\n",
              "      <td>0</td>\n",
              "      <td>0.0539</td>\n",
              "    </tr>\n",
              "  </tbody>\n",
              "</table>\n",
              "</div>"
            ],
            "text/plain": [
              "                        id  ...     api\n",
              "0    100030037.40314.40314  ...  0.1323\n",
              "1  100104685.102437.102437  ...  0.0314\n",
              "2  100189373.112824.112824  ...  0.2229\n",
              "3    100203140.40393.40393  ...  0.0559\n",
              "4    100214962.61084.61084  ...  0.0539\n",
              "\n",
              "[5 rows x 5 columns]"
            ]
          },
          "metadata": {
            "tags": []
          },
          "execution_count": 2
        }
      ]
    },
    {
      "cell_type": "code",
      "metadata": {
        "id": "euTys1yslX9K"
      },
      "source": [
        "# regex pattern for Cat dataset\n",
        "class Regex_pattern():\n",
        "  def __init__(self):\n",
        "    self.emoji_pattern = re.compile(\"[\"\n",
        "                               u\"\\U0001F600-\\U0001F64F\"  # emoticons\n",
        "                               u\"\\U0001F300-\\U0001F5FF\"  # symbols & pictographs\n",
        "                               u\"\\U0001F680-\\U0001F6FF\"  # transport & map symbols\n",
        "                               u\"\\U0001F1E0-\\U0001F1FF\"  # flags (iOS)\n",
        "                               u\"\\U00002500-\\U00002BEF\"  # chinese char\n",
        "                               u\"\\U00002702-\\U000027B0\"u\"\\U00002702-\\U000027B0\"u\"\\U000024C2-\\U0001F251\"\n",
        "                               u\"\\U0001f926-\\U0001f937\"u\"\\U00010000-\\U0010ffff\"u\"\\u2640-\\u2642\"u\"\\u2600-\\u2B55\"\n",
        "                               u\"\\u200d\"u\"\\u23cf\"u\"\\u23e9\"u\"\\u231a\"u\"\\ufe0f\"u\"\\u3030\"\"]+\", flags=re.UNICODE)\n",
        "    self.comment_number = re.compile(\"[0-9]+.\")\n",
        "    self.url = re.compile(\"(?i)\\b((?:https?://|www\\d{0,3}[.]|[a-z0-9.\\-]+[.][a-z]{2,4}/)(?:[^\\s()<>]+|\\(([^\\s()<>]+|(\\([^\\s()<>]+\\)))*\\))+(?:\\(([^\\s()<>]+|(\\([^\\s()<>]+\\)))*\\)|[^\\s`!()\\[\\]{};:'\\\".,<>?«»“”‘’]))\")\n",
        "    self.url_1 = re.compile('http[s]?://(?:[a-zA-Z]|[0-9]|[$\\-@\\.&+:/?=]|[!*\\(\\),]|(?:%[0-9a-fA-F][0-9a-fA-F]))+')\n",
        "    self.url_2 = re.compile('www(?:[a-zA-Z]|[0-9]|[$\\-@\\.&+:/?=]|[!*\\(\\),]|(?:%[0-9a-fA-F][0-9a-fA-F]))+')\n",
        "    self.url_3 = re.compile('http[s]? : // (?:[a-zA-Z]|[0-9]|[$\\-@\\.&+:/?=]|[!*\\(\\),]|(?:%[0-9a-fA-F][0-9a-fA-F]))+')\n",
        "    self.user = re.compile(r\"@[a-zA-Z]+\")\n",
        "    self.hash = re.compile(r\"#\")\n",
        "    self.unlatter = re.compile(\"[âð±ïó¾¬ª¯¶¦â¡©§¸©¹¼¥¤ã»ÃÀÁÂÃÄÅ½º¢µ$|¿°«à]\")\n",
        "    self.space = re.compile(r\"\\s+\") # too many space\n",
        "    self.ip = re.compile(\"[']{2,3}\")\n",
        "    self.slash = re.compile(\"[\\'|]{1}\")\n",
        "    self.slash2 = re.compile(\"[\\']{2,}\")\n",
        "\n",
        "  def __call__(self, string):\n",
        "    string = self.emoji_pattern.sub(r'', string)\n",
        "    # string = regex_pattern.comment_number.sub(r'',string)\n",
        "    string = self.url.sub(r'',string)\n",
        "    # user @ tag는 전체 삭제\n",
        "    string = self.user.sub(r'',string)\n",
        "    # #tag 해시태그는 #해시 문자만 삭제\n",
        "    string = self.hash.sub(r'',string)\n",
        "    # string = re.compile(r\"#[a-zA-Z]+\").sub(r'',string)\n",
        "    string = self.unlatter.sub(r'',string)\n",
        "    string = self.space.sub(' ', string).strip()\n",
        "    string = self.url_1.sub('',string)\n",
        "    string = self.url_2.sub('',string)\n",
        "    string = self.url_3.sub('',string)\n",
        "    string = self.ip.sub(r\"'\",string)\n",
        "    string = self.slash.sub(r\"'\",string)\n",
        "    string = self.slash2.sub(r\"\",string)\n",
        "    return string\n",
        "\n",
        "regex_pattern = Regex_pattern()"
      ],
      "execution_count": 17,
      "outputs": []
    },
    {
      "cell_type": "code",
      "metadata": {
        "id": "bcQMNqoBmpYG"
      },
      "source": [
        "# 정규표현식 TEST (눈으로 직접 보면서 확인)\n",
        "df_sample = df.sample(100)\n",
        "for f in df_sample.text:\n",
        "  print('ori',f)\n",
        "  f = regex_pattern(f)\n",
        "  print('reg',str(f))"
      ],
      "execution_count": null,
      "outputs": []
    },
    {
      "cell_type": "code",
      "metadata": {
        "id": "RjZ2Cd8Ll96w"
      },
      "source": [
        "# clear text\n",
        "df['text_clean'] = df['text'].apply(lambda x: regex_pattern(x))\n",
        "df['parent_clean'] = df['parent'].apply(lambda x: regex_pattern(x))"
      ],
      "execution_count": 21,
      "outputs": []
    },
    {
      "cell_type": "code",
      "metadata": {
        "colab": {
          "base_uri": "https://localhost:8080/",
          "height": 289
        },
        "id": "3rwSP13RmJJB",
        "outputId": "598cbdd8-e91c-4a6c-faeb-62adc08fddff"
      },
      "source": [
        "df.head()"
      ],
      "execution_count": 22,
      "outputs": [
        {
          "output_type": "execute_result",
          "data": {
            "text/html": [
              "<div>\n",
              "<style scoped>\n",
              "    .dataframe tbody tr th:only-of-type {\n",
              "        vertical-align: middle;\n",
              "    }\n",
              "\n",
              "    .dataframe tbody tr th {\n",
              "        vertical-align: top;\n",
              "    }\n",
              "\n",
              "    .dataframe thead th {\n",
              "        text-align: right;\n",
              "    }\n",
              "</style>\n",
              "<table border=\"1\" class=\"dataframe\">\n",
              "  <thead>\n",
              "    <tr style=\"text-align: right;\">\n",
              "      <th></th>\n",
              "      <th>id</th>\n",
              "      <th>text</th>\n",
              "      <th>parent</th>\n",
              "      <th>label</th>\n",
              "      <th>api</th>\n",
              "      <th>text_clean</th>\n",
              "      <th>parent_clean</th>\n",
              "    </tr>\n",
              "  </thead>\n",
              "  <tbody>\n",
              "    <tr>\n",
              "      <th>0</th>\n",
              "      <td>100030037.40314.40314</td>\n",
              "      <td>BTW, I see no \"attack\" here.  What I see is so...</td>\n",
              "      <td>I also feel its important for StuRat to have h...</td>\n",
              "      <td>0</td>\n",
              "      <td>0.1323</td>\n",
              "      <td>BTW, I see no \"attack\" here. What I see is som...</td>\n",
              "      <td>I also feel its important for StuRat to have h...</td>\n",
              "    </tr>\n",
              "    <tr>\n",
              "      <th>1</th>\n",
              "      <td>100104685.102437.102437</td>\n",
              "      <td>I realise... I just want to urge caution and a...</td>\n",
              "      <td>A main reason this project was started was to ...</td>\n",
              "      <td>0</td>\n",
              "      <td>0.0314</td>\n",
              "      <td>I realise... I just want to urge caution and a...</td>\n",
              "      <td>A main reason this project was started was to ...</td>\n",
              "    </tr>\n",
              "    <tr>\n",
              "      <th>2</th>\n",
              "      <td>100189373.112824.112824</td>\n",
              "      <td>I should have stressed that this should be a t...</td>\n",
              "      <td>I'd go for that. (By the way, not all deletion...</td>\n",
              "      <td>0</td>\n",
              "      <td>0.2229</td>\n",
              "      <td>I should have stressed that this should be a t...</td>\n",
              "      <td>I'd go for that. (By the way, not all deletion...</td>\n",
              "    </tr>\n",
              "    <tr>\n",
              "      <th>3</th>\n",
              "      <td>100203140.40393.40393</td>\n",
              "      <td>Thanks to Lysy for shortening and copy editing...</td>\n",
              "      <td>(edit conflict with Piotrus) I agree with the...</td>\n",
              "      <td>0</td>\n",
              "      <td>0.0559</td>\n",
              "      <td>Thanks to Lysy for shortening and copy editing...</td>\n",
              "      <td>(edit conflict with Piotrus) I agree with the ...</td>\n",
              "    </tr>\n",
              "    <tr>\n",
              "      <th>4</th>\n",
              "      <td>100214962.61084.61084</td>\n",
              "      <td>I like the additional info in the info box. I...</td>\n",
              "      <td>The larger box displays fine in Mozilla Firefo...</td>\n",
              "      <td>0</td>\n",
              "      <td>0.0539</td>\n",
              "      <td>I like the additional info in the info box. It...</td>\n",
              "      <td>The larger box displays fine in Mozilla Firefo...</td>\n",
              "    </tr>\n",
              "  </tbody>\n",
              "</table>\n",
              "</div>"
            ],
            "text/plain": [
              "                        id  ...                                       parent_clean\n",
              "0    100030037.40314.40314  ...  I also feel its important for StuRat to have h...\n",
              "1  100104685.102437.102437  ...  A main reason this project was started was to ...\n",
              "2  100189373.112824.112824  ...  I'd go for that. (By the way, not all deletion...\n",
              "3    100203140.40393.40393  ...  (edit conflict with Piotrus) I agree with the ...\n",
              "4    100214962.61084.61084  ...  The larger box displays fine in Mozilla Firefo...\n",
              "\n",
              "[5 rows x 7 columns]"
            ]
          },
          "metadata": {
            "tags": []
          },
          "execution_count": 22
        }
      ]
    },
    {
      "cell_type": "code",
      "metadata": {
        "id": "bqiecQsVmXvc"
      },
      "source": [
        "# save to csv\n",
        "df_clean = df[['parent_clean','text_clean','label']]\n",
        "df_clean.rename({'parent_clean':'parent','text_clean':'text'},axis=1,inplace=True)\n",
        "\n",
        "df_clean.to_csv(configs.path['path_drive'] / 'dataset' / 'gc_clean.csv' )"
      ],
      "execution_count": null,
      "outputs": []
    },
    {
      "cell_type": "markdown",
      "metadata": {
        "id": "-WLsy3yBi-vq"
      },
      "source": [
        "## 2.Gab_red\n",
        "- Qian(2019) 연구에서 수집된 데이터.\n",
        "- Raddit, Gab에서 혐오단어 키워드를 통해 Conversational data를 수집.\n",
        "- 2차례 이상 이어지는 유저 간 Conversation 중, 혐오 발언으로 간주될 수 있는 Comment 번호를 Toxic으로 라벨링 한 데이터."
      ]
    },
    {
      "cell_type": "code",
      "metadata": {
        "id": "yEId9TFtp63B"
      },
      "source": [
        "# load dataset\n",
        "!wget https://raw.githubusercontent.com/jing-qian/A-Benchmark-Dataset-for-Learning-to-Intervene-in-Online-Hate-Speech/master/data/gab.csv gab.csv\n",
        "!wget https://raw.githubusercontent.com/jing-qian/A-Benchmark-Dataset-for-Learning-to-Intervene-in-Online-Hate-Speech/master/data/reddit.csv raddit.csv\n"
      ],
      "execution_count": null,
      "outputs": []
    },
    {
      "cell_type": "code",
      "metadata": {
        "colab": {
          "base_uri": "https://localhost:8080/"
        },
        "id": "_jdCkw5CgmYS",
        "outputId": "c4b26d0f-3351-4acf-c31f-4c418e369d44"
      },
      "source": [
        "\n",
        "df_gab = pd.read_csv('gab.csv')\n",
        "df_reddit = pd.read_csv('reddit.csv')\n",
        "\n",
        "df_rg = pd.concat([df_gab,df_reddit], ignore_index=True)\n",
        "# df_rg.dropna(inplace=True) # nan for non-toxic label\n",
        "print(df_rg.isnull().sum(),df_rg.shape)\n",
        "print('duplicate? ',df_rg.duplicated().sum())\n",
        "\n",
        "# context가 있는 comment만 남김 (comment가 1개만 있으면서 첫번째 문장인 경우 삭제)\n",
        "df_rg = df_rg[~(df_rg.hate_speech_idx == '[1]')][['text','hate_speech_idx']]\n",
        "df_rg.head()\n",
        "df_rg.shape"
      ],
      "execution_count": 28,
      "outputs": [
        {
          "output_type": "stream",
          "text": [
            "id                    0\n",
            "text                  0\n",
            "hate_speech_idx    1829\n",
            "response           1829\n",
            "dtype: int64 (16845, 4)\n",
            "duplicate?  1\n"
          ],
          "name": "stdout"
        },
        {
          "output_type": "execute_result",
          "data": {
            "text/plain": [
              "(11682, 2)"
            ]
          },
          "metadata": {
            "tags": []
          },
          "execution_count": 28
        }
      ]
    },
    {
      "cell_type": "code",
      "metadata": {
        "colab": {
          "base_uri": "https://localhost:8080/"
        },
        "id": "-zL6hZ6AqRRv",
        "outputId": "2ab3ac74-711a-4e26-afad-13559c5a7272"
      },
      "source": [
        "for i,j in zip(df_rg['text'][700:703], df_rg['hate_speech_idx']):\n",
        "  print(f'\\n{j}\\n{i}\\n\\n')"
      ],
      "execution_count": 31,
      "outputs": [
        {
          "output_type": "stream",
          "text": [
            "\n",
            "[3]\n",
            "1. \n",
            "2. \tNever again will I watch a @NFL game! Same goes for #NetFlix, never again will I let them make one penny from me !!   Yes Barry, you did that! You & the #racist #antiwhite #antiChristian #Atheistic #Leftatards always destroying, never creating anything but trouble!   What did you do with the hotdogs at the WH Barry!?? We remember, you treasonous 💩!!!   #Boycott !\n",
            "3. \t\tI looked the other day, everything on Netflix is all African American, Australian, British, or anything else requiring subtitles. Sorry you idiots, the last thing I want to do at the end of the night, is read sub titles. Everything Obama touches he ruins. It's deliberate by Soros. \n",
            "4. \t\t\tit's all nigger fantasies and Wakanda type BULLSHIT!! not real..\n",
            "\n",
            "\n",
            "\n",
            "\n",
            "[2]\n",
            "1. Hulu deleted this tweet after becoming the focus of countless jokes and being mocked for several hours straight.   Even companies are willing to backdown from SJW talking points if the heat gets too hot.\n",
            "2. \thttps://www.bitchute.com/video/hzi8Cz3IhZ1J/ Chinaman kicks black islam ass.\n",
            "\n",
            "\n",
            "\n",
            "\n",
            "[2]\n",
            "1. New Q 3!     #QAnon #GreatAwakening #WeThePeople #RedOctober #PatriotsFight #PatriotsEffectingChange #Midterms #VoteRed @realDonaldTrump @POTUS\n",
            "2. \tQlarp doesn’t do shit except make retarded posts that people Who can’t use the internet jack off to. \n",
            "\n",
            "\n",
            "\n"
          ],
          "name": "stdout"
        }
      ]
    },
    {
      "cell_type": "markdown",
      "metadata": {
        "id": "GDNVdevxqOcm"
      },
      "source": [
        "### Gab_red 데이터 문장 분리 로직\n",
        "- 위 예시처럼 2차례 이상 이어지는 User간 Conversation이 합쳐서 제공되고 있으며, 혐오발언으로 간주될 수 있는 Commnet번호를 라벨링 한 형태듸 데이터.\n",
        "- Hate Speech로 label된 문장을 중심으로, 그 이전 Comment를 맥락 text로 추출하였음.\n",
        "- 하나의 Conversation에 여러개의 Hate Speech로 label이 있는 경우, Hate Speech label 수만큼 분리됨.\n",
        "- Hate Speech로 label된 문장 이전 맥락이 지나치게 짧은 경우(예를 들어 한단어), 맥락 정보가 포함되지 않는 문장이 되어버리기 때문에, 적어도 5개 단어 토큰(stop word 제외) 보다 커질 때 까지 이전 comment를 포함시킴.\n",
        "  - **맥락 Commnet의 Token을 카운트할 때, stop word, punct는 포함시키지 않기 위해서 spacy package를 사용하였음.**"
      ]
    },
    {
      "cell_type": "code",
      "metadata": {
        "id": "SJ4YRLGcq0ln"
      },
      "source": [
        "!pip install -U spacy\n",
        "!python -m spacy download en_core_web_trf\n",
        "\n",
        "import spacy\n",
        "from spacy.tokenizer import Tokenizer\n",
        "\n",
        "# 맥락 commnet의 token을 카운트 할 때, stop word, punct를 걸러내기 위해서 사용\n",
        "nlp = spacy.load(\"en_core_web_trf\")\n",
        "tokenizer = Tokenizer(nlp.vocab)"
      ],
      "execution_count": null,
      "outputs": []
    },
    {
      "cell_type": "code",
      "metadata": {
        "id": "4BLyd_hxrqbT"
      },
      "source": [
        "# regex pattern for Gab_red dataset\n",
        "# regex pattern for Cat dataset\n",
        "class Regex_pattern():\n",
        "  def __init__(self):\n",
        "    self.emoji_pattern = re.compile(\"[\"\n",
        "                               u\"\\U0001F600-\\U0001F64F\"  # emoticons\n",
        "                               u\"\\U0001F300-\\U0001F5FF\"  # symbols & pictographs\n",
        "                               u\"\\U0001F680-\\U0001F6FF\"  # transport & map symbols\n",
        "                               u\"\\U0001F1E0-\\U0001F1FF\"  # flags (iOS)\n",
        "                               u\"\\U00002500-\\U00002BEF\"  # chinese char\n",
        "                               u\"\\U00002702-\\U000027B0\"u\"\\U00002702-\\U000027B0\"u\"\\U000024C2-\\U0001F251\"\n",
        "                               u\"\\U0001f926-\\U0001f937\"u\"\\U00010000-\\U0010ffff\"u\"\\u2640-\\u2642\"u\"\\u2600-\\u2B55\"\n",
        "                               u\"\\u200d\"u\"\\u23cf\"u\"\\u23e9\"u\"\\u231a\"u\"\\ufe0f\"u\"\\u3030\"\"]+\", flags=re.UNICODE)\n",
        "    self.comment_number = re.compile(\"[0-9]+.\")\n",
        "    self.url = re.compile(\"(?i)\\b((?:https?://|www\\d{0,3}[.]|[a-z0-9.\\-]+[.][a-z]{2,4}/)(?:[^\\s()<>]+|\\(([^\\s()<>]+|(\\([^\\s()<>]+\\)))*\\))+(?:\\(([^\\s()<>]+|(\\([^\\s()<>]+\\)))*\\)|[^\\s`!()\\[\\]{};:'\\\".,<>?«»“”‘’]))\")\n",
        "    self.url_1 = re.compile('http[s]?://(?:[a-zA-Z]|[0-9]|[$\\-@\\.&+:/?=]|[!*\\(\\),]|(?:%[0-9a-fA-F][0-9a-fA-F]))+')\n",
        "    self.url_2 = re.compile('www(?:[a-zA-Z]|[0-9]|[$\\-@\\.&+:/?=]|[!*\\(\\),]|(?:%[0-9a-fA-F][0-9a-fA-F]))+')\n",
        "    self.url_3 = re.compile('http[s]? : // (?:[a-zA-Z]|[0-9]|[$\\-@\\.&+:/?=]|[!*\\(\\),]|(?:%[0-9a-fA-F][0-9a-fA-F]))+')\n",
        "    self.user = re.compile(r\"@[a-zA-Z]+\")\n",
        "    self.hash = re.compile(r\"#\")\n",
        "    self.unlatter = re.compile(\"[âð±ïó¾¬ª¯¶¦â¡©§¸©¹¼¥¤ã»ÃÀÁÂÃÄÅ½º¢µ$|¿°«à]\")\n",
        "    self.space = re.compile(r\"\\s+\") # too many space\n",
        "    self.ip = re.compile(\"[']{2,3}\")\n",
        "    self.slash = re.compile(\"[\\'|]{1}\")\n",
        "    self.slash2 = re.compile(\"[\\']{2,}\")\n",
        "\n",
        "  def __call__(self, string):\n",
        "    string = self.emoji_pattern.sub(r'', string)\n",
        "    # string = regex_pattern.comment_number.sub(r'',string)\n",
        "    string = self.url.sub(r'',string)\n",
        "    # user @ tag는 전체 삭제\n",
        "    string = self.user.sub(r'',string)\n",
        "    # #tag 해시태그는 #해시 문자만 삭제\n",
        "    string = self.hash.sub(r'',string)\n",
        "    # string = re.compile(r\"#[a-zA-Z]+\").sub(r'',string)\n",
        "    string = self.unlatter.sub(r'',string)\n",
        "    # string = self.space.sub(' ', string).strip()\n",
        "    string = self.url_1.sub('',string)\n",
        "    string = self.url_2.sub('',string)\n",
        "    string = self.url_3.sub('',string)\n",
        "    # string = self.ip.sub(r\"'\",string)\n",
        "    # string = self.slash.sub(r\"'\",string)\n",
        "    # string = self.slash2.sub(r\"\",string)\n",
        "    return string\n",
        "\n",
        "regex_pattern = Regex_pattern()"
      ],
      "execution_count": 59,
      "outputs": []
    },
    {
      "cell_type": "code",
      "metadata": {
        "id": "XNq7zBlBrbJA"
      },
      "source": [
        "def token_count(doc):\n",
        "  cnt = 0\n",
        "  for token in tokenizer(doc): # spacy tokenizer\n",
        "    # print(t)\n",
        "    if (token.is_stop == False) & (token.is_punct == False):\n",
        "      cnt +=1\n",
        "  return cnt\n",
        "\n",
        "def concat_doc(doc_list):\n",
        "  if len(doc_list) < 2:\n",
        "    return doc_list\n",
        "  else :\n",
        "    return ['. '.join(reversed(doc_list))]\n",
        "\n",
        "# def set_text_parent(comments, idx):\n",
        "def set_text_parent(x, regex_pattern):\n",
        "  comments = x[0]\n",
        "  idx = x[1]\n",
        "\n",
        "  # comments = remove_emoji(comments, regex_pattern)\n",
        "  comments = regex_pattern(comments)\n",
        "  comments = comments.replace('\\t','').split('\\n')\n",
        "\n",
        "  doc = []\n",
        "  for i in comments:\n",
        "    i = re.compile(r\"\\s+\").sub(\" \", i).strip() # too many space -> single space\n",
        "    doc.append(i)\n",
        "\n",
        "  doc = doc[:-1]\n",
        "\n",
        "  text = []\n",
        "  parent = []\n",
        "  label = []\n",
        "\n",
        "  # for non-toxic comments\n",
        "  if str(idx) == 'nan':\n",
        "    text.append(doc[-1])\n",
        "    max_doc = len(doc)\n",
        "    cnt = 0\n",
        "    for i in range(max_doc-2, -1,-1):\n",
        "      cnt += token_count(doc[i])\n",
        "      parent.append(doc[i])\n",
        "      label.append(0)\n",
        "      if cnt > 5:\n",
        "        return concat_doc(parent), text, label\n",
        "      else : continue\n",
        "    return concat_doc(parent), text, label\n",
        "\n",
        "  # set start idx 0\n",
        "  idx_list = [int(i)-1 for i in re.compile(r'\\d{1,2}').findall(idx)]\n",
        "\n",
        "  # only single comment is toxic & single context commnet\n",
        "  if idx_list[0] == 1 and len(idx_list) < 2:\n",
        "    parent.append(doc[idx_list[0]-1])\n",
        "    text.append(doc[idx_list[0]])\n",
        "    label.append(1)\n",
        "    return parent, text, label # return single string sentence list\n",
        "\n",
        "  # single toxic\n",
        "  if len(idx_list) < 2:\n",
        "\n",
        "    try:\n",
        "      text.append(doc[idx_list[-1]])\n",
        "    except:\n",
        "      print(idx_list[-1], doc, len(doc))\n",
        "      \n",
        "    label = [1]\n",
        "    cnt = 0\n",
        "    for i in range(idx_list[-1]-1, -1, -1): \n",
        "      try:\n",
        "        cnt += token_count(doc[i])\n",
        "        parent.append(doc[i])\n",
        "      except:\n",
        "        print(i, len(doc))\n",
        "      \n",
        "      if cnt > 5:\n",
        "        return concat_doc(parent), text, label\n",
        "      else : continue\n",
        "    return concat_doc(parent), text, label\n",
        "\n",
        "\n",
        "  if len(idx_list) > 1:\n",
        "\n",
        "    for j in idx_list:\n",
        "      if j == 0:\n",
        "        continue\n",
        "      \n",
        "      text.append(doc[j])\n",
        "      label = [1]\n",
        "      cnt = 0\n",
        "      tmp_parent = []\n",
        "      for i in range(j-1,-1,-1):\n",
        "        cnt += token_count(doc[i])\n",
        "        tmp_parent.append(doc[i])\n",
        "        if cnt > 5:\n",
        "          parent.append(concat_doc(tmp_parent)[0])\n",
        "          break\n",
        "        else : continue\n",
        "        parent.append(concat_doc(tmp_parent)[0])\n",
        "\n",
        "  return parent, text, label"
      ],
      "execution_count": 78,
      "outputs": []
    },
    {
      "cell_type": "code",
      "metadata": {
        "colab": {
          "base_uri": "https://localhost:8080/"
        },
        "id": "2CM62aeerfB8",
        "outputId": "2eee8212-19e0-4893-d543-b20f15a8b0b4"
      },
      "source": [
        "t_p, t_t, t_l = [], [], []\n",
        "\n",
        "for n, (c,i) in enumerate(zip(df_rg['text'],df_rg['hate_speech_idx'])):\n",
        "  if n % 1000 == 0:\n",
        "    print(n)\n",
        "  tmp = (c,i)\n",
        "  try :\n",
        "    p, t, l = set_text_parent(tmp, regex_pattern)\n",
        "  except :\n",
        "    print(n) # labeling error,,\n",
        "  # print(p,t,l)\n",
        "  for sp,st in zip(p, t):\n",
        "    t_p.append(sp)\n",
        "    t_t.append(st)\n",
        "    t_l.append(l[0])"
      ],
      "execution_count": 81,
      "outputs": [
        {
          "output_type": "stream",
          "text": [
            "0\n",
            "1000\n",
            "2000\n",
            "3000\n",
            "4000\n",
            "5000\n",
            "6000\n",
            "7000\n",
            "8000\n",
            "9000\n",
            "10000\n",
            "2 [\"1. I heard from Giant Bomb's Abby Russell that they touched some political subjects that need to be discussed but in a subtle way. I guess this is subtle for her.\", '2. Thanks for reminding me that stupid millenial cunt exists, I used to enjoy GB before she turned whatever good remained in it into shit.'] 2\n",
            "11000\n",
            "19 [\"1. Disney princesses have been heavily criticized by actual feminists for as long as the two have existed. Just because the SJW crowd is suddenly getting into it doesn't mean they're wrong.\", \"2. Then again, what makes you say feminists are automatically right? ACTUAL feminists include women who wanted black people's voting to never happen, men to be reduced to 10% of society and said all penis-in-vagina is automatically rape. It's not like we are talking about a group that exists therefore is right.\", '3. I didn\\'t say they\\'re automatically right.. I said that they\\'re right in this situation. The message of The Little Mermaid is quite literally to give up absolutely everything that you are in order to find \"the perfect man\". Ironically the original fairytale had the exact opposite message, to learn to be comfortable with who you are instead of relying on other people to make you happy. Cinderella was again about how you aren\\'t worthy until you change your appearance and demeanor. What\\'s funny is something like Aladdin which was a gender swap of the same premise, ultimately ended with the message being not to lie, but instead to be yourself. Beauty and the Beast was about legit stockholme syndrome. Fall in love with abusive assholes just because it\\'s better than being single. The hardworking Gaston is considered an ass for all of his negative traits, the Beast, whose accomplishments are a result of birth-rite, does all of the exact same negative shit, but he\\'s considered a good guy. What shocks me is feminists who don\\'t spot these glaring problems, but instead blindly support Disney. \"The Force is Female\" is a marketing slogan, not a philosophy. And where did you get your \"ACTUAL\" feminists? You\\'re talking about extremists. Extremists are never a good thing and are almost always a minority. For every Andrea Dworkin there are 20 non-vocal, even-tempered feminists. For every Roosh-V there are 20 normal non-sexist MRAs.', \"4. How many stories are about men giving up everything and risking it all for being with the perfect woman, protecting her, caring about her, etc.? I'm not saying it should be the rule of law, but for many people that's how they want to be and how they are. Now you will say because muh society, but it has always been that way. You don't have to like it. But if you deny that risking everything for love is something people do, then you are being disingenuous. With Cinderella you should also consider that the prince loved her even when he found out what she really was. Like you can't ignore the fact they had no chance at meeting otherwise. Aladdin is completely different, though. He literally created a whole, complex lie with stories made up of his deeds. Like there is a whole song of the Genie going around and saying outright lies about him. He created a whole new persona, while Cinderella just went to the ball. Belle only started liking the Beast once he started being nicer. She hated and feared him when he was mean. Girl kept trying to get away from him. It's again, disingenuous to say she fell in love with him. Both him and Gaston started out as dickbags, but the Beast was willing to work on himself and become a much better person. Gaston, even to his last moment was an aggressive person and refused to listen to Belle. Even with Maurice, while the Beast imprisoned him at first, he exchanged him for Belle, then also let even her go when Maurice was ill. To me one of the big themes of the movie is how you can change, better yourself and set things right if you try. (I think one song in the movie even has lyrics along those lines.) The feminists I talked about? Elizabeth Cady Stanton > Elizabeth Cady Stanton (November 12, 1815 – October 26, 1902) was an American suffragist, social activist, abolitionist, and leading figure of the early women's rights movement. Her Declaration of Sentiments, presented at the Seneca Falls Convention held in 1848 in Seneca Falls, New York, is often credited with initiating the first organized women's rights and women's suffrage movements in the United States.[1][2] Stanton was president of the National Woman Suffrage Association from 1892 until 1900. Sally Miller Gearhart > Sally Miller Gearhart (born April 15, 1931) is an American teacher, feminist, science-fiction writer, and political activist.[1] In 1973, she became the first open lesbian to obtain a tenure-track faculty position when she was hired by San Francisco State University, where she helped establish one of the first women and gender study programs in the country.[2] She later became a nationally known gay rights activist. And Andrea Dworkin, whom I probably don't have to introduce at all. Conveniently, she is the only one who is considered a radical feminist, though not at all a little fringe no-name nobody. Please, do the typical thing and declare that the biggest of big name organisers or feminism are totally not actual feminists. Because YOU know what feminism REALLY is about, somehow Emmeline Pankhurt (suffragette and also white feather movement supporter), Germaine Greer (influential second-waver and also supporter of female-on-male pedophilia) or Marion Zimmer Bradley (celebrated feminist fantasy author and habitual incestuous child rapist) were not real. None of them actually are, just you.\", \"5. Jesus! Fuck you're nutty. You've read into my statements as if I'm somehow in support of internment camps for men. You're just as fucking nuts as those lunatics. Go fight your gender war somewhere else. &x200B; We're talking about whether the stories reinterpretted by Disney are sexist or not, not whether other stories are sexist or whether some feminists are batshit crazy. Establishing that good things will only happen for you when you literally give up on who you are is damaging. What I literally said is that they're not wrong to say that Disney has pushed some pretty sexist messages in their media in an attempt to profit. They care about women's right about as much as Obama. Hint: They don't, they just like to talk about it.\", \"6. > What I literally said is that they're not wrong to say that Disney has pushed some pretty sexist messages Or they are movies in which people like you decide to read sexist messages into. People read into pieces of art the things that they want to see. That's why great works are always so discussed and analyzed. Everybody has a different perspective. Unless Disney explicitly says what their message is, it's just your interpretation being imposed on them.\", '7. I just said this to someone else, but.... Disney princess movies are advertised to extremely young children. Not middle aged women. A middle aged woman somehow being manipulated by some shitty disney movie probably has more to worry about than \"the big bad media\". A 6 year old though? Her first interpretation of male/female relationships is one of pure fantasy. Generally speaking boys at the same age are watching adventure movies/shows like Transformers, Ninja turtles or Pokemon. They\\'re about making friends, having a good time and being morally right. Shows advertised to girls(at least back in the 80s-90s) are generally about finding the right guy.', \"8. >Disney princess movies are advertised to extremely young children. Not middle aged women. So? Kids who watch Superman don't usually try to jump off the roof with a towel around them. Even kids can grasp the nature of reality. >Her first interpretation of male/female relationships is one of pure fantasy. Actually it would be his/her parents and family members. >Shows advertised to girls(at least back in the 80s-90s) are generally about finding the right guy. Jem, My Little Pony, She-Ra, Punky Brewster, Strawberry Shortcake, would all disagree with you. What shows were you talking about exactly? And how is this a sexist message anyways? If it's what girls like and want to see.\", \"9. I'm certain I could find a ton of stories of kids being stupid with makeshift capes. That's not the point though. The point is that kids absolutely do want to emulate Superman's morals. They use those stories as a way of determining how they act around others. A story about a very fantastical interaction is going to create an idea of fantasy. I'm sure little girls want to become mermaids, the same as boys want to become superman, the difference is interpersonal relationships. Generally speaking a familial relationship is viewed entirely differently. A kid generally doesn't watch their parents go on dates, they don't watch their parents fall in love. Even those with a broken household still aren't sitting in on their mother's date with suitor 2. The nuance of attraction is being simulated with camera work and sound in movies and tv shows. Kids are attracted to colors, not so much stories. Designing a story with pink colours but doesn't feature a relationship is absolutely doable and I don't think people take issue with it. It's the shows that are pink in colour and are pushing some tumultuous, romantic subplot that become a problem. Boy Meets World is about a kid, his brother and best friend screwing around. Season 3 introduces a romantic subplot that's treated in a fairly healthy way throughout the rest of the series. Girl Meets World is about a girl and her best friend dealing with dramatic relationships right from day 1.\", \"10. Those goal posts are getting pretty hard to make out from here. >A story about a very fantastical interaction is going to create an idea of fantasy. I'm sure little girls want to become mermaids, the same as boys want to become superman, the difference is interpersonal relationships. Fantasy is not reality. Even children know this. Interpersonal skills are learned from interacting with other people. Not from watching media. no one, even kids emulates these characters in real life. Unless you hace evidence otherwise? >Generally speaking a familial relationship is viewed entirely differently. A kid generally doesn't watch their parents go on dates, they don't watch their parents fall in love. No. But they do watch them kiss, hug, interrelate, see how they manage conflicts etc. This is their first experience with relationships, despite what you claimed. I can still kind of see that goal post creeping back. >Kids are attracted to colors, not so much stories. Designing a story with pink colours but doesn't feature a relationship is absolutely doable and I don't think people take issue with it. It's the shows that are pink in colour and are pushing some tumultuous, romantic subplot that become a problem. Boy Meets World is about a kid, his brother and best friend screwing around. Season 3 introduces a romantic subplot that's treated in a fairly healthy way throughout the rest of the series. Girl Meets World is about a girl and her best friend dealing with dramatic relationships right from day 1. Girl Meets World? You mean the show from 2014? >Shows advertised to girls(at least back in the 80s-90s) are generally about finding the right guy. There goes the goal post, out of sight forever.\", '11. I feel as if you\\'re afraid of the word feminism. I thought we were having a conversation. Not an \"agree with me or you\\'re wrong\". Sometimes this sub devolves to the same shit as the radfems.', \"12. I don't recall ever mentioning feminism. But this is why we were never really having a conversation. You can't respond to the things I say.\", '13. Go back to bitching about goalposts retard.', '14. >Go back to bitching about goalposts retard. You are getting a Rule 1 warning for this. Knock off the name calling.'] 14\n",
            "18 14\n",
            "17 14\n",
            "16 14\n",
            "15 14\n",
            "14 14\n"
          ],
          "name": "stdout"
        }
      ]
    },
    {
      "cell_type": "code",
      "metadata": {
        "colab": {
          "base_uri": "https://localhost:8080/"
        },
        "id": "q6Wg7K3FpXft",
        "outputId": "0c6a503a-35e4-4e44-8cb3-cd1c4a3929db"
      },
      "source": [
        "df_split = pd.DataFrame(list(zip(t_p,t_t,t_l)), columns=['parent','text','label'])\n",
        "# gab, reddit에서 혐오 키워드로 수집했기 때문에 혐오 표현이 대부분.\n",
        "df_split.label.value_counts()"
      ],
      "execution_count": 82,
      "outputs": [
        {
          "output_type": "execute_result",
          "data": {
            "text/plain": [
              "1    12914\n",
              "0     1323\n",
              "Name: label, dtype: int64"
            ]
          },
          "metadata": {
            "tags": []
          },
          "execution_count": 82
        }
      ]
    },
    {
      "cell_type": "code",
      "metadata": {
        "id": "5jeASMh_pp1-"
      },
      "source": [
        "# save to csv\n",
        "df_split.to_csv(configs.path['path_drive'] / 'dataset' / 'gab_reddit.csv' )"
      ],
      "execution_count": null,
      "outputs": []
    },
    {
      "cell_type": "markdown",
      "metadata": {
        "id": "2DHjQyXkysXT"
      },
      "source": [
        "## 3.Ktc\n",
        "- Kaggle Toxic competition dataset\n",
        "- Wili talk page 15만건 수집\n",
        "- 10%의 데이터만 Toxic으로 분류되어 있음."
      ]
    },
    {
      "cell_type": "code",
      "metadata": {
        "id": "Rfv7cbSJzy7U"
      },
      "source": [
        "def get_data_csv_path(configs, condition):\n",
        "  condition = condition\n",
        "  return [f for f in configs.path['list_csv'] if f'{condition}' in str(f)][0]\n",
        "# from my google drive\n",
        "configs.path['list_csv'] = [f for f in (configs.path['path_drive'] / 'dataset').glob('*.csv')]\n",
        "\n",
        "df_jig_train = pd.read_csv(get_data_csv_path(configs, 'jig_train'))\n",
        "df_jig_test = pd.read_csv(get_data_csv_path(configs, 'jig_test'))\n",
        "df_jig_test_label = pd.read_csv(get_data_csv_path(configs, 'jig_test_labels'))"
      ],
      "execution_count": null,
      "outputs": []
    },
    {
      "cell_type": "code",
      "metadata": {
        "id": "0wfYhOoo-B4F"
      },
      "source": [
        "# # regex pattern for jig dataset\n",
        "class Regex_pattern():\n",
        "  def __init__(self):\n",
        "    self.emoji_pattern = re.compile(\"[\"\n",
        "                               u\"\\U0001F600-\\U0001F64F\"u\"\\U0001F300-\\U0001F5FF\"u\"\\U0001F680-\\U0001F6FF\"u\"\\U0001F1E0-\\U0001F1FF\"  # flags (iOS)\n",
        "                               u\"\\U00002500-\\U00002BEF\"u\"\\U00002702-\\U000027B0\"u\"\\U00002702-\\U000027B0\"\n",
        "                               u\"\\U000024C2-\\U0001F251\"u\"\\U0001f926-\\U0001f937\"u\"\\U00010000-\\U0010ffff\"\n",
        "                               u\"\\u2640-\\u2642\"u\"\\u2600-\\u2B55\"u\"\\u200d\"u\"\\u23cf\"u\"\\u23e9\"u\"\\u231a\"u\"\\ufe0f\"u\"\\u3030\"\"]+\", flags=re.UNICODE)\n",
        "    self.comment_number = re.compile(\"[0-9]+.\")\n",
        "    self.user = re.compile(r\"@[a-zA-Z]+\")\n",
        "    self.hash = re.compile(r\"#\")\n",
        "    self.unlatter = re.compile(\"[âð±ïó¾¬ª¯¶¦â¡©§¸©¹¼¥¤ã»ÃÀÁÂÃÄÅ½º¢µ$|¿°«à]\")\n",
        "    self.space = re.compile(r\"\\s+\") # too many space\n",
        "    \n",
        "    self.url = re.compile(\"(?i)\\b((?:https?://|www\\d{0,3}[.]|[a-z0-9.\\-]+[.][a-z]{2,4}/)(?:[^\\s()<>]+|\\(([^\\s()<>]+|(\\([^\\s()<>]+\\)))*\\))+(?:\\(([^\\s()<>]+|(\\([^\\s()<>]+\\)))*\\)|[^\\s`!()\\[\\]{};:'\\\".,<>?«»“”‘’]))\")\n",
        "    self.url_1 = re.compile('http[s]?://(?:[a-zA-Z]|[0-9]|[$\\-@\\.&+:/?=]|[!*\\(\\),]|(?:%[0-9a-fA-F][0-9a-fA-F]))+')\n",
        "    self.url_2 = re.compile('www(?:[a-zA-Z]|[0-9]|[$\\-@\\.&+:/?=]|[!*\\(\\),]|(?:%[0-9a-fA-F][0-9a-fA-F]))+')\n",
        "    self.url_3 = re.compile('http[s]? : // (?:[a-zA-Z]|[0-9]|[$\\-@\\.&+:/?=]|[!*\\(\\),]|(?:%[0-9a-fA-F][0-9a-fA-F]))+')\n",
        "    \n",
        "    self.ip = re.compile('\\d{1,3}\\.\\d{1,3}\\.\\d{1,3}\\.\\d{1,3}')\n",
        "    self.article_id = re.compile('d:\\d\\d\\s{0,5}$')\n",
        "    self.userid = re.compile('\\[\\[User(.*)\\|')\n",
        "\n",
        "  def __call__(self, string):\n",
        "\n",
        "      string = self.emoji_pattern.sub(r'', string)\n",
        "      # string = regex_pattern.comment_number.sub(r'',string)\n",
        "      string = self.url.sub(r'',string)\n",
        "      # user @ tag는 전체 삭제\n",
        "      string = self.user.sub(r'',string)\n",
        "      # #tag 해시태그는 #해시 문자만 삭제\n",
        "      string = self.hash.sub(r'',string)\n",
        "      # string = re.compile(r\"#[a-zA-Z]+\").sub(r'',string)\n",
        "      string = self.unlatter.sub(r'',string)\n",
        "      string = self.space.sub(' ', string).strip()\n",
        "      string = self.url_1.sub('',string)\n",
        "      string = self.url_2.sub('',string)\n",
        "      string = self.url_3.sub('',string)\n",
        "      return string\n",
        "\n",
        "regex_pattern = Regex_pattern()"
      ],
      "execution_count": null,
      "outputs": []
    },
    {
      "cell_type": "code",
      "metadata": {
        "id": "rigXldvj-sPQ"
      },
      "source": [
        "# 정규표현식으로 잘 제거되고 있는지 확인\n",
        "df_sample = df_jig_train.sample(100)\n",
        "for f in df_sample.comment_text:\n",
        "  print(regex_pattern(f))\n"
      ],
      "execution_count": null,
      "outputs": []
    },
    {
      "cell_type": "code",
      "metadata": {
        "id": "LOyZCvnZ-2On"
      },
      "source": [
        "df['text_clean'] = df['comment_text'].apply(lambda x: regex_pattern(x))\n",
        "\n",
        "# save to csv\n",
        "df_jig_clean = df[['text_clean','toxic']].rename({'text_clean':'text','toxic':'label'})\n",
        "df_jig_clean.head()\n",
        "df_jig_clean.to_csv(configs.path['path_drive'] / 'dataset' / 'jig_train.csv' )"
      ],
      "execution_count": null,
      "outputs": []
    },
    {
      "cell_type": "markdown",
      "metadata": {
        "id": "XJ6aznQw_F6F"
      },
      "source": [
        "## 4.Twit\n",
        "- Tweets hate speech detection dataset\n",
        "- hugging face api 활용"
      ]
    },
    {
      "cell_type": "code",
      "metadata": {
        "id": "uex2tl_G_snn"
      },
      "source": [
        "!pip install datasets"
      ],
      "execution_count": null,
      "outputs": []
    },
    {
      "cell_type": "code",
      "metadata": {
        "colab": {
          "base_uri": "https://localhost:8080/"
        },
        "id": "hM_QbKcB_wHo",
        "outputId": "f8c919a7-8013-4ede-e2d0-01203313923f"
      },
      "source": [
        "from datasets import load_dataset\n",
        "\n",
        "dataset = load_dataset('tweets_hate_speech_detection')\n",
        "\n",
        "# inbalance dataset!!\n",
        "df = pd.DataFrame({'tweet': dataset['train'][:]['tweet'], 'label': dataset['train'][:]['label']})\n",
        "df.label.value_counts()"
      ],
      "execution_count": 85,
      "outputs": [
        {
          "output_type": "stream",
          "text": [
            "Using custom data configuration default\n",
            "Reusing dataset tweets_hate_speech_detection (/root/.cache/huggingface/datasets/tweets_hate_speech_detection/default/0.0.0/3e953745870454cf8ff15cc48097dbb5ff459596e0a089867c2a29cee63984ec)\n"
          ],
          "name": "stderr"
        },
        {
          "output_type": "execute_result",
          "data": {
            "text/plain": [
              "0    29720\n",
              "1     2242\n",
              "Name: label, dtype: int64"
            ]
          },
          "metadata": {
            "tags": []
          },
          "execution_count": 85
        }
      ]
    },
    {
      "cell_type": "code",
      "metadata": {
        "id": "GslpmZ97nVS4"
      },
      "source": [
        "# regex patterns\n",
        "class Regex_pattern():\n",
        "  def __init__(self):\n",
        "    self.emoji_pattern = re.compile(\"[\"\n",
        "                               u\"\\U0001F600-\\U0001F64F\"  # emoticons\n",
        "                               u\"\\U0001F300-\\U0001F5FF\"  # symbols & pictographs\n",
        "                               u\"\\U0001F680-\\U0001F6FF\"  # transport & map symbols\n",
        "                               u\"\\U0001F1E0-\\U0001F1FF\"  # flags (iOS)\n",
        "                               u\"\\U00002500-\\U00002BEF\"  # chinese char\n",
        "                               u\"\\U00002702-\\U000027B0\"u\"\\U00002702-\\U000027B0\"u\"\\U000024C2-\\U0001F251\"\n",
        "                               u\"\\U0001f926-\\U0001f937\"u\"\\U00010000-\\U0010ffff\"u\"\\u2640-\\u2642\"u\"\\u2600-\\u2B55\"\n",
        "                               u\"\\u200d\"u\"\\u23cf\"u\"\\u23e9\"u\"\\u231a\"u\"\\ufe0f\"u\"\\u3030\"\"]+\", flags=re.UNICODE)\n",
        "    self.comment_number = re.compile(\"[0-9]+.\")\n",
        "    self.url = re.compile(\"(?i)\\b((?:https?://|www\\d{0,3}[.]|[a-z0-9.\\-]+[.][a-z]{2,4}/)(?:[^\\s()<>]+|\\(([^\\s()<>]+|(\\([^\\s()<>]+\\)))*\\))+(?:\\(([^\\s()<>]+|(\\([^\\s()<>]+\\)))*\\)|[^\\s`!()\\[\\]{};:'\\\".,<>?«»“”‘’]))\")\n",
        "    self.user = re.compile(r\"@[a-zA-Z]+\")\n",
        "    self.hash = re.compile(r\"#\")\n",
        "    self.unlatter = re.compile(\"[âð±ïó¾¬ª¯¶¦â¡©§¸©¹¼¥¤ã»ÃÀÁÂÃÄÅ½º¢µ$|¿°«à]\")\n",
        "    self.space = re.compile(r\"\\s+\") # too many space\n",
        "    self.url_1 = re.compile('http[s]?://(?:[a-zA-Z]|[0-9]|[$\\-@\\.&+:/?=]|[!*\\(\\),]|(?:%[0-9a-fA-F][0-9a-fA-F]))+')\n",
        "    self.url_2 = re.compile('www(?:[a-zA-Z]|[0-9]|[$\\-@\\.&+:/?=]|[!*\\(\\),]|(?:%[0-9a-fA-F][0-9a-fA-F]))+')\n",
        "    self.url_3 = re.compile('http[s]? : // (?:[a-zA-Z]|[0-9]|[$\\-@\\.&+:/?=]|[!*\\(\\),]|(?:%[0-9a-fA-F][0-9a-fA-F]))+')\n",
        "\n",
        "  def __call__(self, string):\n",
        "    string = self.emoji_pattern.sub(r'', string)\n",
        "    # string = regex_pattern.comment_number.sub(r'',string)\n",
        "    string = self.url.sub(r'',string)\n",
        "    # user @ tag는 전체 삭제\n",
        "    string = self.user.sub(r'',string)\n",
        "    # #tag 해시태그는 #해시 문자만 삭제\n",
        "    string = self.hash.sub(r'',string)\n",
        "    # string = re.compile(r\"#[a-zA-Z]+\").sub(r'',string)\n",
        "    string = self.unlatter.sub(r'',string)\n",
        "    string = self.space.sub(' ', string).strip()\n",
        "    string = self.url_1.sub('',string)\n",
        "    string = self.url_2.sub('',string)\n",
        "    string = self.url_3.sub('',string)\n",
        "    return string\n",
        "\n",
        "regex_pattern = Regex_pattern()"
      ],
      "execution_count": 86,
      "outputs": []
    },
    {
      "cell_type": "code",
      "metadata": {
        "id": "NZmxCi-zAIzP"
      },
      "source": [
        "df_sample = df.sample(100)\n",
        "for f in df_sample.tweet:\n",
        "  print('ori',f)\n",
        "  f = regex_pattern(f)\n",
        "  print('reg',f)"
      ],
      "execution_count": null,
      "outputs": []
    },
    {
      "cell_type": "code",
      "metadata": {
        "colab": {
          "base_uri": "https://localhost:8080/",
          "height": 204
        },
        "id": "D0TBbfBVAQw-",
        "outputId": "96823caf-a094-4cf3-9429-a3358c95a1f7"
      },
      "source": [
        "df['tweet_clean'] = df['tweet'].apply(lambda x: regex_pattern(x))\n",
        "df_clean = df[['tweet_clean','label']]\n",
        "df_clean.head()"
      ],
      "execution_count": 88,
      "outputs": [
        {
          "output_type": "execute_result",
          "data": {
            "text/html": [
              "<div>\n",
              "<style scoped>\n",
              "    .dataframe tbody tr th:only-of-type {\n",
              "        vertical-align: middle;\n",
              "    }\n",
              "\n",
              "    .dataframe tbody tr th {\n",
              "        vertical-align: top;\n",
              "    }\n",
              "\n",
              "    .dataframe thead th {\n",
              "        text-align: right;\n",
              "    }\n",
              "</style>\n",
              "<table border=\"1\" class=\"dataframe\">\n",
              "  <thead>\n",
              "    <tr style=\"text-align: right;\">\n",
              "      <th></th>\n",
              "      <th>tweet_clean</th>\n",
              "      <th>label</th>\n",
              "    </tr>\n",
              "  </thead>\n",
              "  <tbody>\n",
              "    <tr>\n",
              "      <th>0</th>\n",
              "      <td>when a father is dysfunctional and is so selfi...</td>\n",
              "      <td>0</td>\n",
              "    </tr>\n",
              "    <tr>\n",
              "      <th>1</th>\n",
              "      <td>thanks for lyft credit i can't use cause they ...</td>\n",
              "      <td>0</td>\n",
              "    </tr>\n",
              "    <tr>\n",
              "      <th>2</th>\n",
              "      <td>bihday your majesty</td>\n",
              "      <td>0</td>\n",
              "    </tr>\n",
              "    <tr>\n",
              "      <th>3</th>\n",
              "      <td>model i love u take with u all the time in ur...</td>\n",
              "      <td>0</td>\n",
              "    </tr>\n",
              "    <tr>\n",
              "      <th>4</th>\n",
              "      <td>factsguide: society now motivation</td>\n",
              "      <td>0</td>\n",
              "    </tr>\n",
              "  </tbody>\n",
              "</table>\n",
              "</div>"
            ],
            "text/plain": [
              "                                         tweet_clean  label\n",
              "0  when a father is dysfunctional and is so selfi...      0\n",
              "1  thanks for lyft credit i can't use cause they ...      0\n",
              "2                                bihday your majesty      0\n",
              "3  model i love u take with u all the time in ur...      0\n",
              "4                 factsguide: society now motivation      0"
            ]
          },
          "metadata": {
            "tags": []
          },
          "execution_count": 88
        }
      ]
    },
    {
      "cell_type": "code",
      "metadata": {
        "id": "D8N471hnAaFj"
      },
      "source": [
        "# save to csv\n",
        "df_clean.to_csv(configs.path_drive / 'dataset' / 'tweet.csv')"
      ],
      "execution_count": null,
      "outputs": []
    },
    {
      "cell_type": "markdown",
      "metadata": {
        "id": "e33V_yw7Acp_"
      },
      "source": [
        "## 5.Sws\n",
        "- Stormfront white supremacist 백인 우월주의자 포럼에서 수집된 데이터\n",
        "- hugging face api활용\n",
        "\n",
        "***- data labels***\n",
        "- 0: non toxic\n",
        "- 1: toxic\n",
        "- 2: 외국어\n",
        "- 3: 해당 문장은 toxic 하지 않지만, 맥락이 있으면 toxic (맥락은 제공되지 않음)\n"
      ]
    },
    {
      "cell_type": "code",
      "metadata": {
        "colab": {
          "base_uri": "https://localhost:8080/",
          "height": 320,
          "referenced_widgets": [
            "9b00d4fe9f3047a5b405f9d65136c6b3",
            "b3fbf24a952249a3904fa7939afb2f88",
            "db56fda28b0744b9b1c90bd4b0613e92",
            "bc35c6c959bf462589609f4ba5a949af",
            "d1192a79a7ff4b1884d5bef753933834",
            "08b9cf6debc449b286e575696f8d5976",
            "2ec0387d3cd74cd18917b63baf871848",
            "fa334a67329545b59cf13135160419ce",
            "2d22db336c2c45d38621cfa5e73c1ee3",
            "6953e36573d143109ebf493ff16c2555",
            "8eb17c0a85d7451981644981744612e6",
            "5280df59d4f14308a5870f6f8c92aee1",
            "9af955fb52f24b92bb08f93bfe388921",
            "860a5eb121134155a94a4ed10220a2f6",
            "db776f0430484247abb5ca0e56e107b7",
            "9a31262d4a71458aa6cbf27da78937c5",
            "15cbda51416740929e619d2ac75f1f20",
            "8556f520c84647559cd0204ea6328b1c",
            "cf0a24621d1245ef9042ab6c8dc6db7b",
            "c00d5a934ef742078a4be729b96f10b6",
            "2b212eda480e4c3c9d109be3e0267651",
            "f8316a9a0e6f42f48bcda35ff0968d8a",
            "9e4b790470bd4eecacb51b2c7d91c70b",
            "ad47fbed71264bb59d24cb06d7210746",
            "7874a4fababb4585ae06d781125c279f",
            "03e22676b3d94290b737e47c41672a04",
            "daea77b9257d4a2fb832018388fd01b7",
            "67db7391091f42ae8928f05982a2d8af",
            "ee82d91e6149416a9e5c7d1d9bcea83a",
            "dd4f6f7f2acf4fa287f6da9eb88b1ec0",
            "895c9dc5ac9f4a7c8051993754bb3ba0",
            "5135425d382f4496bb85ef86022df549"
          ]
        },
        "id": "5fLUZujyA3R9",
        "outputId": "c1512b5b-4500-461b-cfeb-2c65b5a8bf1a"
      },
      "source": [
        "df = load_dataset('hate_speech18')\n",
        "df = pd.DataFrame({'text': df['train']['text'], \n",
        "                   'label':df['train']['label'], \n",
        "                   'num_contexts':df['train']['num_contexts'] })\n",
        "\n",
        "# inbalance,,\n",
        "df.label.value_counts()\n"
      ],
      "execution_count": 89,
      "outputs": [
        {
          "output_type": "display_data",
          "data": {
            "application/vnd.jupyter.widget-view+json": {
              "model_id": "9b00d4fe9f3047a5b405f9d65136c6b3",
              "version_minor": 0,
              "version_major": 2
            },
            "text/plain": [
              "HBox(children=(FloatProgress(value=0.0, description='Downloading', max=1621.0, style=ProgressStyle(description…"
            ]
          },
          "metadata": {
            "tags": []
          }
        },
        {
          "output_type": "stream",
          "text": [
            "\n"
          ],
          "name": "stdout"
        },
        {
          "output_type": "display_data",
          "data": {
            "application/vnd.jupyter.widget-view+json": {
              "model_id": "2d22db336c2c45d38621cfa5e73c1ee3",
              "version_minor": 0,
              "version_major": 2
            },
            "text/plain": [
              "HBox(children=(FloatProgress(value=0.0, description='Downloading', max=992.0, style=ProgressStyle(description_…"
            ]
          },
          "metadata": {
            "tags": []
          }
        },
        {
          "output_type": "stream",
          "text": [
            "Using custom data configuration default\n"
          ],
          "name": "stderr"
        },
        {
          "output_type": "stream",
          "text": [
            "\n",
            "Downloading and preparing dataset hate_speech18/default (download: 3.49 MiB, generated: 1.31 MiB, post-processed: Unknown size, total: 4.81 MiB) to /root/.cache/huggingface/datasets/hate_speech18/default/0.0.0/8033f254483a20d1d10b0f1b56ded1f54326b1617872c537f354a721a6951d47...\n"
          ],
          "name": "stdout"
        },
        {
          "output_type": "display_data",
          "data": {
            "application/vnd.jupyter.widget-view+json": {
              "model_id": "15cbda51416740929e619d2ac75f1f20",
              "version_minor": 0,
              "version_major": 2
            },
            "text/plain": [
              "HBox(children=(FloatProgress(value=1.0, bar_style='info', description='Downloading', max=1.0, style=ProgressSt…"
            ]
          },
          "metadata": {
            "tags": []
          }
        },
        {
          "output_type": "stream",
          "text": [
            "\n"
          ],
          "name": "stdout"
        },
        {
          "output_type": "display_data",
          "data": {
            "application/vnd.jupyter.widget-view+json": {
              "model_id": "7874a4fababb4585ae06d781125c279f",
              "version_minor": 0,
              "version_major": 2
            },
            "text/plain": [
              "HBox(children=(FloatProgress(value=1.0, bar_style='info', max=1.0), HTML(value='')))"
            ]
          },
          "metadata": {
            "tags": []
          }
        },
        {
          "output_type": "stream",
          "text": [
            "\rDataset hate_speech18 downloaded and prepared to /root/.cache/huggingface/datasets/hate_speech18/default/0.0.0/8033f254483a20d1d10b0f1b56ded1f54326b1617872c537f354a721a6951d47. Subsequent calls will reuse this data.\n"
          ],
          "name": "stdout"
        },
        {
          "output_type": "execute_result",
          "data": {
            "text/plain": [
              "0    9507\n",
              "1    1196\n",
              "3     168\n",
              "2      73\n",
              "Name: label, dtype: int64"
            ]
          },
          "metadata": {
            "tags": []
          },
          "execution_count": 89
        }
      ]
    },
    {
      "cell_type": "code",
      "metadata": {
        "id": "PKlCPd8XBLxz"
      },
      "source": [
        "# label 0,1만 사용하였음\n",
        "df = df[ ((df.label == 0) | (df.label==1)) ]"
      ],
      "execution_count": 90,
      "outputs": []
    },
    {
      "cell_type": "code",
      "metadata": {
        "id": "aypvarJwAB29"
      },
      "source": [
        "# regex pattern for 백인우월주의 dataset\n",
        "class Regex_pattern():\n",
        "  def __init__(self):\n",
        "    self.emoji_pattern = re.compile(\"[\"\n",
        "                               u\"\\U0001F600-\\U0001F64F\"  # emoticons\n",
        "                               u\"\\U0001F300-\\U0001F5FF\"  # symbols & pictographs\n",
        "                               u\"\\U0001F680-\\U0001F6FF\"  # transport & map symbols\n",
        "                               u\"\\U0001F1E0-\\U0001F1FF\"  # flags (iOS)\n",
        "                               u\"\\U00002500-\\U00002BEF\"  # chinese char\n",
        "                               u\"\\U00002702-\\U000027B0\"u\"\\U00002702-\\U000027B0\"u\"\\U000024C2-\\U0001F251\"\n",
        "                               u\"\\U0001f926-\\U0001f937\"u\"\\U00010000-\\U0010ffff\"u\"\\u2640-\\u2642\"u\"\\u2600-\\u2B55\"\n",
        "                               u\"\\u200d\"u\"\\u23cf\"u\"\\u23e9\"u\"\\u231a\"u\"\\ufe0f\"u\"\\u3030\"\"]+\", flags=re.UNICODE)\n",
        "    self.comment_number = re.compile(\"[0-9]+.\")\n",
        "    self.url = re.compile(\"(?i)\\b((?:https?://|www\\d{0,3}[.]|[a-z0-9.\\-]+[.][a-z]{2,4}/)(?:[^\\s()<>]+|\\(([^\\s()<>]+|(\\([^\\s()<>]+\\)))*\\))+(?:\\(([^\\s()<>]+|(\\([^\\s()<>]+\\)))*\\)|[^\\s`!()\\[\\]{};:'\\\".,<>?«»“”‘’]))\")\n",
        "    self.user = re.compile(r\"@[a-zA-Z]+\")\n",
        "    self.hash = re.compile(r\"#\")\n",
        "    self.unlatter = re.compile(\"[âð±ïó¾¬ª¯¶¦â¡©§¸©¹¼¥¤ã»ÃÀÁÂÃÄÅ½º¢µ$|¿°«à]\")\n",
        "    self.space = re.compile(r\"\\s+\") # too many space\n",
        "    self.url_1 = re.compile('http[s]?://(?:[a-zA-Z]|[0-9]|[$\\-@\\.&+:/?=]|[!*\\(\\),]|(?:%[0-9a-fA-F][0-9a-fA-F]))+')\n",
        "    self.url_2 = re.compile('www(?:[a-zA-Z]|[0-9]|[$\\-@\\.&+:/?=]|[!*\\(\\),]|(?:%[0-9a-fA-F][0-9a-fA-F]))+')\n",
        "    self.url_3 = re.compile('http[s]? : // (?:[a-zA-Z]|[0-9]|[$\\-@\\.&+:/?=]|[!*\\(\\),]|(?:%[0-9a-fA-F][0-9a-fA-F]))+')\n",
        "\n",
        "  def __call__(self, string):\n",
        "    string = self.emoji_pattern.sub(r'', string)\n",
        "    # string = regex_pattern.comment_number.sub(r'',string)\n",
        "    string = self.url.sub(r'',string)\n",
        "    # user @ tag는 전체 삭제\n",
        "    string = self.user.sub(r'',string)\n",
        "    # #tag 해시태그는 #해시 문자만 삭제\n",
        "    string = self.hash.sub(r'',string)\n",
        "    # string = re.compile(r\"#[a-zA-Z]+\").sub(r'',string)\n",
        "    string = self.unlatter.sub(r'',string)\n",
        "    string = self.space.sub(' ', string).strip()\n",
        "    string = self.url_1.sub('',string)\n",
        "    string = self.url_2.sub('',string)\n",
        "    string = self.url_3.sub('',string)\n",
        "    return string\n",
        "\n",
        "regex_pattern = Regex_pattern()"
      ],
      "execution_count": 91,
      "outputs": []
    },
    {
      "cell_type": "code",
      "metadata": {
        "id": "ER0294SYBQk_"
      },
      "source": [
        "df_sample = df.sample(100)\n",
        "for f in df_sample.text:\n",
        "  print('ori',f)\n",
        "  f = regex_pattern(f)\n",
        "  print('reg',str(f))"
      ],
      "execution_count": null,
      "outputs": []
    },
    {
      "cell_type": "code",
      "metadata": {
        "id": "k4XAPAuxBa8h"
      },
      "source": [
        "# apply regex pattren\n",
        "df['text_clean'] = df['text'].apply(lambda x: regex_pattern(x))"
      ],
      "execution_count": 96,
      "outputs": []
    },
    {
      "cell_type": "code",
      "metadata": {
        "id": "fGwVfZbLBQeV"
      },
      "source": [
        "# token 2개 이하, 삭제되지 않은 url, 한단어, 공백 제거\n",
        "less_comment = df.index[df['text_clean'].apply(lambda x : len(x.split(' '))) < 3]\n",
        "for i in df.loc[less_comment].text_clean:\n",
        "  print(i)"
      ],
      "execution_count": null,
      "outputs": []
    },
    {
      "cell_type": "code",
      "metadata": {
        "id": "HeAluPD8BjnQ"
      },
      "source": [
        "# save to csv\n",
        "df = df.drop(less_comment)\n",
        "df_clean = df[['text_clean','label']].rename({'text_clean':'text'}, axis=1)\n",
        "df_clean.to_csv(configs.path_drive / 'dataset' / 'hate_speech18.csv')"
      ],
      "execution_count": null,
      "outputs": []
    },
    {
      "cell_type": "markdown",
      "metadata": {
        "id": "wVZ4djIRB3BY"
      },
      "source": [
        "# Merge All Collected Data set"
      ]
    },
    {
      "cell_type": "code",
      "metadata": {
        "id": "cWPwcHcpB2iW"
      },
      "source": [
        "def get_data_csv_path(configs, condition):\n",
        "  condition = condition\n",
        "  return [f for f in configs.path['list_csv'] if f'{condition}' in str(f)][0]\n",
        "\n",
        "list_csv = [f for f in Path('/toxic_nlp/dataset').glob('*') if '.csv' in str(f)]\n",
        "list_csv"
      ],
      "execution_count": null,
      "outputs": []
    },
    {
      "cell_type": "code",
      "metadata": {
        "id": "pFvoDQHmCBix"
      },
      "source": [
        "df_cat_gabreddit = pd.read_csv([f for f in list_csv if 'generated_dataset.csv' in str(f)][0])\n",
        "df_hate_speech = pd.read_csv([f for f in list_csv if 'hate_speech18.csv' in str(f)][0])\n",
        "df_jig_train = pd.read_csv([f for f in list_csv if 'jig_train.csv' in str(f)][0])\n",
        "df_tweet = pd.read_csv([f for f in list_csv if 'tweet.csv' in str(f)][0])"
      ],
      "execution_count": null,
      "outputs": []
    },
    {
      "cell_type": "code",
      "metadata": {
        "id": "95fr6MPaCGhx"
      },
      "source": [
        "# check duplicated\n",
        "sum(df_cat_gabreddit.duplicated())\n",
        "sum(df_hate_speech.duplicated())\n",
        "sum(df_jig_train.duplicated())\n",
        "sum(df_tweet.duplicated())"
      ],
      "execution_count": null,
      "outputs": []
    },
    {
      "cell_type": "code",
      "metadata": {
        "id": "Hbz-TpdTCdsB"
      },
      "source": [
        "# concat\n",
        "df_merged = pd.concat([df_cat_gabreddit,df_tweet, df_jig_train, df_hate_speech], axis = 0, ignore_index=True)\n",
        "# clear colunm name\n",
        "df_merged.reset_index(inplace=True)\n",
        "df_merged.drop(columns=['Unnamed: 0','index'], axis=1, inplace=True)\n",
        "# check duplicated\n",
        "df_merged[df_merged.duplicated()]\n",
        "# save to csv\n",
        "df_merged.to_csv('/toxic_nlp/dataset/merged.csv')"
      ],
      "execution_count": null,
      "outputs": []
    },
    {
      "cell_type": "markdown",
      "metadata": {
        "id": "dKIYqMx1Cq4u"
      },
      "source": [
        "# Split test set with same ratio\n",
        "- 데이터 출처마다 sample size 차이가 크게 난다.\n",
        "  - 전체 데이터에서 임의의 비율로 test set을 분리하면, 15만건으로 가장 많은 데이터 비율을 가진 Keggle set이 대부분을 차지하게 되는 문제가 발생한다.\n",
        "- ***데이터 출처와 label의 비율(15%)을 맞추면서 test set 구성***\n",
        "- `Sklearn StratifiedShuffleSplit` 활용\n"
      ]
    },
    {
      "cell_type": "code",
      "metadata": {
        "id": "zofwWHq-DxqF"
      },
      "source": [
        "from google.colab import drive\n",
        "drive.mount('/content/gdrive',force_remount=True)\n",
        "\n",
        "!ln -s /content/gdrive/My\\ Drive/toxic_nlp /toxic_nlp\n",
        "!ls /toxic_nlp\n",
        "\n",
        "from pathlib import Path\n",
        "import pandas as pd"
      ],
      "execution_count": null,
      "outputs": []
    },
    {
      "cell_type": "code",
      "metadata": {
        "colab": {
          "base_uri": "https://localhost:8080/"
        },
        "id": "CluXHL88D4T1",
        "outputId": "f0574fda-4756-4ec2-ebc2-be045818771d"
      },
      "source": [
        "list_csv = [f for f in Path('/toxic_nlp/dataset').glob('*') if '.csv' in str(f)]\n",
        "list_csv\n",
        "df = pd.read_csv([f for f in list_csv if 'merged.csv' in str(f)][0])\n",
        "df.drop(['Unnamed: 0','Unnamed: 0.1'], axis=1, inplace=True)"
      ],
      "execution_count": 99,
      "outputs": [
        {
          "output_type": "stream",
          "text": [
            "/usr/local/lib/python3.7/dist-packages/IPython/core/interactiveshell.py:2718: DtypeWarning: Columns (2,5,6) have mixed types.Specify dtype option on import or set low_memory=False.\n",
            "  interactivity=interactivity, compiler=compiler, result=result)\n"
          ],
          "name": "stderr"
        }
      ]
    },
    {
      "cell_type": "code",
      "metadata": {
        "id": "mRklf5viC0cY"
      },
      "source": [
        "from sklearn.model_selection import train_test_split, StratifiedShuffleSplit\n",
        "df_train = df.copy()"
      ],
      "execution_count": 100,
      "outputs": []
    },
    {
      "cell_type": "code",
      "metadata": {
        "id": "wrb8NNScDAm0"
      },
      "source": [
        "def data_loader(df, condition):\n",
        "  return df[df.src==condition].reset_index(), df[df.src == condition].reset_index()['label']"
      ],
      "execution_count": 101,
      "outputs": []
    },
    {
      "cell_type": "code",
      "metadata": {
        "id": "lVnvvxlJDD7o"
      },
      "source": [
        "split = StratifiedShuffleSplit(n_splits=1, test_size=0.15, random_state=42)\n",
        "train_sets = []\n",
        "test_sets = []\n",
        "for i in [0,1,2,3]:\n",
        "  dataset, label = data_loader(df_train, i)\n",
        "  for train_idx, val_idx in split.split( dataset, label):\n",
        "    train_sets.append(dataset.loc[train_idx]) \n",
        "    test_sets.append(dataset.loc[val_idx])"
      ],
      "execution_count": 102,
      "outputs": []
    },
    {
      "cell_type": "code",
      "metadata": {
        "colab": {
          "base_uri": "https://localhost:8080/"
        },
        "id": "SetCFSyjDpwu",
        "outputId": "520c6718-3e5f-4afb-92ad-692c69286df9"
      },
      "source": [
        "# train set 구성\n",
        "for i in [0,1,2,3]:\n",
        "  print(train_sets[i].src.value_counts())\n",
        "  print(test_sets[i].label.value_counts())"
      ],
      "execution_count": 103,
      "outputs": [
        {
          "output_type": "stream",
          "text": [
            "0    25294\n",
            "Name: src, dtype: int64\n",
            "1    2590\n",
            "0    1874\n",
            "Name: label, dtype: int64\n",
            "1    135235\n",
            "Name: src, dtype: int64\n",
            "0    21621\n",
            "1     2244\n",
            "Name: label, dtype: int64\n",
            "2    8715\n",
            "Name: src, dtype: int64\n",
            "0    1359\n",
            "1     179\n",
            "Name: label, dtype: int64\n",
            "3    27167\n",
            "Name: src, dtype: int64\n",
            "0    4459\n",
            "1     336\n",
            "Name: label, dtype: int64\n"
          ],
          "name": "stdout"
        }
      ]
    },
    {
      "cell_type": "code",
      "metadata": {
        "id": "G4MVDeV_EECX"
      },
      "source": [
        "df_train_merged = pd.concat([train_sets[0],train_sets[1],train_sets[2],train_sets[3]], ignore_index=True)\n",
        "df_tset_merged = pd.concat([test_sets[0],test_sets[1],test_sets[2],test_sets[3]], ignore_index=True)\n",
        "\n",
        "df_train_merged.to_csv('/toxic_nlp/dataset/exp_v1_train.csv')\n",
        "df_tset_merged.to_csv('/toxic_nlp/dataset/exp_v1_test.csv')"
      ],
      "execution_count": null,
      "outputs": []
    },
    {
      "cell_type": "code",
      "metadata": {
        "id": "WeKpJHmwEVb6"
      },
      "source": [
        "# generated text & parent concat\n",
        "df_gan = ( df_train_merged[['parent_gen','text_gen','label']]\n",
        "          .rename(columns={'parent_gen':'parent','text_gen':'text'})\n",
        "          .dropna() )\n",
        "\n",
        "pd.concat([df_train_merged,df_gan], axis=0).to_csv('/toxic_nlp/dataset/exp_v1_gan_merged.csv')\n",
        "\n",
        "df_gan_ori = ( df_gan_merged[df_gan_merged.src==0][['parent_gen','text','label']].\n",
        "              rename(columns={'parent_gen':'parent'}) )\n",
        "# df_gan_ori\n",
        "# ori-ori + gan_gan + gan_ori condition. \n",
        "pd.concat([df_gan_merged, df_gan_ori], axis=0).to_csv('/toxic_nlp/dataset/exp_v2_gan_merged.csv')"
      ],
      "execution_count": null,
      "outputs": []
    }
  ]
}